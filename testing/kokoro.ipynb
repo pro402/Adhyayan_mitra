{
 "cells": [
  {
   "cell_type": "code",
   "execution_count": 11,
   "id": "73172025",
   "metadata": {},
   "outputs": [
    {
     "name": "stdout",
     "output_type": "stream",
     "text": [
      "WARNING: Defaulting repo_id to hexgrad/Kokoro-82M. Pass repo_id='hexgrad/Kokoro-82M' to suppress this warning.\n"
     ]
    },
    {
     "name": "stderr",
     "output_type": "stream",
     "text": [
      "/home/prasun/Desktop/ADHYAYAN_MITRA/.venv/lib/python3.12/site-packages/torch/nn/modules/rnn.py:123: UserWarning: dropout option adds dropout after all but last recurrent layer, so non-zero dropout expects num_layers greater than 1, but got dropout=0.2 and num_layers=1\n",
      "  warnings.warn(\n",
      "/home/prasun/Desktop/ADHYAYAN_MITRA/.venv/lib/python3.12/site-packages/torch/nn/utils/weight_norm.py:143: FutureWarning: `torch.nn.utils.weight_norm` is deprecated in favor of `torch.nn.utils.parametrizations.weight_norm`.\n",
      "  WeightNorm.apply(module, name, dim)\n"
     ]
    }
   ],
   "source": [
    "# 3️⃣ Initalize a pipeline\n",
    "from kokoro import KPipeline\n",
    "from IPython.display import display, Audio\n",
    "import soundfile as sf\n",
    "import torch\n",
    "# 🇺🇸 'a' => American English, 🇬🇧 'b' => British English\n",
    "# 🇪🇸 'e' => Spanish es\n",
    "# 🇫🇷 'f' => French fr-fr\n",
    "# 🇮🇳 'h' => Hindi hi\n",
    "# 🇮🇹 'i' => Italian it\n",
    "# 🇯🇵 'j' => Japanese: pip install misaki[ja]\n",
    "# 🇧🇷 'p' => Brazilian Portuguese pt-br\n",
    "# 🇨🇳 'z' => Mandarin Chinese: pip install misaki[zh]\n",
    "pipeline = KPipeline(lang_code='a') # <= make sure lang_code matches voice, reference above.\n",
    "\n",
    "# This text is for demonstration purposes only, unseen during training\n",
    "text = '''\n",
    "The sky above the port was the color of television, tuned to a dead channel.\n",
    "\"It's not like I'm using,\" Case heard someone say, as he shouldered his way through the crowd around the door of the Chat. \"It's like my body's developed this massive drug deficiency.\"\n",
    "It was a Sprawl voice and a Sprawl joke. The Chatsubo was a bar for professional expatriates; you could drink there for a week and never hear two words in Japanese.\n",
    "\n",
    "These were to have an enormous impact, not only because they were associated with Constantine, but also because, as in so many other areas, the decisions taken by Constantine (or in his name) were to have great significance for centuries to come. One of the main issues was the shape that Christian churches were to take, since there was not, apparently, a tradition of monumental church buildings when Constantine decided to help the Christian church build a series of truly spectacular structures. The main form that these churches took was that of the basilica, a multipurpose rectangular structure, based ultimately on the earlier Greek stoa, which could be found in most of the great cities of the empire. Christianity, unlike classical polytheism, needed a large interior space for the celebration of its religious services, and the basilica aptly filled that need. We naturally do not know the degree to which the emperor was involved in the design of new churches, but it is tempting to connect this with the secular basilica that Constantine completed in the Roman forum (the so-called Basilica of Maxentius) and the one he probably built in Trier, in connection with his residence in the city at a time when he was still caesar.\n",
    "\n",
    "[Kokoro](/kˈOkəɹO/) is an open-weight TTS model with 82 million parameters. Despite its lightweight architecture, it delivers comparable quality to larger models while being significantly faster and more cost-efficient. With Apache-licensed weights, [Kokoro](/kˈOkəɹO/) can be deployed anywhere from production environments to personal projects.\n",
    "'''\n",
    "# text = '「もしおれがただ偶然、そしてこうしようというつもりでなくここに立っているのなら、ちょっとばかり絶望するところだな」と、そんなことが彼の頭に思い浮かんだ。'\n",
    "# text = '中國人民不信邪也不怕邪，不惹事也不怕事，任何外國不要指望我們會拿自己的核心利益做交易，不要指望我們會吞下損害我國主權、安全、發展利益的苦果！'\n",
    "# text = 'Los partidos políticos tradicionales compiten con los populismos y los movimientos asamblearios.'\n",
    "# text = 'Le dromadaire resplendissant déambulait tranquillement dans les méandres en mastiquant de petites feuilles vernissées.'\n",
    "# text = 'ट्रांसपोर्टरों की हड़ताल लगातार पांचवें दिन जारी, दिसंबर से इलेक्ट्रॉनिक टोल कलेक्शनल सिस्टम'\n",
    "# text = \"Allora cominciava l'insonnia, o un dormiveglia peggiore dell'insonnia, che talvolta assumeva i caratteri dell'incubo.\"\n",
    "# text = 'Elabora relatórios de acompanhamento cronológico para as diferentes unidades do Departamento que propõem contratos.'\n",
    "\n",
    "# 4️⃣ Generate, display, and save audio files in a loop.\n",
    "generator = pipeline(\n",
    "    text, voice='af_heart', # <= change voice here\n",
    "    speed=1, \n",
    "    split_pattern=r'\\n+'\n",
    ")\n",
    "# Alternatively, load voice tensor directly:\n",
    "# voice_tensor = torch.load('path/to/voice.pt', weights_only=True)\n",
    "# generator = pipeline(\n",
    "#     text, voice=voice_tensor,\n",
    "#     speed=1, split_pattern=r'\\n+'\n",
    "# )\n",
    "\n",
    "for i, (gs, ps, audio) in enumerate(generator):\n",
    "    # print(i)  # i => index\n",
    "    # print(gs) # gs => graphemes/text\n",
    "    # print(ps) # ps => phonemes\n",
    "    # display(Audio(data=audio, rate=24000, autoplay=i==0))\n",
    "    sf.write(f'./audio_chunks/{i}.wav', audio, 24000) # save each audio file"
   ]
  },
  {
   "cell_type": "code",
   "execution_count": 10,
   "id": "2c568bad",
   "metadata": {},
   "outputs": [
    {
     "name": "stdout",
     "output_type": "stream",
     "text": [
      "Successfully merged 8 files into merged_output.wav\n"
     ]
    }
   ],
   "source": [
    "from pydub import AudioSegment\n",
    "import os\n",
    "\n",
    "def merge_wav_files_pydub(directory, output_path):\n",
    "    # Get all wav files in the directory\n",
    "    wav_files = []\n",
    "    i = 0\n",
    "    while True:\n",
    "        file_path = os.path.join(directory, f\"{i}.wav\")\n",
    "        if os.path.exists(file_path):\n",
    "            wav_files.append(file_path)\n",
    "            i += 1\n",
    "        else:\n",
    "            break\n",
    "    \n",
    "    if not wav_files:\n",
    "        print(\"No wav files found.\")\n",
    "        return\n",
    "    \n",
    "    # Load the first file\n",
    "    combined = AudioSegment.from_wav(wav_files[0])\n",
    "    \n",
    "    # Append all other files\n",
    "    for file_path in wav_files[1:]:\n",
    "        audio = AudioSegment.from_wav(file_path)\n",
    "        combined += audio\n",
    "    \n",
    "    # Export the combined audio\n",
    "    combined.export(output_path, format=\"mp3\")\n",
    "    print(f\"Successfully merged {len(wav_files)} files into {output_path}\")\n",
    "\n",
    "# Example usage\n",
    "merge_wav_files_pydub(\"audio_chunks\", \"merged_output.wav\")\n"
   ]
  },
  {
   "cell_type": "code",
   "execution_count": null,
   "id": "2404c03c",
   "metadata": {},
   "outputs": [],
   "source": [
    "# from gtts import gTTS\n",
    "# # gTTS is a Python library and CLI tool to interface with Google Translate's text-to-speech API.\n",
    "# # It uses the same API as Google Translate, which means it can be used to generate speech in multiple languages.\n",
    "# # gTTS is a simple and easy-to-use library that allows you to convert text to speech in a variety of languages.\n",
    "# # It supports multiple languages, including English, Spanish, French, German, Italian, Portuguese, Dutch, Russian, Chinese, Japanese, and Korean.\n",
    "# # gTTS is a great tool for generating speech in multiple languages, and it can be used to create audio files for a variety of applications.\n",
    "\n",
    "# text = text\n",
    "# tts = gTTS(text, lang='en', slow=False)\n",
    "# tts.save('gtts.mp3')\n",
    "# # Play the audio file\n",
    "# display(Audio('gtts.mp3', autoplay=True))"
   ]
  }
 ],
 "metadata": {
  "kernelspec": {
   "display_name": ".venv",
   "language": "python",
   "name": "python3"
  },
  "language_info": {
   "codemirror_mode": {
    "name": "ipython",
    "version": 3
   },
   "file_extension": ".py",
   "mimetype": "text/x-python",
   "name": "python",
   "nbconvert_exporter": "python",
   "pygments_lexer": "ipython3",
   "version": "3.12.3"
  }
 },
 "nbformat": 4,
 "nbformat_minor": 5
}
