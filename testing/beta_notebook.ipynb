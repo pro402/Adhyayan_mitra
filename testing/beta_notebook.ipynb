{
 "cells": [
  {
   "cell_type": "markdown",
   "id": "d0d01af7",
   "metadata": {},
   "source": [
    "## Testing"
   ]
  },
  {
   "cell_type": "code",
   "execution_count": 1,
   "id": "a6c2c657",
   "metadata": {},
   "outputs": [],
   "source": [
    "import sys\n",
    "import os\n",
    "\n",
    "# Add the parent directory to the path so Python can find the components\n",
    "sys.path.append(os.path.abspath('..'))"
   ]
  },
  {
   "cell_type": "code",
   "execution_count": 2,
   "id": "c17ea98b",
   "metadata": {},
   "outputs": [
    {
     "name": "stdout",
     "output_type": "stream",
     "text": [
      "Processing: /home/prasun/Desktop/ADHYAYAN_MITRA/components/transcripter_api/recording.mp3\n"
     ]
    },
    {
     "name": "stderr",
     "output_type": "stream",
     "text": [
      "Due to a bug fix in https://github.com/huggingface/transformers/pull/28687 transcription using a multilingual Whisper will default to language detection followed by transcription instead of translation to English.This might be a breaking change for your use case. If you want to instead always translate your audio to English, make sure to pass `language='en'`.\n",
      "The attention mask is not set and cannot be inferred from input because pad token is same as eos token. As a consequence, you may observe unexpected behavior. Please pass your input's `attention_mask` to obtain reliable results.\n"
     ]
    },
    {
     "name": "stdout",
     "output_type": "stream",
     "text": [
      "Transcription completed in 13.8s\n",
      "Transcript saved to /home/prasun/Desktop/ADHYAYAN_MITRA/components/transcripter_api/transcript.txt\n",
      " Alright, let me try to talk through what I remember from the rise of nationalism in Europe. I'll just say what comes to mind and see where I get stuck. So, a nation is basically a big group of people who share things like language, history and I think live under one government. I remember reading about Frederick Sorio. He was some French artist in 1848. He made these prints showing people from different countries marching together towards the Statue of Liberty.  I think those stood for the end of old monarchy or something, but I'm not totally sure. The French Revolution was a big deal for nationalism. It made people in France feel more united, and they set up a republic after getting rid of the king. Then Napoleon came, and he made a lot of changes. I know he made everyone equal before the law and got rid of privileges by birth, but I'm a bit fuzzy on what else he did. Maybe something about proper  rights and making travel or business easier. For Italy, I remember Giuseppe Medzini started young Italy and wanted all the small states to join together. There were some failed attempts but then Sardini appeed Montt took over, led by Cavalry. Garibaldi helped in the south and eventually Victor Emmanuel II became king over United Italy. I can't remember the exact year though, maybe 1861, Germany was also split into lots of  states. The Frank Fertisembley tried to unite them, but the king of Prussia said no. Later, Bismarck, who was like the chief minister, fought wars with Denmark, Austria and France. After winning those, Germany got united, and the Prussian king became Kaiser William. I think this happened in 1871, but I should double check. There were also these female symbols, Marianne for France and Germany. Marianne had a red cap, and  was on Coins and Stamps.  But I should probably read more about that. So, yeah, I remember the main events, but I definitely need to review Napoleon's reforms, the exact years of unification, and the whole nationalism versus imperialism thing. And why they used female allegories for nations? Still not clear on that.\n"
     ]
    }
   ],
   "source": [
    "from components.transcripter_api import transcripter \n",
    "\n",
    "trans_result = transcripter.transcribe_audio()\n",
    "print(trans_result)"
   ]
  },
  {
   "cell_type": "code",
   "execution_count": 3,
   "id": "5fd85209",
   "metadata": {},
   "outputs": [
    {
     "data": {
      "text/plain": [
       "\" Alright, let me try to talk through what I remember from the rise of nationalism in Europe. I'll just say what comes to mind and see where I get stuck. So, a nation is basically a big group of people who share things like language, history and I think live under one government. I remember reading about Frederick Sorio. He was some French artist in 1848. He made these prints showing people from different countries marching together towards the Statue of Liberty.  I think those stood for the end of old monarchy or something, but I'm not totally sure. The French Revolution was a big deal for nationalism. It made people in France feel more united, and they set up a republic after getting rid of the king. Then Napoleon came, and he made a lot of changes. I know he made everyone equal before the law and got rid of privileges by birth, but I'm a bit fuzzy on what else he did. Maybe something about proper  rights and making travel or business easier. For Italy, I remember Giuseppe Medzini started young Italy and wanted all the small states to join together. There were some failed attempts but then Sardini appeed Montt took over, led by Cavalry. Garibaldi helped in the south and eventually Victor Emmanuel II became king over United Italy. I can't remember the exact year though, maybe 1861, Germany was also split into lots of  states. The Frank Fertisembley tried to unite them, but the king of Prussia said no. Later, Bismarck, who was like the chief minister, fought wars with Denmark, Austria and France. After winning those, Germany got united, and the Prussian king became Kaiser William. I think this happened in 1871, but I should double check. There were also these female symbols, Marianne for France and Germany. Marianne had a red cap, and  was on Coins and Stamps.  But I should probably read more about that. So, yeah, I remember the main events, but I definitely need to review Napoleon's reforms, the exact years of unification, and the whole nationalism versus imperialism thing. And why they used female allegories for nations? Still not clear on that.\""
      ]
     },
     "execution_count": 3,
     "metadata": {},
     "output_type": "execute_result"
    }
   ],
   "source": [
    "trans_result"
   ]
  },
  {
   "cell_type": "code",
   "execution_count": 4,
   "id": "fed1cb1a",
   "metadata": {},
   "outputs": [
    {
     "name": "stdout",
     "output_type": "stream",
     "text": [
      "model='models/gemini-2.0-flash' google_api_key=SecretStr('**********') temperature=0.0 max_output_tokens=8192 client=<google.ai.generativelanguage_v1beta.services.generative_service.client.GenerativeServiceClient object at 0x778f55c13140> default_metadata=()\n",
      "gemini-2.0-flash\n",
      "google_genai\n"
     ]
    }
   ],
   "source": [
    "from components.select_llm import google_genai\n",
    "llm, model, provider = google_genai.set_llm(\n",
    "    model = \"gemini-2.0-flash\",\n",
    ")\n",
    "\n",
    "print(llm)\n",
    "print(model)\n",
    "print(provider)"
   ]
  },
  {
   "cell_type": "code",
   "execution_count": 5,
   "id": "a7f600b9",
   "metadata": {},
   "outputs": [
    {
     "name": "stdout",
     "output_type": "stream",
     "text": [
      "Document has 1686 tokens. Using raw document.\n",
      "## The Rise of Nationalism in Europe Class 10 Notes History Chapter 1\n",
      "\n",
      "The Rise of Nationalism in Europe Class 10 Notes Social Science History Chapter 1 SST Pdf free download is part of [Class 10 Social Science Notes](https:/www.learncbse.in/class-10-social-science-notes) for Quick Revision. Here we have given The Rise of Nationalism in Europe Class 10 History Chapter 1 Notes. According to new CBSE Exam Pattern, [MCQ Questions For Class 10 Social Science with Answers](https:/www.learncbse.in/mcq-questions-for-class-10-social-science-with-answers) Carries 20 Marks.\n",
      "\n",
      "| Board        | CBSE                              |\n",
      "|--------------|-----------------------------------|\n",
      "| Textbook     | NCERT                             |\n",
      "| Class        | Class 10                          |\n",
      "| Subject      | Social Science Notes              |\n",
      "| Chapter      | History Chapter 1                 |\n",
      "| Chapter Name | The Rise of Nationalism in Europe |\n",
      "| Category     | CBSE Revision Notes               |\n",
      "\n",
      "### \n",
      "\n",
      "### The Rise of Nationalism in Europe Class 10 Notes Social Science History Chapter 1\n",
      "\n",
      "**Nation (State):** A large number of people of mainly common descent, language, history, inhabiting a territory bounded by defined limits and forming a society under one government is called a nation.\n",
      "\n",
      "**Frederic Sorrieu and his visualization:** In 1848, Frederic Sorrieu, a French artist, prepared a series of four prints, visualizing his dream of a world made up of ‘democratic and social republics’, as he called them.\n",
      "\n",
      "- The first print shows the people of Europe and America marching in a long train, and offering homage to the Statue of Liberty as they pass by it. A female figure carries a torch of enlightenment in one hand and the Charter of the Rights of Man, in the other hand.\n",
      "- On the earth lies the shattered remains of the symbols of absolutist institutions.\n",
      "- In Sorrieu’s Utopian vision, the people of the world are grouped as distinct nations, identified through their flags and national costumes.\n",
      "- Leading the procession are USA and Switzerland, followed by France and Germany. Following Germany are Austria, Kingdom of the two Sicilies, Lombardy, Poland, England, Ireland, Hungary and Russia.\n",
      "- From the heavens above, Christ, saints and angels gaze at the scene. The artist symbolizes fraternity among the nations of the world.\n",
      "\n",
      "**The French Revolution and the idea of Nation:**\n",
      "\n",
      "- Growth of nationalism in France.\n",
      "- Introduction of various measures and practices created sense of collective identity among the people of France.\n",
      "- Change of monarchy and establishment of republic, creation of new assembly.\n",
      "- Rise of Napoleon and his reforms. Revolutionaries help other people of Europe to become nation.\n",
      "\n",
      "**The making of Nationalism in Europe:**\n",
      "\n",
      "- Germany, Italy and Switzerland were divided into Kingdom, duchies and cantones these divisions were having their autonomous rulers.\n",
      "- Uses of different languages.\n",
      "- Rise of middle class.\n",
      "- Industrialization in England, emergence of a working class and liberalism.\n",
      "- New conservation after 1815 and preservation of traditional institution.\n",
      "- After the defeat of Napoleon, the European government follows the spirit of conservatism. Conservative regimes were autocratic Revolutionaries at that time fought for liberty and freedom.\n",
      "Example, Mazzini’s young Italy and Young Europe.\n",
      "\n",
      "**Unification of Italy:** Giuseppe Mazzini had played an important role in the unification of Italy. He formed a secret society called ‘Young Italy’ in Marseilles, to spread his goals. He believed Italy could not continue to be a patchwork of small states and had to be forged into a single unified republic. During 1830’s, Mazzini sought to put together a coherent programme for a unitary Italian Republic. As uprisings in 1831 and 1848 had failed, the mantle now fell on Sardinia-Piedmont under its ruler Emmanuel II to unify Italy.\n",
      "\n",
      "Under Chief Minister Cavour, Sardinia-Piedmont succeeded in destroying the Austrian forces in 1859. Even Garibaldi joined the fray. In 1860, they marched into South Italy and the kingdom of the two Sicilies and with the help of the local peasants, drove out the Spanish rulers. In 1861, Victor Emmanuel II was proclaimed as King of United Italy.\n",
      "\n",
      "**Unification of Germany:** In the 18th century, Germany was divided into a number of states. Some of these states ceased to exist during the Napoleonic wars. At the end of the war, there were still 39 independent states in Germany. Prussia was most powerful, dominated by big landlords known as Junkers.\n",
      "\n",
      "- Nationalist feelings were widespread among middle class Germans who had tried to unite the different regions of the German federation into a nation-state governed by an elected Parliament.\n",
      "- In May 1848, a large number of political associations came together to vote for an all-German National Assembly. Their representatives met at Frankfurt and the Frankfurt Assembly proposed the unification of Germany as a constitutional monarchy under the King of Prussia as emperor\n",
      "- The King of Prussia rejected the offer and the liberal initiative of nation building was repressed by the combined forces of the monarchy, the military and the ‘Junkers’.\n",
      "- Then on, Prussia under its Chief Minister Otto Von Bismarck led the movement for unification of Germany. Bismarck carried out this process with the help of the Prussian army and the bureaucracy. He fought three wars over seven years with Denmark, Austria and France. Prussia was victorious in all these wars and the process of unification was completed as a result of Prussia’s victory over France.\n",
      "- Consequently, on 18th January 1871, an assembly comprising of princes of German States, representatives of the army, important Prussian ministers and Bismarck gathered in the Palace of Versailles and proclaimed the Prussian King, Kaiser William, the new German Emperor.\n",
      "\n",
      "**Visualizing the Nation:** Marianne and Germania were both female allegories used by artists in the 19th century to represent the nation.\n",
      "\n",
      "- In France she was named Marianne, a popular Christian name, which underlined the idea of a people’s nation. Her characteristics were drawn from those of liberty and republic—the red cap, the tri-colour, the cockade. Statues of Marianne were erected in public squares as a national symbol of unity. Marianne images were marked on coins and stamps.\n",
      "- Instead of just having the idea of father land, they wanted to implant a suitable image in the minds of the people. They invariably chose the mother figure symbolizing nations—Britannia, Germania and Marianne reminding us of our concept of Matribhumi.\n",
      "- Germania became the allegory of the German nation. Germania wears a crown of oak leaves as German oak stands for heroism. It was hung from the ceiling of St. Paul’s Church, where Frankfurt Parliament was convened, to symbolize the liberal revolution.\n",
      "\n",
      "**Napoleonic Code:**\n",
      "\n",
      "- The first major change was doing away with all privileges based on birth, establishing equality before law and securing the right to property.\n",
      "- Administrative divisions were simplified.\n",
      "- Feudal system was abolished and peasants were freed from serfdom and manorial dues (abuse of manorial lords).\n",
      "- In towns, guild restrictions were removed.\n",
      "- Transport and communication systems were improved.\n",
      "- Peasants, artisans, workers and new businessmen enjoyed a new found freedom.\n",
      "- Businessmen and small-scale producers of goods in particular began to realize that uniform laws, standardized weights and measures and a common national currency would facilitate the movement and exchange of goods and capital from one region to another.\n",
      "\n",
      "**Nationalism and Imperialism:** Last quarter of the 19th century nationalism became a narrow creed with limited ends, Intolerance Balkan became the sense of big power rivalry Nationalism, aligned with imperialism cause of World War I. Idea of a Nationalism was now same everywhere . But concept of National State was accepted universally.\n"
     ]
    }
   ],
   "source": [
    "from components.doc_pipeline.pipeline import DocumentProcessor\n",
    "\n",
    "doc_result = DocumentProcessor(\n",
    "    llm=llm,\n",
    "    provider=provider,\n",
    ").process_document()\n",
    "\n",
    "print(doc_result)"
   ]
  },
  {
   "cell_type": "markdown",
   "id": "a9eac463",
   "metadata": {},
   "source": [
    "# Building the Gap_Analysis Pipeline"
   ]
  },
  {
   "cell_type": "code",
   "execution_count": 6,
   "id": "c5eb1a17",
   "metadata": {},
   "outputs": [],
   "source": [
    "from components.gap_analyzer import analyzer\n",
    "\n",
    "analysis = analyzer.learning_gap(\n",
    "    llm = llm,\n",
    "    provider = provider,\n",
    "    doc_result=doc_result,\n",
    "    trans_result=trans_result\n",
    ")"
   ]
  },
  {
   "cell_type": "code",
   "execution_count": 7,
   "id": "18ba6df7",
   "metadata": {},
   "outputs": [
    {
     "data": {
      "text/markdown": [
       "Okay, here's a detailed learning gap analysis of the student's understanding of \"The Rise of Nationalism in Europe,\" based on the provided material and their response:\n",
       "\n",
       "**1. DEMONSTRATED KNOWLEDGE:**\n",
       "\n",
       "*   **Definition of a Nation-State:** The student correctly identifies the core components of a nation-state: \"a nation is basically a big group of people who share things like language, history and I think live under one government.\" This aligns with the provided definition: \"A large number of people of mainly common descent, language, history, inhabiting a territory bounded by defined limits and forming a society under one government is called a nation.\"\n",
       "*   **Frederic Sorrieu's Prints:** The student accurately recalls Frederic Sorrieu and his 1848 prints: \"I remember reading about Frederick Sorio. He was some French artist in 1848. He made these prints showing people from different countries marching together towards the Statue of Liberty.\" They also correctly associate the prints with the end of old monarchies, showing some understanding of the symbolism.\n",
       "*   **French Revolution's Impact:** The student understands the French Revolution's role in fostering nationalism: \"The French Revolution was a big deal for nationalism. It made people in France feel more united, and they set up a republic after getting rid of the king.\"\n",
       "*   **Italian Unification:** The student demonstrates a good grasp of the key figures and events in Italian unification: \"For Italy, I remember Giuseppe Medzini started young Italy and wanted all the small states to join together. There were some failed attempts but then Sardini appeed Montt took over, led by Cavalry. Garibaldi helped in the south and eventually Victor Emmanuel II became king over United Italy.\" They correctly identify Mazzini, Cavour (though mispronouncing his name), Garibaldi, and Victor Emmanuel II.\n",
       "*   **German Unification:** The student recalls the main events and figures in German unification: \"Germany was also split into lots of states. The Frank Fertisembley tried to unite them, but the king of Prussia said no. Later, Bismarck, who was like the chief minister, fought wars with Denmark, Austria and France. After winning those, Germany got united, and the Prussian king became Kaiser William.\" They correctly identify the Frankfurt Assembly, Bismarck, and Kaiser William.\n",
       "*   **Female Allegories:** The student remembers Marianne and Germania as symbols: \"There were also these female symbols, Marianne for France and Germany. Marianne had a red cap, and was on Coins and Stamps.\"\n",
       "\n",
       "**2. KNOWLEDGE GAPS:**\n",
       "\n",
       "*   **Details of Sorrieu's Prints:** While the student remembers the prints, they lack specific details about the symbols and their meaning. They don't mention the shattered remains of absolutist institutions or the fraternity symbolized by Christ, saints, and angels.\n",
       "*   **Specific Measures of the French Revolution:** The student mentions the French Revolution uniting people but doesn't elaborate on the specific measures and practices that created a sense of collective identity (e.g., new flag, national anthem, centralized administration).\n",
       "*   **Napoleon's Reforms (Beyond Equality):** The student acknowledges Napoleon's reforms but is \"fuzzy\" on the details. They miss key aspects of the Napoleonic Code, such as simplified administrative divisions, abolition of the feudal system, removal of guild restrictions, and improvements in transport and communication.\n",
       "*   **Conservatism After 1815:** The student completely omits the rise of conservatism after Napoleon's defeat and its impact on Europe. This includes the Congress of Vienna and the efforts to restore monarchies.\n",
       "*   **Visualizing the Nation (Deeper Meaning):** While they remember Marianne and Germania, they don't fully grasp the *purpose* of these allegories – to instill a sense of national identity and belonging in the minds of the people. They also miss the significance of Germania's crown of oak leaves.\n",
       "*   **Nationalism and Imperialism:** The student acknowledges needing to review this section, indicating a lack of understanding of how nationalism evolved into a narrow creed and its connection to imperialism and World War I.\n",
       "\n",
       "**3. MISCONCEPTIONS:**\n",
       "\n",
       "*   **\"Sardini appeed Montt took over, led by Cavalry\"**: This is a mispronunciation and misunderstanding of the role of Sardinia-Piedmont and its Chief Minister, Cavour. It's not that Sardinia-Piedmont \"took over,\" but rather that it led the unification movement under Cavour's skillful diplomacy and leadership.\n",
       "*   **\"Frank Fertisembley\"**: This is a mispronunciation of the Frankfurt Assembly. While a minor error, it indicates a lack of familiarity with the term.\n",
       "\n",
       "**4. DEPTH OF UNDERSTANDING:**\n",
       "\n",
       "The student demonstrates primarily surface-level knowledge. They can recall key events and figures but struggle with:\n",
       "\n",
       "*   **Connecting the Dots:** They understand individual events (e.g., French Revolution, Italian Unification) but don't fully grasp the underlying *processes* and *ideologies* that drove them.\n",
       "*   **Analyzing Cause and Effect:** They can identify events but don't deeply analyze the causes and consequences of those events. For example, they know Bismarck fought wars but don't fully explain *why* those wars were necessary for German unification.\n",
       "*   **Understanding Significance:** They remember facts but don't always understand the *significance* of those facts. For example, they remember Marianne had a red cap but don't fully explain what the red cap symbolized.\n",
       "\n",
       "**5. LEARNING PRIORITIES:**\n",
       "\n",
       "Here's a ranking of the knowledge gaps in order of importance:\n",
       "\n",
       "1.  **Napoleon's Reforms and the Napoleonic Code:** Understanding the Napoleonic Code is crucial because it represents a concrete example of how revolutionary ideals were implemented and spread across Europe. It also highlights the impact of these reforms on various segments of society.\n",
       "2.  **Conservatism After 1815:** This is a significant omission. Understanding the conservative reaction to Napoleon is essential for understanding the political landscape of Europe in the 19th century and the forces that opposed nationalism.\n",
       "3.  **Nationalism and Imperialism:** This section connects the rise of nationalism to later conflicts and is important for understanding the long-term consequences of the movements studied.\n",
       "4.  **Visualizing the Nation (Deeper Meaning):** Understanding the *purpose* and *impact* of national symbols is important for understanding how national identity was constructed and promoted.\n",
       "5.  **Details of Sorrieu's Prints:** While important, this is less critical than understanding the broader political and social forces at play.\n",
       "6.  **Specific Measures of the French Revolution:** While important, this is less critical than understanding the broader political and social forces at play.\n",
       "\n",
       "**6. TARGETED RECOMMENDATIONS:**\n",
       "\n",
       "*   **Napoleon's Reforms and the Napoleonic Code:**\n",
       "    *   **Study Activity:** Create a table comparing the situation *before* and *after* the Napoleonic Code in areas like law, administration, economy, and social structure.\n",
       "    *   **Practice Exercise:** Answer the question: \"How did the Napoleonic Code both advance and contradict the ideals of the French Revolution?\"\n",
       "    *   **Supplementary Resource:** Watch a short documentary or video lecture specifically focusing on the Napoleonic Code.\n",
       "*   **Conservatism After 1815:**\n",
       "    *   **Study Activity:** Create a timeline of events from 1815 to 1848, highlighting the key actions of conservative forces (e.g., Congress of Vienna, suppression of liberal movements).\n",
       "    *   **Practice Exercise:** Write a short essay comparing and contrasting liberalism and conservatism in 19th-century Europe.\n",
       "    *   **Supplementary Resource:** Read a section from a textbook or online resource specifically on the Congress of Vienna and the Concert of Europe.\n",
       "*   **Nationalism and Imperialism:**\n",
       "    *   **Study Activity:** Create a concept map showing the connections between nationalism, imperialism, and World War I.\n",
       "    *   **Practice Exercise:** Debate the statement: \"Nationalism is inherently a force for conflict.\"\n",
       "    *   **Supplementary Resource:** Read an article or excerpt from a book on the Scramble for Africa and its connection to European nationalism.\n",
       "*   **Visualizing the Nation (Deeper Meaning):**\n",
       "    *   **Study Activity:** Research the symbols used by other nations (e.g., the American flag, the British lion) and analyze their meaning and purpose.\n",
       "    *   **Practice Exercise:** Write a short analysis of how Marianne and Germania were used to promote national unity in France and Germany.\n",
       "    *   **Supplementary Resource:** Find images of Marianne and Germania and analyze their symbolism in detail.\n",
       "*   **Details of Sorrieu's Prints:**\n",
       "    *   **Study Activity:** Re-read the description of Sorrieu's prints in the textbook and create a list of the key symbols and their meanings.\n",
       "    *   **Practice Exercise:** Draw your own version of Sorrieu's print, incorporating the key symbols and their meanings.\n",
       "*   **Specific Measures of the French Revolution:**\n",
       "    *   **Study Activity:** Create a bulleted list of the key measures taken by the French revolutionaries to create a sense of collective identity.\n",
       "    *   **Practice Exercise:** Explain how these measures contributed to the rise of nationalism in France.\n",
       "\n",
       "By focusing on these areas and using the suggested activities, the student can significantly improve their understanding of \"The Rise of Nationalism in Europe.\" The instructor can use this analysis to tailor their teaching and provide targeted support to the student."
      ],
      "text/plain": [
       "<IPython.core.display.Markdown object>"
      ]
     },
     "metadata": {},
     "output_type": "display_data"
    }
   ],
   "source": [
    "from IPython.display import display, Markdown\n",
    "\n",
    "display(Markdown(analysis))"
   ]
  },
  {
   "cell_type": "markdown",
   "id": "3dd32874",
   "metadata": {},
   "source": [
    "# Generating question from the above report "
   ]
  },
  {
   "cell_type": "code",
   "execution_count": 8,
   "id": "a654e151",
   "metadata": {},
   "outputs": [],
   "source": [
    "from components.question_generator import questions\n",
    "\n",
    "question = questions.question_gen(\n",
    "    llm=llm,\n",
    "    provider=provider,\n",
    "    doc_result=doc_result,\n",
    "    trans_result=trans_result,\n",
    "    analysis=analysis,\n",
    ")"
   ]
  },
  {
   "cell_type": "code",
   "execution_count": 10,
   "id": "0ca04a18",
   "metadata": {},
   "outputs": [
    {
     "name": "stdout",
     "output_type": "stream",
     "text": [
      "Questions\n",
      "\n",
      "1. Beyond establishing equality before the law, what were some other significant reforms enacted during the Napoleonic era, and how did these reforms contribute to or hinder the growth of nationalism in different parts of Europe?\n",
      "2. The student response skips over the conservatism that arose in Europe after 1815. Can you explain the main goals of the Congress of Vienna and how conservative forces attempted to suppress nationalist sentiments in the years following Napoleon's defeat?\n",
      "3. How did the shift from viewing nationalism as a unifying force to a source of conflict, particularly when coupled with imperialism, contribute to the outbreak of World War I?\n",
      "4. You mentioned Marianne and Germania as female allegories. What specific qualities or symbols were associated with each, and how did these symbols aim to create a sense of collective identity and national pride among the French and German people?\n",
      "5. While you correctly identified key figures in Italian unification, can you elaborate on the specific strategies and diplomatic maneuvers employed by Cavour to achieve this unification, and what challenges did he face?\n",
      "6. The student response mentions Sorrieu's prints but lacks detail. Can you describe some of the key symbols present in Frederic Sorrieu's prints and explain what they represented in the context of his vision of democratic and social republics?\n",
      "7. The student response mentions the French Revolution uniting people but doesn't elaborate on the specific measures and practices that created a sense of collective identity. What specific measures were taken during the French Revolution to foster a sense of national unity and belonging among the French people?\n",
      "8. How did the abolition of the feudal system and the removal of guild restrictions under Napoleon impact the economic and social structures of the regions he conquered, and how did these changes affect the rise of nationalism?\n",
      "9. The student response mispronounces 'Cavour' and 'Frankfurt Assembly'. Can you explain the roles of Cavour and the Frankfurt Assembly in the unifications of Italy and Germany, respectively, and why their efforts were significant?\n",
      "10. In what ways did the concept of a 'nation-state' challenge the existing political order in Europe during the 19th century, and what were some of the obstacles faced by those seeking to create unified national entities?\n",
      "\n"
     ]
    }
   ],
   "source": [
    "print(\"Questions\\n\")\n",
    "for i,que in enumerate(question):\n",
    "    print(f\"{i+1}. {que}\")\n",
    "print()    "
   ]
  },
  {
   "cell_type": "code",
   "execution_count": 11,
   "id": "6a81512a",
   "metadata": {},
   "outputs": [],
   "source": [
    "answers = []\n",
    "\n",
    "for i in range(len(question)):\n",
    "    ans = input(f\"Enter the answer to:\\n {question[i]}\")\n",
    "    answers.append(ans)\n",
    "\n",
    "# Create a list of question answer pairs {\"question\", \"answer\"} from 2 list that contains question and answer\n",
    "qa_pairs = [{\"question\":q, \"answer\":a} for q,a in zip(question, answers)]"
   ]
  },
  {
   "cell_type": "code",
   "execution_count": 12,
   "id": "2f7ab405",
   "metadata": {},
   "outputs": [],
   "source": [
    "qna = \"\"\n",
    "for i,qa in enumerate(qa_pairs):\n",
    "    q = qa[\"question\"]\n",
    "    a = qa[\"answer\"]\n",
    "    qna = qna + (f\"Q{i+1}. {q}\\n\")\n",
    "    qna = qna + (f\"Ans: {a}\\n\")\n",
    "    qna = qna + \"\\n\""
   ]
  },
  {
   "cell_type": "code",
   "execution_count": 13,
   "id": "e09439a4",
   "metadata": {},
   "outputs": [
    {
     "name": "stdout",
     "output_type": "stream",
     "text": [
      "Q1. Beyond establishing equality before the law, what were some other significant reforms enacted during the Napoleonic era, and how did these reforms contribute to or hinder the growth of nationalism in different parts of Europe?\n",
      "Ans: Um, so besides making everyone equal before the law, Napoleon did some other stuff too, I think. He made a new law code called the Napoleonic Code, which made laws clearer and got rid of old confusing rules. He also got rid of privileges that nobles and the church had, and he made it so peasants didn’t have to pay manorial dues anymore. I remember he also improved transport and communication, and he made the government more centralized, hiring people based on their abilities, not just their family background. I think he also set up new schools and let people have religious freedom, but I’m not sure how much. In some places, these changes helped people feel more united and modern, but in other places, people didn’t like being ruled by the French and started to want their own countries, so it kind of made nationalism stronger but also made people angry at French control.\n",
      "\n",
      "Q2. The student response skips over the conservatism that arose in Europe after 1815. Can you explain the main goals of the Congress of Vienna and how conservative forces attempted to suppress nationalist sentiments in the years following Napoleon's defeat?\n",
      "Ans: I think after Napoleon lost, all the big European countries met at the Congress of Vienna to try to bring back peace and the old ways. Their main goals were to make sure no one country got too powerful, to put old kings back on their thrones, and to keep France from getting too strong again. They wanted to stop any more revolutions, so they tried to restore the old order and not let people have too much freedom or nationalism. The leaders, like Metternich, were really against new ideas and tried to crush any movements for independence or democracy. They ignored the wishes of people in places like Poland and Belgium and forced different groups together, which didn’t really work in the long run.\n",
      "\n",
      "Q3. How did the shift from viewing nationalism as a unifying force to a source of conflict, particularly when coupled with imperialism, contribute to the outbreak of World War I?\n",
      "Ans: At first, nationalism was about uniting people who shared a language or culture, but later it became more about thinking your country was better than others. When countries started competing for colonies and power (imperialism), nationalism made them even more competitive and suspicious of each other. This led to a lot of tension and alliances, so when one country got into a fight, others joined in. Nationalism made people want to fight for their country, and imperialism made them want to take over more land. All this competition and pride kind of exploded into World War I when a small conflict got bigger because of all the alliances and rivalries.\n",
      "\n",
      "Q4. You mentioned Marianne and Germania as female allegories. What specific qualities or symbols were associated with each, and how did these symbols aim to create a sense of collective identity and national pride among the French and German people?\n",
      "Ans: Marianne was the symbol for France, and she wore a red cap (the Phrygian cap), which stood for liberty, and she had the tricolour flag and a cockade. She was supposed to show ideas like liberty, equality, and fraternity. Her image was on coins and stamps, and statues of her were put up in public places to remind people of the nation. Germania was for Germany; she wore a crown made of oak leaves, which meant heroism, and sometimes she held a sword and an olive branch, showing she was ready for war but also wanted peace. She also had the black, red, and gold flag, and sometimes a breastplate with an eagle. Both symbols were supposed to make people feel proud and united as part of their country.\n",
      "\n",
      "Q5. While you correctly identified key figures in Italian unification, can you elaborate on the specific strategies and diplomatic maneuvers employed by Cavour to achieve this unification, and what challenges did he face?\n",
      "Ans: Cavour was the chief minister of Sardinia-Piedmont, and he was really clever with politics and diplomacy. He made alliances, especially with France, to help fight Austria, which controlled a lot of Italian land. He got Piedmont involved in the Crimean War just so they could get noticed by the big powers. He also made deals with Napoleon III of France to fight Austria together, though he had to give up some land (Savoy and Nice) to France in return. Cavour also used plebiscites (votes) in different Italian states to get people to agree to join Piedmont. He had to deal with disagreements with Garibaldi, who was more revolutionary, and also with other European countries who didn’t want Italy to be united. It was kind of messy, and not everyone agreed on everything.\n",
      "\n",
      "Q6. The student response mentions Sorrieu's prints but lacks detail. Can you describe some of the key symbols present in Frederic Sorrieu's prints and explain what they represented in the context of his vision of democratic and social republics?\n",
      "Ans: In Sorrieu’s prints, there’s a long line of people from different countries marching past the Statue of Liberty, which is a woman holding a torch and the Charter of the Rights of Man. On the ground, there are broken pieces of old royal symbols, showing the end of monarchies. Each group of people has their own flag and national clothes, showing they are different nations. Above them, there are angels and saints watching, which is supposed to mean fraternity among nations. The whole thing was Sorrieu’s dream of a world made up of democratic and social republics, where people were free and equal.\n",
      "\n",
      "Q7. The student response mentions the French Revolution uniting people but doesn't elaborate on the specific measures and practices that created a sense of collective identity. What specific measures were taken during the French Revolution to foster a sense of national unity and belonging among the French people?\n",
      "Ans: The revolutionaries did a bunch of things to make people feel like one nation. They made a new flag (the tricolour), changed the Estates General to the National Assembly, and made everyone citizens with equal rights. They set up a central government with the same laws everywhere and made French the national language instead of all the different regional dialects. They also had new hymns, took oaths, and celebrated national holidays and martyrs for the country. All this was supposed to make people feel united as French, not just part of their local region.\n",
      "\n",
      "Q8. How did the abolition of the feudal system and the removal of guild restrictions under Napoleon impact the economic and social structures of the regions he conquered, and how did these changes affect the rise of nationalism?\n",
      "Ans: When Napoleon got rid of the feudal system, peasants didn’t have to pay dues to landlords anymore, and everyone was more equal. He also removed the old guild rules in towns, which made it easier for people to start businesses and for goods to move around. This helped the economy grow and made people feel more free and modern. People started to see themselves as part of a bigger nation, not just their village or town, so nationalism got stronger in those places. But some people didn’t like all the changes, especially if they felt forced by the French.\n",
      "\n",
      "Q9. The student response mispronounces 'Cavour' and 'Frankfurt Assembly'. Can you explain the roles of Cavour and the Frankfurt Assembly in the unifications of Italy and Germany, respectively, and why their efforts were significant?\n",
      "Ans: Cavour was the main leader for Italian unification from the state of Sardinia-Piedmont. He used smart diplomacy, alliances, and even wars to unite most of Italy under King Victor Emmanuel II. The Frankfurt Assembly was a big meeting in Germany in 1848 where representatives from different German states tried to make a constitution and unite Germany as a constitutional monarchy. But the King of Prussia refused to be emperor, and the assembly failed. Still, it was important because it showed the desire for a united Germany and set the stage for later unification by Bismarck.\n",
      "\n",
      "Q10. In what ways did the concept of a 'nation-state' challenge the existing political order in Europe during the 19th century, and what were some of the obstacles faced by those seeking to create unified national entities?\n",
      "Ans: The idea of a nation-state was that people who shared a language, culture, or history should have their own country, not be ruled by kings who controlled lots of different groups. This challenged the old empires and kingdoms, like Austria and the Ottomans, which were made up of many different peoples. The obstacles were that rulers didn’t want to give up power, and there were lots of small states with their own leaders who didn’t want to join together. Also, different groups sometimes fought over what counted as a nation, and some people didn’t want to lose their local traditions or independence.\n",
      "\n",
      "\n"
     ]
    }
   ],
   "source": [
    "print(qna)"
   ]
  },
  {
   "cell_type": "code",
   "execution_count": 14,
   "id": "24a25927",
   "metadata": {},
   "outputs": [],
   "source": [
    "from components.qna_judge import judge\n",
    "\n",
    "evaluation_report = judge.qna_check_and_scoring(\n",
    "   llm=llm,\n",
    "   provider=provider,\n",
    "   doc_result=doc_result,\n",
    "   trans_result=trans_result,\n",
    "   analysis=analysis,\n",
    "   qna=qna\n",
    ")"
   ]
  },
  {
   "cell_type": "code",
   "execution_count": 15,
   "id": "694f5ea0",
   "metadata": {},
   "outputs": [
    {
     "data": {
      "text/markdown": [
       "## Student Performance Evaluation\n",
       "\n",
       "### **Total Score**: 75/100\n",
       "\n",
       "### **Scoring Breakdown**\n",
       "| Evaluation Category  | Max Points | Awarded Points | Justification Snippet / Rationale                                     |\n",
       "|----------------------|------------|----------------|-----------------------------------------------------------------------|\n",
       "| **Accuracy Check**   | 30         | 22        | Mostly accurate recall of events and figures, but some inaccuracies.  |\n",
       "| **Depth Analysis**   | 25         | 18        | Demonstrates some understanding of cause-and-effect, but lacks depth. |\n",
       "| **Completeness**     | 20         | 15        | Misses some key aspects, particularly conservatism after 1815.        |\n",
       "| **Conceptual Clarity**| 15         | 12        | Generally clear, but some terminology is imprecise.                   |\n",
       "| **Critical Analysis**| 10         | 8        | Shows some insight, but lacks strong argumentation.                   |\n",
       "| **TOTAL**            | **100**    | **75**| **Overall Assessment Summary**                                          |\n",
       "\n",
       "---\n",
       "\n",
       "### **Detailed Feedback**\n",
       "\n",
       "#### Strong Areas\n",
       "*   The student demonstrates a good general understanding of the key events and figures involved in the rise of nationalism in Europe. For example, they correctly identify Cavour's role in Italian unification, stating, \"Cavour was the main leader for Italian unification from the state of Sardinia-Piedmont. He used smart diplomacy, alliances, and even wars to unite most of Italy under King Victor Emmanuel II.\" This aligns with the LEARNING MATERIAL (Learning Material) section on the Unification of Italy.\n",
       "*   The student also shows a good understanding of the symbolism associated with Marianne and Germania, stating, \"Marianne was the symbol for France, and she wore a red cap (the Phrygian cap), which stood for liberty, and she had the tricolour flag and a cockade...Germania was for Germany; she wore a crown made of oak leaves, which meant heroism...\" This aligns with the LEARNING MATERIAL (Learning Material) section on Visualizing the Nation.\n",
       "*   The student correctly identifies the impact of Napoleon's reforms on the abolition of feudalism, stating, \"When Napoleon got rid of the feudal system, peasants didn’t have to pay dues to landlords anymore, and everyone was more equal.\" This aligns with the LEARNING MATERIAL (Learning Material) section on the Napoleonic Code.\n",
       "\n",
       "#### Areas for Improvement & Gap Analysis\n",
       "*   **Factual Errors**:\n",
       "    *   The student incorrectly states that Napoleon \"made a new law code called the Napoleonic Code, which made laws clearer and got rid of old confusing rules.\" While the Napoleonic Code did clarify laws, it also introduced new principles like equality before the law and the right to property (see Learning Material, Napoleonic Code).\n",
       "    *   The student states that the Congress of Vienna \"ignored the wishes of people in places like Poland and Belgium and forced different groups together, which didn’t really work in the long run.\" While this is generally true, it lacks specific details about the territorial rearrangements and the suppression of nationalist movements (see Learning Material, The making of Nationalism in Europe).\n",
       "*   **Conceptual Gaps**:\n",
       "    *   The student demonstrates a limited understanding of the complexities of nationalism and imperialism, particularly the shift from nationalism as a unifying force to a source of conflict. This is evident in their response to Q3, which lacks nuance and specific examples.\n",
       "    *   The student's understanding of the Congress of Vienna and the conservative reaction is superficial. They mention the goals of restoring the old order but fail to elaborate on the specific measures taken and the ideologies that underpinned them.\n",
       "*   **Omissions**:\n",
       "    *   The student omits key details about the specific strategies and diplomatic maneuvers employed by Cavour, such as his alliance with France and his use of plebiscites.\n",
       "    *   The student fails to mention the specific measures taken during the French Revolution to foster a sense of national unity, such as the creation of a national anthem and the promotion of a common language.\n",
       "*   **Vague Assertions**:\n",
       "    *   The statement \"In some places, these changes helped people feel more united and modern, but in other places, people didn’t like being ruled by the French and started to want their own countries\" (regarding Napoleon's reforms) needs substantiation with specific examples of regions and reactions.\n",
       "    *   The statement \"This helped the economy grow and made people feel more free and modern\" (regarding the abolition of feudalism) lacks specific evidence or support from the LEARNING MATERIAL (Learning Material) regarding economic growth and social changes.\n",
       "\n",
       "---\n",
       "\n",
       "### **Misconception Analysis**\n",
       "| Identified Misconception (from Q&A) | Relevant Material (Learning Material Excerpt/Ref) | Correction / Clarification |\n",
       "|-------------------------------------------|--------------------------------------------|----------------------------|\n",
       "| \"Napoleon made a new law code called the Napoleonic Code, which made laws clearer and got rid of old confusing rules.\" | \"The first major change was doing away with all privileges based on birth, establishing equality before law and securing the right to property.\" (Napoleonic Code) | The Napoleonic Code did clarify laws, but it also introduced new principles like equality before the law and the right to property. |\n",
       "| \"The Congress of Vienna...ignored the wishes of people in places like Poland and Belgium and forced different groups together, which didn’t really work in the long run.\" | \"After the defeat of Napoleon, the European government follows the spirit of conservatism. Conservative regimes were autocratic Revolutionaries at that time fought for liberty and freedom.\" (The making of Nationalism in Europe) | The Congress of Vienna aimed to restore the old order and suppress revolutionary and nationalist sentiments, leading to the redrawing of borders and the suppression of nationalist movements in various regions. |\n",
       "\n",
       "---\n",
       "\n",
       "### **Personalized Learning Path**\n",
       "\n",
       "#### 1. Immediate Focus Areas:\n",
       "        *   Review the specific reforms enacted during the Napoleonic era and their impact on different parts of Europe.\n",
       "        *   Deepen understanding of the Congress of Vienna and the conservative reaction to Napoleon's defeat.\n",
       "        *   Clarify the shift from nationalism as a unifying force to a source of conflict, particularly when coupled with imperialism.\n",
       "\n",
       "#### 2. Resource Recommendations:\n",
       "        *   **Primary Material Review**: Focus on the sections in the LEARNING MATERIAL (Learning Material) related to the Napoleonic Code, the Congress of Vienna, and Nationalism and Imperialism.\n",
       "        *   **Prior Knowledge Link**: Revisit the student's initial understanding of Napoleon's reforms and compare it with the detailed information in the LEARNING MATERIAL (Learning Material).\n",
       "        *   **Visual Aid**: Consider a map of Europe before and after the Congress of Vienna to visualize the territorial changes.\n",
       "        *   **Further Reading/Practice**: Research specific examples of nationalist movements that were suppressed by conservative forces after 1815.\n",
       "\n",
       "#### 3. Skill-Building Exercises:\n",
       "        *   **Accuracy Drill**: Create a timeline of key events from the Napoleonic era to the Congress of Vienna, including specific reforms and territorial changes.\n",
       "        *   **Analysis Practice**: Write a short paragraph explaining the cause-effect relationship between the Congress of Vienna and the rise of nationalist movements in the 19th century.\n",
       "        *   **Argumentation**: Outline an argument comparing the goals and methods of Cavour and Bismarck in the unifications of Italy and Germany.\n",
       "\n",
       "---\n",
       "\n",
       "### **Detailed Rubric Application Notes**\n",
       "*   **Accuracy Check**: The student demonstrates a good general understanding of the key events and figures, but there are some inaccuracies in their recall of specific details. For example, they correctly identify Cavour's role in Italian unification, but they misrepresent the nature of the Napoleonic Code.\n",
       "*   **Depth Analysis**: The student shows some understanding of cause-and-effect relationships, but their analysis lacks depth and nuance. For example, they mention the impact of Napoleon's reforms on the abolition of feudalism, but they fail to elaborate on the specific economic and social consequences.\n",
       "*   **Completeness**: The student misses some key aspects of the topic, particularly the conservatism that arose in Europe after 1815. They also fail to mention specific measures taken during the French Revolution to foster a sense of national unity.\n",
       "*   **Conceptual Clarity**: The student's understanding of key concepts is generally clear, but some terminology is imprecise. For example, they use the term \"Napoleonic Code\" without fully understanding its significance and implications.\n",
       "*   **Critical Analysis**: The student shows some insight, but their analysis lacks strong argumentation. For example, they mention the shift from nationalism as a unifying force to a source of conflict, but they fail to provide specific examples or elaborate on the underlying causes.\n",
       "\n",
       "**End of Evaluation**"
      ],
      "text/plain": [
       "<IPython.core.display.Markdown object>"
      ]
     },
     "metadata": {},
     "output_type": "display_data"
    }
   ],
   "source": [
    "display(Markdown(evaluation_report))"
   ]
  },
  {
   "cell_type": "code",
   "execution_count": 16,
   "id": "fcc00427",
   "metadata": {},
   "outputs": [
    {
     "name": "stdout",
     "output_type": "stream",
     "text": [
      "Evaluation report saved to evaluation_report.md\n"
     ]
    }
   ],
   "source": [
    "with open(\"evaluation_report.md\", \"w\") as f:\n",
    "    f.write(evaluation_report)\n",
    "print(\"Evaluation report saved to evaluation_report.md\")"
   ]
  },
  {
   "cell_type": "markdown",
   "id": "b6228d80",
   "metadata": {},
   "source": [
    "# Generate a curated and detailed transcript to produce a podcast like resource for the learner."
   ]
  },
  {
   "cell_type": "code",
   "execution_count": null,
   "id": "cf9678bf",
   "metadata": {},
   "outputs": [],
   "source": [
    "# Using evaluation_report + qna + GAP_Analysis + Doc_result + transcript \n",
    "# -> to Genenrate a Audio Which discusses topics that can help student learn from hearing them\n",
    "# -> The Generated transcript will be in text format(not any markdown or any special symbols)\n",
    "from langchain.prompts import PromptTemplate\n",
    "\n",
    "transcript_prompt = PromptTemplate.from_template(\n",
    "    \"\"\"\n",
    "    You are a Teaching Assistant.\n",
    "    Your role is to help student learn from the evaluation report and the gap analysis.\n",
    "    Resolve their misconceptions, knowledge gaps, and provide them with the necessary information to improve their understanding.\n",
    "    So that they can learn the concepts more effectively and in-depth.\n",
    "    \n",
    "    Note: Our Main is to create a detailed transcript for the student to learn from.\n",
    "    The transcript should be in a text format and not in any markdown or any special symbols.\n",
    "\n",
    "    Here is the evaluation report:\n",
    "    {evaluation_report}\n",
    "    Here is the QnA:\n",
    "    {qna}\n",
    "    Here is the GAP Analysis:\n",
    "    {analysis}\n",
    "    Here is the Document Result:\n",
    "    {doc_result}\n",
    "    Here is the Transcript:\n",
    "    {trans_result}\n",
    "\n",
    "    Now, generate a detailed transcript for the student to learn from.\n",
    "    The transcript needs to be well researched and detailed.\n",
    "    The Tone of the transcript should be friendly and helpful.\n",
    "    \"\"\"\n",
    ")\n",
    "\n",
    "chain = transcript_prompt | llm\n",
    "transcript = chain.invoke({\n",
    "    \"evaluation_report\":evaluation_report,\n",
    "    \"qna\":qna,\n",
    "    \"analysis\":analysis,\n",
    "    \"doc_result\":doc_result,\n",
    "    \"trans_result\":trans_result\n",
    "    }\n",
    ")\n",
    "\n",
    "if provider == \"google_genai\":\n",
    "    transcript = transcript.content    \n",
    "elif provider == \"llama_cpp\":\n",
    "    transcript = transcript\n",
    "elif provider == \"ollama\":\n",
    "    transcript = transcript"
   ]
  },
  {
   "cell_type": "code",
   "execution_count": 23,
   "id": "e40e8ca4",
   "metadata": {},
   "outputs": [
    {
     "name": "stdout",
     "output_type": "stream",
     "text": [
      "Okay, lets break down your understanding of \"The Rise of Nationalism in Europe\" and fill in some of those gaps. Its great that youve got a good handle on the main events and figures! Well clarify some points, add more detail, and connect the dots so you have a more complete picture.\n",
      "\n",
      "1. Defining the NationState\n",
      "\n",
      "Youre right, a nation is a large group of people who share things like language, history, and culture, and ideally, they live under one government. The key here is that sense of shared identity and belonging. Its what makes people feel connected to something larger than their immediate family or village.\n",
      "\n",
      "2. Frederic Sorrieus Prints (1848)\n",
      "\n",
      "You correctly identified Sorrieu as a French artist who created prints visualizing a world of democratic and social republics. Lets dive deeper into the symbolism\n",
      "\n",
      "   The Long Procession The people marching represent different nations, identified by their flags and national costumes. This symbolizes the rise of nationstates and the idea of people uniting based on shared identity.\n",
      "   Statue of Liberty The Statue of Liberty, with the torch of enlightenment and the Charter of the Rights of Man, represents the ideals of liberty, equality, and fraternity  core values of the French Revolution and the Enlightenment.\n",
      "   Shattered Remains The broken symbols of absolutist institutions (crowns, scepters, etc.) on the ground signify the end of monarchical rule and the old order. This is a crucial detail you were close to remembering!\n",
      "   Christ, Saints, and Angels These figures in the heavens symbolize fraternity, or brotherhood, among nations. Sorrieu envisioned a world where nations coexisted peacefully and were united by shared ideals.\n",
      "\n",
      "3. The French Revolution and its Impact\n",
      "\n",
      "Absolutely, the French Revolution was a turning point for nationalism. It fostered a sense of collective identity among the French people. Heres how\n",
      "\n",
      "   The Tricolour Flag Replacing the royal standard with the tricolour (blue, white, and red) symbolized a break from the monarchy and a new national identity.\n",
      "   The EstatesGeneral to the National Assembly This shift represented the transfer of power from the monarchy to the people.\n",
      "   \"La Patrie\" and \"Le Citoyen\" These new terms emphasized the idea of a unified community with equal rights for all citizens. \"La Patrie\" (the fatherland) created a sense of belonging, and \"Le Citoyen\" (the citizen) emphasized equal rights and responsibilities.\n",
      "   New Hymns, Oaths, and Martyrs These elements helped to create a shared national culture and a sense of collective memory.\n",
      "   Centralized Administration Establishing a uniform system of laws, weights, and measures across France promoted national unity and made it easier to govern.\n",
      "   French as the National Language Promoting French over regional dialects helped to create a common culture and identity.\n",
      "\n",
      "4. Napoleons Reforms (The Napoleonic Code)\n",
      "\n",
      "Youre right, Napoleon did a lot more than just establish equality before the law. The Napoleonic Code was a major achievement, and its impact spread far beyond France. Heres a more detailed look\n",
      "\n",
      "   Equality Before the Law This was a cornerstone of the Code, abolishing privileges based on birth or social status.\n",
      "   Right to Property The Code guaranteed the right to private property, which was important for economic development and individual freedom.\n",
      "   Abolition of Feudal System This freed peasants from obligations to landlords and gave them more control over their land.\n",
      "   Simplified Administrative Divisions This made governance more efficient and uniform.\n",
      "   Removal of Guild Restrictions This allowed for greater freedom of trade and .\n",
      "   Improved Transport and Communication This facilitated trade and communication within France and across Europe.\n",
      "\n",
      "Impact on Nationalism Napoleons reforms had a mixed impact. In some areas, they were welcomed because they brought progress and equality. However, in other areas, people resented French rule and wanted to preserve their own cultures and traditions. This resistance to French rule actually fueled nationalist movements in many parts of Europe.\n",
      "\n",
      "5. Italian Unification\n",
      "\n",
      "Okay, lets clear up the \"Sardini appeed Montt took over, led by Cavalry\" part. Youre thinking of SardiniaPiedmont, the Italian state that led the unification movement. The key figure here was Cavour (pronounced Kavoor), the Chief Minister of SardiniaPiedmont. He was a brilliant diplomat who used a combination of alliances and wars to achieve unification.\n",
      "\n",
      "   Giuseppe Mazzini He was a visionary who inspired Italian nationalism and founded the Young Italy movement.\n",
      "   Camillo Benso, Count of Cavour He was the pragmatic statesman who skillfully maneuvered SardiniaPiedmont into a position to lead the unification.\n",
      "   Giuseppe Garibaldi He was a charismatic military leader who led the Redshirts in conquering Southern Italy.\n",
      "   Victor Emmanuel II He was the King of SardiniaPiedmont who became the first King of a united Italy.\n",
      "\n",
      "Cavours Strategies\n",
      "\n",
      "   Alliance with France Cavour realized that SardiniaPiedmont couldnt defeat Austria on its own, so he formed an alliance with France.\n",
      "   Crimean War Cavour cleverly involved SardiniaPiedmont in the Crimean War to gain the attention and favor of European powers.\n",
      "   War with Austria With French support, SardiniaPiedmont defeated Austria in 1859, gaining control of Lombardy.\n",
      "   Plebicites Cavour used plebiscites (popular votes) to annex other Italian states to SardiniaPiedmont.\n",
      "   Garibaldis Role Garibaldis conquest of Southern Italy was crucial, but Cavour also had to manage Garibaldis more radical republican ideals to ensure a unified Italy under a monarchy.\n",
      "\n",
      "Year of Unification You were close! Italy was officially unified in 1861, with Victor Emmanuel II as its first king.\n",
      "\n",
      "6. German Unification\n",
      "\n",
      "Youre on the right track with Germany! Lets clarify a few things\n",
      "\n",
      "   \"Frank Fertisembley\" This is the Frankfurt Assembly. It was an attempt in 1848 to create a unified Germany with a constitutional monarchy, but it failed because the King of Prussia refused to accept the crown.\n",
      "   Otto von Bismarck He was the Chief Minister of Prussia and the mastermind behind German unification. He believed in \"blood and iron,\" meaning that war and military strength were necessary to achieve unification.\n",
      "\n",
      "Bismarcks Wars\n",
      "\n",
      "   War with Denmark (1864) Prussia and Austria fought Denmark over the territories of Schleswig and Holstein.\n",
      "   AustroPrussian War (1866) Prussia defeated Austria, paving the way for Prussian dominance in Germany.\n",
      "   FrancoPrussian War (18701871) Prussia defeated France, which led to the unification of Germany under Prussian leadership.\n",
      "\n",
      "Year of Unification Youre right, German unification was proclaimed in 1871 at the Palace of Versailles. Kaiser William I of Prussia became the German Emperor.\n",
      "\n",
      "7. Visualizing the Nation (Marianne and Germania)\n",
      "\n",
      "You correctly identified Marianne and Germania as female allegories representing France and Germany. But whats really important is why they were used.\n",
      "\n",
      "   Purpose These allegories were created to personify the nation and instill a sense of national pride and unity among the people. They were visual representations of abstract ideas like liberty, equality, and nationhood.\n",
      "   Marianne (France)\n",
      "       Red Cap (Phrygian Cap) Symbolized liberty and freedom.\n",
      "       Tricolour Flag Represented the French nation.\n",
      "       Cockade A ribbon badge worn as a symbol of patriotism.\n",
      "   Germania (Germany)\n",
      "       Crown of Oak Leaves Symbolized heroism and strength. German oak trees were considered a symbol of German identity.\n",
      "       Sword Represented readiness to fight for the nation.\n",
      "       Broken Chains Symbolized freedom from oppression.\n",
      "\n",
      "8. Nationalism and Imperialism\n",
      "\n",
      "This is a crucial area to understand. In the late 19th century, nationalism took a more aggressive and expansionist turn. Countries began to see themselves as superior to others and competed for colonies and power. This is where nationalism and imperialism became intertwined.\n",
      "\n",
      "   Imperialism The policy of extending a countrys power and influence through colonization, diplomacy, or military force.\n",
      "   How Nationalism Led to Imperialism National pride and the desire for economic resources and strategic advantage drove European powers to conquer and control territories around the world.\n",
      "   How Imperialism Fueled Nationalism Imperialism, in turn, intensified nationalist rivalries, as countries competed for dominance and prestige.\n",
      "\n",
      "Connection to World War I The intense nationalism and imperial competition of the late 19th and early 20th centuries created a climate of tension and suspicion in Europe. This ultimately led to the outbreak of World War I.\n",
      "\n",
      "In Summary\n",
      "\n",
      "Youve got a solid foundation! By filling in the gaps and clarifying some of the details, youll have a much deeper understanding of the rise of nationalism in Europe. Remember to focus on the underlying processes, ideologies, and connections between events. Keep asking questions, and youll master this topic in no time!\n"
     ]
    }
   ],
   "source": [
    "import re\n",
    "\n",
    "transcript = re.sub(r'[^a-zA-Z0-9\\s()+-,.?!$%&\"]', '', transcript)\n",
    "print(transcript)"
   ]
  },
  {
   "cell_type": "code",
   "execution_count": 24,
   "id": "e91beb7f",
   "metadata": {},
   "outputs": [
    {
     "name": "stdout",
     "output_type": "stream",
     "text": [
      "Removed previous audio chunks in ./audio_chunks\n"
     ]
    },
    {
     "name": "stderr",
     "output_type": "stream",
     "text": [
      "/home/prasun/Desktop/ADHYAYAN_MITRA/.venv/lib/python3.12/site-packages/torch/nn/modules/rnn.py:123: UserWarning: dropout option adds dropout after all but last recurrent layer, so non-zero dropout expects num_layers greater than 1, but got dropout=0.2 and num_layers=1\n",
      "  warnings.warn(\n",
      "/home/prasun/Desktop/ADHYAYAN_MITRA/.venv/lib/python3.12/site-packages/torch/nn/utils/weight_norm.py:143: FutureWarning: `torch.nn.utils.weight_norm` is deprecated in favor of `torch.nn.utils.parametrizations.weight_norm`.\n",
      "  WeightNorm.apply(module, name, dim)\n"
     ]
    },
    {
     "name": "stdout",
     "output_type": "stream",
     "text": [
      "Removed previous audio chunks in ./audio_chunks\n",
      "Audio saved to /home/prasun/Desktop/ADHYAYAN_MITRA/testing/merged_output.mp3\n"
     ]
    }
   ],
   "source": [
    "from components.audio_gen import kokoro_tts\n",
    "\n",
    "tts = kokoro_tts.Kokoro_TTS(audio_chunk_dir=\"./audio_chunks\")\n",
    "\n",
    "audio_path = tts.generate_audio(\n",
    "    text=transcript,\n",
    "    output_path=\"merged_output.mp3\",\n",
    "    voice=\"am_adam\",\n",
    "    lang_code=\"a\"\n",
    ")\n",
    "\n",
    "print(f\"Audio saved to {audio_path}\")"
   ]
  },
  {
   "cell_type": "markdown",
   "id": "61e82cc0",
   "metadata": {},
   "source": [
    "# Optional RAG or CRAG(C only by Teacher) for doubt clearification."
   ]
  },
  {
   "cell_type": "markdown",
   "id": "79238d22",
   "metadata": {},
   "source": [
    "# Optional Test Creation tailored asper the GAP analysis of the Students."
   ]
  },
  {
   "cell_type": "markdown",
   "id": "d471ac79",
   "metadata": {},
   "source": [
    "# Optional Checker to check for Plagarism and AI content in students' response"
   ]
  }
 ],
 "metadata": {
  "kernelspec": {
   "display_name": ".venv",
   "language": "python",
   "name": "python3"
  },
  "language_info": {
   "codemirror_mode": {
    "name": "ipython",
    "version": 3
   },
   "file_extension": ".py",
   "mimetype": "text/x-python",
   "name": "python",
   "nbconvert_exporter": "python",
   "pygments_lexer": "ipython3",
   "version": "3.12.3"
  }
 },
 "nbformat": 4,
 "nbformat_minor": 5
}
