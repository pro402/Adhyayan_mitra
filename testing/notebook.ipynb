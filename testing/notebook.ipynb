{
 "cells": [
  {
   "cell_type": "markdown",
   "id": "d0d01af7",
   "metadata": {},
   "source": [
    "## Testing"
   ]
  },
  {
   "cell_type": "code",
   "execution_count": 1,
   "id": "a6c2c657",
   "metadata": {},
   "outputs": [],
   "source": [
    "import sys\n",
    "import os\n",
    "\n",
    "# Add the parent directory to the path so Python can find the components\n",
    "sys.path.append(os.path.abspath('..'))"
   ]
  },
  {
   "cell_type": "code",
   "execution_count": 2,
   "id": "c17ea98b",
   "metadata": {},
   "outputs": [
    {
     "name": "stdout",
     "output_type": "stream",
     "text": [
      "Processing: /home/prasun/Desktop/ADHYAYAN_MITRA/components/transcripter_api/recording.mp3\n"
     ]
    },
    {
     "name": "stderr",
     "output_type": "stream",
     "text": [
      "Due to a bug fix in https://github.com/huggingface/transformers/pull/28687 transcription using a multilingual Whisper will default to language detection followed by transcription instead of translation to English.This might be a breaking change for your use case. If you want to instead always translate your audio to English, make sure to pass `language='en'`.\n",
      "The attention mask is not set and cannot be inferred from input because pad token is same as eos token. As a consequence, you may observe unexpected behavior. Please pass your input's `attention_mask` to obtain reliable results.\n"
     ]
    },
    {
     "name": "stdout",
     "output_type": "stream",
     "text": [
      "Transcription completed in 13.1s\n",
      "Transcript saved to /home/prasun/Desktop/ADHYAYAN_MITRA/components/transcripter_api/transcript.txt\n",
      " Alright, let me try to talk through what I remember from the rise of nationalism in Europe. I'll just say what comes to mind and see where I get stuck. So, a nation is basically a big group of people who share things like language, history and I think live under one government. I remember reading about Frederick Sorio. He was some French artist in 1848. He made these prints showing people from different countries marching together towards the Statue of Liberty.  I think those stood for the end of old monarchy or something, but I'm not totally sure. The French Revolution was a big deal for nationalism. It made people in France feel more united, and they set up a republic after getting rid of the king. Then Napoleon came, and he made a lot of changes. I know he made everyone equal before the law and got rid of privileges by birth, but I'm a bit fuzzy on what else he did. Maybe something about proper  rights and making travel or business easier. For Italy, I remember Giuseppe Medzini started young Italy and wanted all the small states to join together. There were some failed attempts but then Sardini appeed Montt took over, led by Cavalry. Garibaldi helped in the south and eventually Victor Emmanuel II became king over United Italy. I can't remember the exact year though, maybe 1861, Germany was also split into lots of  states. The Frank Fertisembley tried to unite them, but the king of Prussia said no. Later, Bismarck, who was like the chief minister, fought wars with Denmark, Austria and France. After winning those, Germany got united, and the Prussian king became Kaiser William. I think this happened in 1871, but I should double check. There were also these female symbols, Marianne for France and Germany. Marianne had a red cap, and  was on Coins and Stamps.  But I should probably read more about that. So, yeah, I remember the main events, but I definitely need to review Napoleon's reforms, the exact years of unification, and the whole nationalism versus imperialism thing. And why they used female allegories for nations? Still not clear on that.\n"
     ]
    }
   ],
   "source": [
    "from components.transcripter_api import transcripter \n",
    "\n",
    "trans_result = transcripter.transcribe_audio()\n",
    "print(trans_result)"
   ]
  },
  {
   "cell_type": "code",
   "execution_count": 3,
   "id": "5fd85209",
   "metadata": {},
   "outputs": [
    {
     "data": {
      "text/plain": [
       "\" Alright, let me try to talk through what I remember from the rise of nationalism in Europe. I'll just say what comes to mind and see where I get stuck. So, a nation is basically a big group of people who share things like language, history and I think live under one government. I remember reading about Frederick Sorio. He was some French artist in 1848. He made these prints showing people from different countries marching together towards the Statue of Liberty.  I think those stood for the end of old monarchy or something, but I'm not totally sure. The French Revolution was a big deal for nationalism. It made people in France feel more united, and they set up a republic after getting rid of the king. Then Napoleon came, and he made a lot of changes. I know he made everyone equal before the law and got rid of privileges by birth, but I'm a bit fuzzy on what else he did. Maybe something about proper  rights and making travel or business easier. For Italy, I remember Giuseppe Medzini started young Italy and wanted all the small states to join together. There were some failed attempts but then Sardini appeed Montt took over, led by Cavalry. Garibaldi helped in the south and eventually Victor Emmanuel II became king over United Italy. I can't remember the exact year though, maybe 1861, Germany was also split into lots of  states. The Frank Fertisembley tried to unite them, but the king of Prussia said no. Later, Bismarck, who was like the chief minister, fought wars with Denmark, Austria and France. After winning those, Germany got united, and the Prussian king became Kaiser William. I think this happened in 1871, but I should double check. There were also these female symbols, Marianne for France and Germany. Marianne had a red cap, and  was on Coins and Stamps.  But I should probably read more about that. So, yeah, I remember the main events, but I definitely need to review Napoleon's reforms, the exact years of unification, and the whole nationalism versus imperialism thing. And why they used female allegories for nations? Still not clear on that.\""
      ]
     },
     "execution_count": 3,
     "metadata": {},
     "output_type": "execute_result"
    }
   ],
   "source": [
    "trans_result"
   ]
  },
  {
   "cell_type": "code",
   "execution_count": 4,
   "id": "a7f600b9",
   "metadata": {},
   "outputs": [
    {
     "name": "stdout",
     "output_type": "stream",
     "text": [
      "Document has 1686 tokens. Using raw document.\n",
      "## The Rise of Nationalism in Europe Class 10 Notes History Chapter 1\n",
      "\n",
      "The Rise of Nationalism in Europe Class 10 Notes Social Science History Chapter 1 SST Pdf free download is part of [Class 10 Social Science Notes](https:/www.learncbse.in/class-10-social-science-notes) for Quick Revision. Here we have given The Rise of Nationalism in Europe Class 10 History Chapter 1 Notes. According to new CBSE Exam Pattern, [MCQ Questions For Class 10 Social Science with Answers](https:/www.learncbse.in/mcq-questions-for-class-10-social-science-with-answers) Carries 20 Marks.\n",
      "\n",
      "| Board        | CBSE                              |\n",
      "|--------------|-----------------------------------|\n",
      "| Textbook     | NCERT                             |\n",
      "| Class        | Class 10                          |\n",
      "| Subject      | Social Science Notes              |\n",
      "| Chapter      | History Chapter 1                 |\n",
      "| Chapter Name | The Rise of Nationalism in Europe |\n",
      "| Category     | CBSE Revision Notes               |\n",
      "\n",
      "### \n",
      "\n",
      "### The Rise of Nationalism in Europe Class 10 Notes Social Science History Chapter 1\n",
      "\n",
      "**Nation (State):** A large number of people of mainly common descent, language, history, inhabiting a territory bounded by defined limits and forming a society under one government is called a nation.\n",
      "\n",
      "**Frederic Sorrieu and his visualization:** In 1848, Frederic Sorrieu, a French artist, prepared a series of four prints, visualizing his dream of a world made up of ‘democratic and social republics’, as he called them.\n",
      "\n",
      "- The first print shows the people of Europe and America marching in a long train, and offering homage to the Statue of Liberty as they pass by it. A female figure carries a torch of enlightenment in one hand and the Charter of the Rights of Man, in the other hand.\n",
      "- On the earth lies the shattered remains of the symbols of absolutist institutions.\n",
      "- In Sorrieu’s Utopian vision, the people of the world are grouped as distinct nations, identified through their flags and national costumes.\n",
      "- Leading the procession are USA and Switzerland, followed by France and Germany. Following Germany are Austria, Kingdom of the two Sicilies, Lombardy, Poland, England, Ireland, Hungary and Russia.\n",
      "- From the heavens above, Christ, saints and angels gaze at the scene. The artist symbolizes fraternity among the nations of the world.\n",
      "\n",
      "**The French Revolution and the idea of Nation:**\n",
      "\n",
      "- Growth of nationalism in France.\n",
      "- Introduction of various measures and practices created sense of collective identity among the people of France.\n",
      "- Change of monarchy and establishment of republic, creation of new assembly.\n",
      "- Rise of Napoleon and his reforms. Revolutionaries help other people of Europe to become nation.\n",
      "\n",
      "**The making of Nationalism in Europe:**\n",
      "\n",
      "- Germany, Italy and Switzerland were divided into Kingdom, duchies and cantones these divisions were having their autonomous rulers.\n",
      "- Uses of different languages.\n",
      "- Rise of middle class.\n",
      "- Industrialization in England, emergence of a working class and liberalism.\n",
      "- New conservation after 1815 and preservation of traditional institution.\n",
      "- After the defeat of Napoleon, the European government follows the spirit of conservatism. Conservative regimes were autocratic Revolutionaries at that time fought for liberty and freedom.\n",
      "Example, Mazzini’s young Italy and Young Europe.\n",
      "\n",
      "**Unification of Italy:** Giuseppe Mazzini had played an important role in the unification of Italy. He formed a secret society called ‘Young Italy’ in Marseilles, to spread his goals. He believed Italy could not continue to be a patchwork of small states and had to be forged into a single unified republic. During 1830’s, Mazzini sought to put together a coherent programme for a unitary Italian Republic. As uprisings in 1831 and 1848 had failed, the mantle now fell on Sardinia-Piedmont under its ruler Emmanuel II to unify Italy.\n",
      "\n",
      "Under Chief Minister Cavour, Sardinia-Piedmont succeeded in destroying the Austrian forces in 1859. Even Garibaldi joined the fray. In 1860, they marched into South Italy and the kingdom of the two Sicilies and with the help of the local peasants, drove out the Spanish rulers. In 1861, Victor Emmanuel II was proclaimed as King of United Italy.\n",
      "\n",
      "**Unification of Germany:** In the 18th century, Germany was divided into a number of states. Some of these states ceased to exist during the Napoleonic wars. At the end of the war, there were still 39 independent states in Germany. Prussia was most powerful, dominated by big landlords known as Junkers.\n",
      "\n",
      "- Nationalist feelings were widespread among middle class Germans who had tried to unite the different regions of the German federation into a nation-state governed by an elected Parliament.\n",
      "- In May 1848, a large number of political associations came together to vote for an all-German National Assembly. Their representatives met at Frankfurt and the Frankfurt Assembly proposed the unification of Germany as a constitutional monarchy under the King of Prussia as emperor\n",
      "- The King of Prussia rejected the offer and the liberal initiative of nation building was repressed by the combined forces of the monarchy, the military and the ‘Junkers’.\n",
      "- Then on, Prussia under its Chief Minister Otto Von Bismarck led the movement for unification of Germany. Bismarck carried out this process with the help of the Prussian army and the bureaucracy. He fought three wars over seven years with Denmark, Austria and France. Prussia was victorious in all these wars and the process of unification was completed as a result of Prussia’s victory over France.\n",
      "- Consequently, on 18th January 1871, an assembly comprising of princes of German States, representatives of the army, important Prussian ministers and Bismarck gathered in the Palace of Versailles and proclaimed the Prussian King, Kaiser William, the new German Emperor.\n",
      "\n",
      "**Visualizing the Nation:** Marianne and Germania were both female allegories used by artists in the 19th century to represent the nation.\n",
      "\n",
      "- In France she was named Marianne, a popular Christian name, which underlined the idea of a people’s nation. Her characteristics were drawn from those of liberty and republic—the red cap, the tri-colour, the cockade. Statues of Marianne were erected in public squares as a national symbol of unity. Marianne images were marked on coins and stamps.\n",
      "- Instead of just having the idea of father land, they wanted to implant a suitable image in the minds of the people. They invariably chose the mother figure symbolizing nations—Britannia, Germania and Marianne reminding us of our concept of Matribhumi.\n",
      "- Germania became the allegory of the German nation. Germania wears a crown of oak leaves as German oak stands for heroism. It was hung from the ceiling of St. Paul’s Church, where Frankfurt Parliament was convened, to symbolize the liberal revolution.\n",
      "\n",
      "**Napoleonic Code:**\n",
      "\n",
      "- The first major change was doing away with all privileges based on birth, establishing equality before law and securing the right to property.\n",
      "- Administrative divisions were simplified.\n",
      "- Feudal system was abolished and peasants were freed from serfdom and manorial dues (abuse of manorial lords).\n",
      "- In towns, guild restrictions were removed.\n",
      "- Transport and communication systems were improved.\n",
      "- Peasants, artisans, workers and new businessmen enjoyed a new found freedom.\n",
      "- Businessmen and small-scale producers of goods in particular began to realize that uniform laws, standardized weights and measures and a common national currency would facilitate the movement and exchange of goods and capital from one region to another.\n",
      "\n",
      "**Nationalism and Imperialism:** Last quarter of the 19th century nationalism became a narrow creed with limited ends, Intolerance Balkan became the sense of big power rivalry Nationalism, aligned with imperialism cause of World War I. Idea of a Nationalism was now same everywhere . But concept of National State was accepted universally.\n"
     ]
    }
   ],
   "source": [
    "from components.doc_pipeline.pipeline import DocumentProcessor\n",
    "\n",
    "doc_result = DocumentProcessor().process_document()\n",
    "print(doc_result)"
   ]
  },
  {
   "cell_type": "markdown",
   "id": "a9eac463",
   "metadata": {},
   "source": [
    "# Building the Gap_Analysis Pipeline"
   ]
  },
  {
   "cell_type": "code",
   "execution_count": 66,
   "id": "aa0e3f43",
   "metadata": {},
   "outputs": [],
   "source": [
    "from components.select_llm import llm\n",
    "llm = llm.set_llm()"
   ]
  },
  {
   "cell_type": "code",
   "execution_count": 64,
   "id": "3ae1eb5f",
   "metadata": {},
   "outputs": [
    {
     "name": "stdout",
     "output_type": "stream",
     "text": [
      "google\n"
     ]
    }
   ],
   "source": [
    "print(\"google\" if \"models/gemma-3-27b-it\" in llm.model else \"ollama\")"
   ]
  },
  {
   "cell_type": "code",
   "execution_count": 65,
   "id": "b69ab1e1",
   "metadata": {},
   "outputs": [
    {
     "data": {
      "text/plain": [
       "ChatGoogleGenerativeAI(model='models/gemma-3-27b-it', google_api_key=SecretStr('**********'), temperature=0.0, max_output_tokens=8192, client=<google.ai.generativelanguage_v1beta.services.generative_service.client.GenerativeServiceClient object at 0x77daf48ec290>, default_metadata=())"
      ]
     },
     "execution_count": 65,
     "metadata": {},
     "output_type": "execute_result"
    }
   ],
   "source": [
    "llm"
   ]
  },
  {
   "cell_type": "code",
   "execution_count": 27,
   "id": "c5eb1a17",
   "metadata": {},
   "outputs": [],
   "source": [
    "from components.gap_analyzer import analyzer\n",
    "\n",
    "analysis = analyzer.learning_gap(\n",
    "    llm = llm,\n",
    "    doc_result=doc_result,\n",
    "    trans_result=trans_result\n",
    ")"
   ]
  },
  {
   "cell_type": "code",
   "execution_count": 28,
   "id": "18ba6df7",
   "metadata": {},
   "outputs": [
    {
     "data": {
      "text/markdown": [
       "## Learning Gap Analysis: The Rise of Nationalism in Europe - Student Response\n",
       "\n",
       "Here's a detailed analysis of the student's understanding of \"The Rise of Nationalism in Europe,\" based on their provided response and the course learning material.\n",
       "\n",
       "**1. DEMONSTRATED KNOWLEDGE:**\n",
       "\n",
       "The student demonstrates a good grasp of the *broad strokes* of the topic. Specifically:\n",
       "\n",
       "* **Definition of Nation:** They accurately define a nation as a group sharing common descent, language, history, and government. (“a big group of people who share things like language, history and I think live under one government.”)\n",
       "* **Sorrieu’s Vision:** They recall Sorrieu’s prints and their general symbolism – people marching towards liberty and the end of monarchy. (“He made these prints showing people from different countries marching together towards the Statue of Liberty. I think those stood for the end of old monarchy or something…”)\n",
       "* **French Revolution’s Impact:** They correctly identify the French Revolution as a catalyst for nationalism and the establishment of a republic. (“The French Revolution was a big deal for nationalism. It made people in France feel more united, and they set up a republic after getting rid of the king.”)\n",
       "* **Italian & German Unification – Key Figures & Events:** They remember key figures like Mazzini, Cavour, Garibaldi, and Bismarck, and the general sequence of events in both Italian and German unification. (“Giuseppe Medzini started young Italy… Sardinia appeed Montt took over, led by Cavalry… Bismarck, who was like the chief minister, fought wars with Denmark, Austria and France.”)\n",
       "* **National Allegories:** They recall Marianne and Germania as symbols of France and Germany respectively, and a detail about Marianne’s appearance. (“Marianne had a red cap, and was on Coins and Stamps.”)\n",
       "\n",
       "**2. KNOWLEDGE GAPS:**\n",
       "\n",
       "Several important concepts are missing or inadequately addressed:\n",
       "\n",
       "* **Napoleonic Code – Specifics:** While they acknowledge Napoleon made changes, they are “fuzzy” on the details. The learning material highlights specific reforms like abolishing feudalism, establishing equality before the law, and standardizing weights and measures.\n",
       "* **The Conservative Reaction (Post-1815):** The material emphasizes the conservative regimes established after Napoleon’s defeat and the resistance to revolutionary ideals. This is completely absent from the student’s response.\n",
       "* **Liberalism & its Role:** The role of liberalism as a driving force behind nationalism, particularly the rise of the middle class, is not mentioned.\n",
       "* **The Role of Language & Culture:** The material notes the importance of shared language and culture in fostering national identity. This is missing.\n",
       "* **Nationalism & Imperialism – Nuance:** The student acknowledges needing to review this, but the material explains how nationalism shifted towards a more aggressive, imperialistic form in the late 19th century, contributing to WWI. The connection between the two is not explored.\n",
       "* **Detailed Timeline:** While they remember some years, a precise understanding of the timeline of events (e.g., exact year of Italian unification, Frankfurt Assembly’s timeframe) is lacking.\n",
       "* **Context of the Frankfurt Assembly:** The student mentions the assembly but doesn’t explain *why* it failed – the rejection by the Prussian King and the suppression of liberal initiatives.\n",
       "\n",
       "\n",
       "\n",
       "**3. MISCONCEPTIONS:**\n",
       "\n",
       "* **“Sardini appeed Montt”:** This appears to be a misremembering of Sardinia-Piedmont and Cavour. This indicates a lack of firm recall of key names and their roles.\n",
       "* **Napoleon’s Reforms – Vague Understanding:** The student’s description of Napoleon’s reforms is very general. They correctly identify equality before the law but lack specifics, suggesting a superficial understanding.\n",
       "* **Allegories – Purpose:** The student states they are “not clear on that” regarding the female allegories. They don’t grasp the deliberate choice of a mother figure to symbolize the nation and evoke feelings of belonging and patriotism.\n",
       "\n",
       "**4. DEPTH OF UNDERSTANDING:**\n",
       "\n",
       "The student demonstrates primarily *surface-level* knowledge. They can recall names, events, and general ideas, but struggle with the *why* behind these events. They lack a deep understanding of the underlying causes and consequences of nationalism, the complexities of the political landscape, and the nuances of the historical context.  For example, they can state Bismarck fought wars, but don’t explain *why* he fought them or the strategic implications.\n",
       "\n",
       "**5. LEARNING PRIORITIES:**\n",
       "\n",
       "1. **Napoleonic Code & Conservative Reaction (High Priority):** Understanding Napoleon’s reforms and the subsequent conservative backlash is crucial for understanding the context in which nationalism developed.\n",
       "2. **Liberalism & its Connection to Nationalism (High Priority):** This is a core concept. Understanding the role of the middle class and liberal ideals is essential.\n",
       "3. **Nationalism & Imperialism (Medium Priority):** Understanding the shift in nationalism’s character in the late 19th century is important for grasping its long-term consequences.\n",
       "4. **Timeline & Specific Details (Medium Priority):** Strengthening recall of key dates and specific details will improve overall comprehension.\n",
       "5. **Purpose of National Allegories (Low Priority):** While important for cultural understanding, this is less critical than the core political and social concepts.\n",
       "\n",
       "**6. TARGETED RECOMMENDATIONS:**\n",
       "\n",
       "* **Napoleonic Code & Conservative Reaction:**\n",
       "    * **Activity:** Create a table comparing and contrasting the principles of the Napoleonic Code with the policies of the conservative regimes that followed.\n",
       "    * **Resource:** Re-read the section on Napoleon and the post-Napoleonic era in the textbook, focusing on specific policies.\n",
       "* **Liberalism & Nationalism:**\n",
       "    * **Activity:** Write a short essay explaining how the rise of the middle class contributed to the growth of nationalism in Europe.\n",
       "    * **Resource:** Research the key tenets of liberalism (individual rights, constitutional government, free markets) and how they aligned with nationalist aspirations.\n",
       "* **Nationalism & Imperialism:**\n",
       "    * **Activity:** Research examples of how nationalism fueled imperialistic ambitions in the late 19th century (e.g., competition for colonies).\n",
       "    * **Resource:** Explore secondary sources that discuss the relationship between nationalism and imperialism.\n",
       "* **Timeline & Specific Details:**\n",
       "    * **Activity:** Create a timeline of key events in the rise of nationalism in Europe, including dates and brief descriptions.\n",
       "    * **Resource:** Use flashcards or online quizzes to test recall of key dates and figures.\n",
       "* **Purpose of National Allegories:**\n",
       "    * **Activity:** Compare and contrast Marianne and Germania, analyzing their symbolism and the messages they were intended to convey.\n",
       "    * **Resource:** Research the concept of national personification and its use in other countries.\n",
       "\n",
       "\n",
       "\n",
       "This detailed analysis should provide the instructor with valuable insights into the student’s understanding and guide targeted interventions to address the identified learning gaps. It also provides the student with a clear roadmap for focused review and improvement."
      ],
      "text/plain": [
       "<IPython.core.display.Markdown object>"
      ]
     },
     "metadata": {},
     "output_type": "display_data"
    }
   ],
   "source": [
    "from IPython.display import display, Markdown\n",
    "\n",
    "display(Markdown(analysis))"
   ]
  },
  {
   "cell_type": "markdown",
   "id": "3dd32874",
   "metadata": {},
   "source": [
    "# Generating question from the above report "
   ]
  },
  {
   "cell_type": "code",
   "execution_count": 29,
   "id": "a654e151",
   "metadata": {},
   "outputs": [],
   "source": [
    "from components.question_generator import questions\n",
    "\n",
    "question = questions.question_gen(\n",
    "    llm=llm,\n",
    "    doc_result=doc_result,\n",
    "    trans_result=trans_result,\n",
    "    analysis=analysis,\n",
    ")"
   ]
  },
  {
   "cell_type": "code",
   "execution_count": 30,
   "id": "0ca04a18",
   "metadata": {},
   "outputs": [
    {
     "name": "stdout",
     "output_type": "stream",
     "text": [
      "Questions\n",
      "\n",
      "1. You mentioned Napoleon brought about changes like equality before the law. Can you elaborate on *specific* reforms within the Napoleonic Code and explain how these reforms challenged the existing social and political structures of Europe at the time?\n",
      "2. After Napoleon's defeat, conservative regimes were established. What does 'conservative' mean in this context, and how did these regimes attempt to undo the changes brought about by the French Revolution and Napoleon?\n",
      "3. You touched upon the role of the middle class. Can you explain how the growth of the middle class contributed to the rise of nationalist sentiments in Europe? Consider their economic interests and political aspirations.\n",
      "4. The text mentions the importance of shared language and culture in fostering national identity. How might a lack of a common language or distinct cultural practices *hinder* the development of a unified nation-state, using examples from the period?\n",
      "5. You correctly identified Bismarck’s wars. However, can you explain Bismarck’s *strategy* in initiating these wars – what was his ultimate goal, and how did each war contribute to the unification of Germany?\n",
      "6. You mentioned the Frankfurt Assembly. What were the key proposals of the Frankfurt Assembly regarding the unification of Germany, and why ultimately did this attempt at unification fail? Be specific about the obstacles they faced.\n",
      "7. Nationalism shifted towards imperialism in the late 19th century. Can you explain how nationalist ideas, which initially focused on uniting people with shared cultures, could be used to justify imperial expansion and the domination of other nations?\n",
      "8. Both Marianne and Germania were used as national allegories. What is the *purpose* of using a female figure to represent a nation? What qualities or ideas do you think these figures were meant to embody, and why choose a human representation instead of a symbol like a flag?\n",
      "9. You mentioned Mazzini’s ‘Young Italy’. What were the core beliefs of ‘Young Italy’ and how did it attempt to achieve Italian unification? What challenges did it face, and why was it ultimately unsuccessful on its own?\n",
      "\n"
     ]
    }
   ],
   "source": [
    "print(\"Questions\\n\")\n",
    "for i,que in enumerate(question):\n",
    "    print(f\"{i+1}. {que}\")\n",
    "print()    "
   ]
  },
  {
   "cell_type": "code",
   "execution_count": 32,
   "id": "6a81512a",
   "metadata": {},
   "outputs": [],
   "source": [
    "answers = []\n",
    "\n",
    "for i in range(len(question)):\n",
    "    ans = input(f\"Enter the answer to:\\n {question[i]}\")\n",
    "    answers.append(ans)\n",
    "\n",
    "# Create a list of question answer pairs {\"question\", \"answer\"} from 2 list that contains question and answer\n",
    "qa_pairs = [{\"question\":q, \"answer\":a} for q,a in zip(question, answers)]"
   ]
  },
  {
   "cell_type": "code",
   "execution_count": 33,
   "id": "2f7ab405",
   "metadata": {},
   "outputs": [],
   "source": [
    "qna = \"\"\n",
    "for i,qa in enumerate(qa_pairs):\n",
    "    q = qa[\"question\"]\n",
    "    a = qa[\"answer\"]\n",
    "    qna = qna + (f\"Q{i+1}. {q}\\n\")\n",
    "    qna = qna + (f\"Ans: {a}\\n\")\n",
    "    qna = qna + \"\\n\""
   ]
  },
  {
   "cell_type": "code",
   "execution_count": 34,
   "id": "e09439a4",
   "metadata": {},
   "outputs": [
    {
     "name": "stdout",
     "output_type": "stream",
     "text": [
      "Q1. You mentioned Napoleon brought about changes like equality before the law. Can you elaborate on *specific* reforms within the Napoleonic Code and explain how these reforms challenged the existing social and political structures of Europe at the time?\n",
      "Ans: Napoleon’s reforms, especially the Napoleonic Code of 1804, were quite significant for Europe, but I’m still not sure about all the details. From what I remember, the Code basically got rid of privileges based on birth, so everyone was supposed to be equal before the law. That was a big change because before that, the aristocracy and nobles had special rights and ordinary people, like peasants, had hardly any say. The Code also made property rights more secure, so people could own land and pass it on to their children, not just the eldest son, which was different from the old system of primogeniture  .  Napoleon also simplified the administrative divisions, so the regions under French control had more uniform laws and systems. He abolished the feudal system, which meant peasants were no longer tied to the land or forced to pay dues to landlords. In towns, he removed restrictions from guilds, which made it easier for people to set up businesses and for goods to move around  . I think he also improved transport and communication, but I’m not sure exactly how.  These reforms challenged the traditional structures because they weakened the power of the old aristocracy and the Church. The old social hierarchies were based on birth and privilege, but now, at least in theory, everyone was equal under the law. This made the system more rational and efficient, but I think not everyone was happy—especially the old elites who lost their special status. Also, even though the Code said everyone was equal, women didn’t really get the same rights as men, and the Code still gave men authority over their families . Overall, the Napoleonic Code spread these ideas to other parts of Europe, especially places like Italy, Germany, and the Netherlands, where Napoleon’s armies went. But I’m not sure if all these reforms lasted after Napoleon was defeated..\n",
      "\n",
      "Q2. After Napoleon's defeat, conservative regimes were established. What does 'conservative' mean in this context, and how did these regimes attempt to undo the changes brought about by the French Revolution and Napoleon?\n",
      "Ans: In this context, ‘conservative’ refers to people and governments who wanted to preserve traditional institutions and customs, like the monarchy, the Church, and the old social hierarchies. After Napoleon was defeated in 1815, the leaders of Europe—like those at the Congress of Vienna—wanted to bring back the old order that existed before the French Revolution  . They thought the changes from the Revolution and Napoleon were too radical and dangerous because they threatened the power of kings and nobles.  The conservative regimes tried to restore the old dynasties, like putting the Bourbon family back on the throne in France. They also brought back censorship to stop revolutionary ideas from spreading, and they didn’t allow much political participation by ordinary people. The governments were mostly autocratic, meaning the rulers had almost all the power and didn’t tolerate opposition  . They also tried to strengthen the Church and make sure property and family traditions were respected.  But, from what I remember, they didn’t want to go all the way back to the way things were before the Revolution. Some conservatives realized that things like a modern army, efficient bureaucracy, and even some economic reforms could actually make monarchies stronger . So, while they tried to undo a lot of the changes, they kept some parts that made the state more powerful. Overall, their main goal was to stop any more revolutions and keep society stable, but I think there was still a lot of unrest because people wanted more freedom and rights.\n",
      "\n",
      "Q3. You touched upon the role of the middle class. Can you explain how the growth of the middle class contributed to the rise of nationalist sentiments in Europe? Consider their economic interests and political aspirations.\n",
      "Ans: The middle class, which included industrialists, businessmen, and professionals, became more important in Europe as industrialization and trade grew, especially in the 19th century  . Before this, most power was held by the aristocracy, but as towns and industries developed, the middle class started to have more influence. They wanted more political rights and a say in government, not just the rich landowners.  Economically, the middle class benefited from free markets and the removal of old restrictions, like guilds and tariffs. They wanted uniform laws and a common currency so it would be easier to do business across different regions  . The idea of a nation-state appealed to them because it meant a single government, which would make trade and movement simpler. They also wanted equality before the law, so they wouldn’t be held back by aristocratic privileges.  Politically, the middle class was inspired by liberal ideas—like freedom, individual rights, and representative government. They didn’t want to be ruled by kings who ignored their interests. So, they supported nationalist movements that aimed to create unified countries with constitutions and parliaments . They hoped that in a nation-state, their voices would matter more and they could protect their property and businesses. But I think in some places, the middle class was still a small group, so their influence grew slowly, especially in central and eastern Europe  . I’m not sure if they always got what they wanted, but they definitely played a big role in spreading nationalist ideas.\n",
      "\n",
      "Q4. The text mentions the importance of shared language and culture in fostering national identity. How might a lack of a common language or distinct cultural practices *hinder* the development of a unified nation-state, using examples from the period?\n",
      "Ans: A lack of a common language or shared culture could make it really hard to build a unified nation-state. For example, in places like the German and Italian regions, there were lots of different dialects and customs, which made people feel more connected to their local area than to a bigger national identity. In the Austro-Hungarian Empire, there were even more problems because so many different ethnic groups lived there—like Czechs, Slovaks, Hungarians, and others—each with their own language and traditions  .  In France, the government tried to spread the French language and culture to make everyone feel like part of one nation. They used schools and public education to teach French and reduce the use of local dialects . But in Spain, even though the elites wanted to do the same thing, they were less successful. Many regions, like Catalonia and the Basque Country, kept their own languages and resisted becoming more “Spanish”  . This meant that national identity was weaker, and people often identified more with their region than with the country as a whole.  Without a common language, it was harder for governments to communicate laws and ideas to everyone, and for people to feel united. It also made it difficult to build things like a national army or economy, because people didn’t always trust or understand each other . So, shared language and culture were really important for making people feel like they belonged to the same nation. If those things were missing, it slowed down or even stopped the process of nation-building.\n",
      "\n",
      "Q5. You correctly identified Bismarck’s wars. However, can you explain Bismarck’s *strategy* in initiating these wars – what was his ultimate goal, and how did each war contribute to the unification of Germany?\n",
      "Ans: Bismarck’s main goal was to unify the German states under Prussian leadership, but I don’t remember all the details of his strategy. I think he wanted to use war to bring the German states together and exclude Austria from German affairs  . First, he fought Denmark in 1864, along with Austria, to gain control of the duchies of Schleswig and Holstein. This gave Prussia more territory and made it look strong.  Next, Bismarck turned against Austria in 1866. He provoked a conflict over the administration of the duchies, leading to the Austro-Prussian War. By defeating Austria, Prussia was able to exclude it from German politics and create the North German Confederation, which was dominated by Prussia  . This was a big step towards unification because it put most of the northern German states under Prussian control.  Finally, Bismarck used the Franco-Prussian War in 1870 to unite the southern German states with the north. He manipulated events so that France declared war on Prussia, which made the southern states join Prussia against a common enemy . After Prussia’s victory, the German Empire was proclaimed in 1871, with the Prussian king as emperor. So, each war was carefully planned to make Prussia stronger and bring more German states together, but I’m not sure if Bismarck always planned everything from the start or just took advantage of opportunities as they came up.\n",
      "\n",
      "Q6. You mentioned the Frankfurt Assembly. What were the key proposals of the Frankfurt Assembly regarding the unification of Germany, and why ultimately did this attempt at unification fail? Be specific about the obstacles they faced.\n",
      "Ans: The Frankfurt Assembly was a meeting of elected representatives from the German states in 1848. Their main proposal was to create a unified Germany with a constitution and a constitutional monarchy, offering the crown to the king of Prussia  . They wanted a parliament and more rights for citizens, moving away from the old system of many small states ruled by princes.  But the Assembly failed for several reasons. First, there were too many different interests among the members—they couldn’t agree on whether to include Austria or just the German-speaking parts (the “Greater Germany” vs. “Lesser Germany” debate) . Also, the Assembly didn’t have its own army or real power, so it depended on the existing rulers to accept its decisions. When they offered the crown to the king of Prussia, he refused because he didn’t want to take power from the people or upset the other princes  . The rulers of the German states and Austria were still strong and didn’t want to give up their power.  In the end, without support from Prussia or Austria, and with no way to enforce its decisions, the Assembly broke up and the old order was restored. So, the attempt at unification failed because of disagreements, lack of power, and opposition from the existing rulers  . I’m not sure if there were other reasons, but these seem to be the main ones.\n",
      "\n",
      "Q7. Nationalism shifted towards imperialism in the late 19th century. Can you explain how nationalist ideas, which initially focused on uniting people with shared cultures, could be used to justify imperial expansion and the domination of other nations?\n",
      "Ans: At first, nationalism was about bringing together people with common language and culture to form their own nation-states. But later, especially in the late 19th century, nationalism became more about showing that your nation was better or stronger than others  . This led to competition between countries, and having colonies became a way to prove a nation’s greatness.  Nationalist ideas were used to justify imperialism by saying that powerful nations had a right or even a duty to “civilize” other parts of the world . Some leaders argued that their country was superior and should spread its culture, laws, and religion to others. This was sometimes called the “white man’s burden”—the belief that Europeans had to bring progress to other peoples. Social Darwinism also played a role, with the idea that stronger nations would naturally dominate weaker ones  .  So, instead of just uniting people inside Europe, nationalism became a reason to conquer and control territories in Africa, Asia, and elsewhere. Colonies were seen as symbols of national pride and power, and countries competed to have the biggest empires . This shift helped cause conflicts between the big powers and contributed to the tensions that led to World War I. I think the original idea of nationalism got twisted into something more aggressive and focused on domination.\n",
      "\n",
      "Q8. Both Marianne and Germania were used as national allegories. What is the *purpose* of using a female figure to represent a nation? What qualities or ideas do you think these figures were meant to embody, and why choose a human representation instead of a symbol like a flag?\n",
      "Ans: Using a female figure like Marianne or Germania as a national allegory was meant to give people a concrete image to connect with their country. These figures personified ideals like liberty, unity, and the republic. Marianne, for example, stood for the French Republic and the values of liberty, equality, and fraternity. Germania represented the German nation and heroism, often shown with a crown of oak leaves  .  The purpose was to make the idea of the nation more relatable and emotional. People could see the nation as a nurturing, protective mother figure, which helped inspire feelings of loyalty and patriotism. A human figure is easier to connect with than an abstract symbol like a flag because it can show emotions and virtues—like courage, justice, or freedom  . Statues and images of these allegories were put in public places, on coins, and stamps to remind people of national unity.  I think the artists chose women because the nation was often imagined as a motherland, caring for its people. Also, female figures had been used in art for a long time to represent ideas like liberty or justice. So, using a human allegory helped make the nation seem real and alive, not just an idea.\n",
      "\n",
      "Q9. You mentioned Mazzini’s ‘Young Italy’. What were the core beliefs of ‘Young Italy’ and how did it attempt to achieve Italian unification? What challenges did it face, and why was it ultimately unsuccessful on its own?\n",
      "Ans: ‘Young Italy’ was a secret society founded by Giuseppe Mazzini in the 1830s. Its main belief was that Italy should be a single, united, independent republic, not a patchwork of small states or under foreign control. Mazzini thought that all Italians were brothers and should work together for freedom and equality. The movement was also about moral and spiritual revival, not just politics  .  Young Italy tried to achieve unification by spreading ideas through pamphlets and journals, and by organizing uprisings and conspiracies against the rulers of the Italian states. Mazzini believed that a popular uprising would start a chain reaction and lead to independence, not just in Italy but across Europe . The movement attracted many young people, especially from the middle class, and grew quickly in some regions  .  However, Young Italy faced many challenges. Most of its revolts failed because they didn’t have enough popular support, and the governments were strong enough to crush them. The society also lacked money and resources, and the rulers used censorship and repression to stop its activities . After several failed uprisings, people started to lose faith in Mazzini’s methods, and leadership of the unification movement passed to Sardinia-Piedmont, which used more diplomatic and military means. So, Young Italy was important for spreading nationalist ideas, but it couldn’t achieve unification on its own because it didn’t have enough support or power to overcome the obstacles.\n",
      "\n",
      "\n"
     ]
    }
   ],
   "source": [
    "print(qna)"
   ]
  },
  {
   "cell_type": "code",
   "execution_count": 62,
   "id": "24a25927",
   "metadata": {},
   "outputs": [
    {
     "name": "stderr",
     "output_type": "stream",
     "text": [
      "Retrying langchain_google_genai.chat_models._chat_with_retry.<locals>._chat_with_retry in 2.0 seconds as it raised ResourceExhausted: 429 You exceeded your current quota, please check your plan and billing details. For more information on this error, head to: https://ai.google.dev/gemini-api/docs/rate-limits. [violations {\n",
      "  quota_metric: \"generativelanguage.googleapis.com/generate_content_free_tier_input_token_count\"\n",
      "  quota_id: \"GenerateContentInputTokensPerModelPerMinute-FreeTier\"\n",
      "  quota_dimensions {\n",
      "    key: \"model\"\n",
      "    value: \"gemma-3-27b\"\n",
      "  }\n",
      "  quota_dimensions {\n",
      "    key: \"location\"\n",
      "    value: \"global\"\n",
      "  }\n",
      "  quota_value: 15000\n",
      "}\n",
      ", links {\n",
      "  description: \"Learn more about Gemini API quotas\"\n",
      "  url: \"https://ai.google.dev/gemini-api/docs/rate-limits\"\n",
      "}\n",
      ", retry_delay {\n",
      "  seconds: 47\n",
      "}\n",
      "].\n"
     ]
    },
    {
     "ename": "ResourceExhausted",
     "evalue": "429 You exceeded your current quota, please check your plan and billing details. For more information on this error, head to: https://ai.google.dev/gemini-api/docs/rate-limits. [violations {\n  quota_metric: \"generativelanguage.googleapis.com/generate_content_free_tier_input_token_count\"\n  quota_id: \"GenerateContentInputTokensPerModelPerMinute-FreeTier\"\n  quota_dimensions {\n    key: \"model\"\n    value: \"gemma-3-27b\"\n  }\n  quota_dimensions {\n    key: \"location\"\n    value: \"global\"\n  }\n  quota_value: 15000\n}\n, links {\n  description: \"Learn more about Gemini API quotas\"\n  url: \"https://ai.google.dev/gemini-api/docs/rate-limits\"\n}\n, retry_delay {\n  seconds: 44\n}\n]",
     "output_type": "error",
     "traceback": [
      "\u001b[31m---------------------------------------------------------------------------\u001b[39m",
      "\u001b[31mResourceExhausted\u001b[39m                         Traceback (most recent call last)",
      "\u001b[36mCell\u001b[39m\u001b[36m \u001b[39m\u001b[32mIn[62]\u001b[39m\u001b[32m, line 3\u001b[39m\n\u001b[32m      1\u001b[39m \u001b[38;5;28;01mfrom\u001b[39;00m\u001b[38;5;250m \u001b[39m\u001b[34;01mcomponents\u001b[39;00m\u001b[34;01m.\u001b[39;00m\u001b[34;01mqna_judge\u001b[39;00m\u001b[38;5;250m \u001b[39m\u001b[38;5;28;01mimport\u001b[39;00m judge\n\u001b[32m----> \u001b[39m\u001b[32m3\u001b[39m evaluation_report = \u001b[43mjudge\u001b[49m\u001b[43m.\u001b[49m\u001b[43mqna_check_and_scoring\u001b[49m\u001b[43m(\u001b[49m\n\u001b[32m      4\u001b[39m \u001b[43m   \u001b[49m\u001b[43mllm\u001b[49m\u001b[43m=\u001b[49m\u001b[43mllm\u001b[49m\u001b[43m,\u001b[49m\n\u001b[32m      5\u001b[39m \u001b[43m   \u001b[49m\u001b[43mdoc_result\u001b[49m\u001b[43m=\u001b[49m\u001b[43mdoc_result\u001b[49m\u001b[43m,\u001b[49m\n\u001b[32m      6\u001b[39m \u001b[43m   \u001b[49m\u001b[43mtrans_result\u001b[49m\u001b[43m=\u001b[49m\u001b[43mtrans_result\u001b[49m\u001b[43m,\u001b[49m\n\u001b[32m      7\u001b[39m \u001b[43m   \u001b[49m\u001b[43manalysis\u001b[49m\u001b[43m=\u001b[49m\u001b[43manalysis\u001b[49m\u001b[43m,\u001b[49m\n\u001b[32m      8\u001b[39m \u001b[43m   \u001b[49m\u001b[43mqna\u001b[49m\u001b[43m=\u001b[49m\u001b[43mqna\u001b[49m\n\u001b[32m      9\u001b[39m \u001b[43m)\u001b[49m\n",
      "\u001b[36mFile \u001b[39m\u001b[32m~/Desktop/ADHYAYAN_MITRA/components/qna_judge/judge.py:82\u001b[39m, in \u001b[36mqna_check_and_scoring\u001b[39m\u001b[34m(llm, doc_result, trans_result, analysis, qna)\u001b[39m\n\u001b[32m      4\u001b[39m \u001b[38;5;28;01mdef\u001b[39;00m\u001b[38;5;250m \u001b[39m\u001b[34mqna_check_and_scoring\u001b[39m(llm: BaseChatModel, doc_result: \u001b[38;5;28mstr\u001b[39m, trans_result: \u001b[38;5;28mstr\u001b[39m, analysis: \u001b[38;5;28mstr\u001b[39m, qna: \u001b[38;5;28mstr\u001b[39m) -> \u001b[38;5;28mstr\u001b[39m:\n\u001b[32m      5\u001b[39m \u001b[38;5;250m    \u001b[39m\u001b[33;03m\"\"\"\u001b[39;00m\n\u001b[32m      6\u001b[39m \u001b[33;03m    Generates an expert evaluation of student Q&A based on provided materials.\u001b[39;00m\n\u001b[32m      7\u001b[39m \n\u001b[32m   (...)\u001b[39m\u001b[32m     16\u001b[39m \u001b[33;03m        A string containing the structured evaluation report.\u001b[39;00m\n\u001b[32m     17\u001b[39m \u001b[33;03m    \"\"\"\u001b[39;00m\n\u001b[32m     18\u001b[39m     answer_checker_prompt = PromptTemplate.from_template(\n\u001b[32m     19\u001b[39m \u001b[38;5;250m        \u001b[39m\u001b[33;03m\"\"\"\u001b[39;00m\n\u001b[32m     20\u001b[39m \u001b[33;03m    **Role**: You are an Expert Assessment Assistant specializing in Historical Analysis. Your task is to provide a rigorous, multi-dimensional evaluation of a student's response based on the provided materials.\u001b[39;00m\n\u001b[32m     21\u001b[39m \n\u001b[32m     22\u001b[39m \u001b[33;03m    **Input Documents**:\u001b[39;00m\n\u001b[32m     23\u001b[39m \u001b[33;03m    *   **LEARNING MATERIAL ({doc1_ref})**: {doc1}\u001b[39;00m\n\u001b[32m     24\u001b[39m \u001b[33;03m    *   **STUDENT'S PRIOR KNOWLEDGE ({doc2_ref})**: {doc2}\u001b[39;00m\n\u001b[32m     25\u001b[39m \u001b[33;03m    *   **GAP ANALYSIS HISTORY ({doc3_ref})**: {doc3}\u001b[39;00m\n\u001b[32m     26\u001b[39m \u001b[33;03m    *   **QUESTION & ANSWER ({qna_ref})**: {question_answers}\u001b[39;00m\n\u001b[32m     27\u001b[39m \n\u001b[32m     28\u001b[39m \u001b[33;03m    **Core Instruction**: Generate a structured evaluation report. The report **MUST** begin with the Total Score, followed immediately by a detailed Scoring Breakdown presented in a Markdown table. Adhere strictly to the output format specified below.\u001b[39;00m\n\u001b[32m     29\u001b[39m \n\u001b[32m     30\u001b[39m \u001b[33;03m    **Required Output Format**:\u001b[39;00m\n\u001b[32m     31\u001b[39m \n\u001b[32m     32\u001b[39m \u001b[33;03m    ## Student Performance Evaluation\u001b[39;00m\n\u001b[32m     33\u001b[39m \n\u001b[32m     34\u001b[39m \u001b[33;03m    ### **Total Score**: [Awarded Score]/100\u001b[39;00m\n\u001b[32m     35\u001b[39m \n\u001b[32m     36\u001b[39m \u001b[33;03m    ### **Scoring Breakdown**\u001b[39;00m\n\u001b[32m     37\u001b[39m \u001b[33;03m    | Evaluation Category  | Max Points | Awarded Points | Justification Snippet / Rationale                                     |\u001b[39;00m\n\u001b[32m     38\u001b[39m \u001b[33;03m    |----------------------|------------|----------------|-----------------------------------------------------------------------|\u001b[39;00m\n\u001b[32m     39\u001b[39m \u001b[33;03m    | **Accuracy Check**   | 30         | [Score]        | [Brief rationale referencing factual alignment/chronology/precision]  |\u001b[39;00m\n\u001b[32m     40\u001b[39m \u001b[33;03m    | **Depth Analysis**   | 25         | [Score]        | [Brief rationale referencing critical thinking/cause-effect/context]  |\u001b[39;00m\n\u001b[32m     41\u001b[39m \u001b[33;03m    | **Completeness**     | 20         | [Score]        | [Brief rationale referencing coverage/required elements/perspectives] |\u001b[39;00m\n\u001b[32m     42\u001b[39m \u001b[33;03m    | **Conceptual Clarity**| 15         | [Score]        | [Brief rationale referencing terminology/linkages/identifications]    |\u001b[39;00m\n\u001b[32m     43\u001b[39m \u001b[33;03m    | **Critical Analysis**| 10         | [Score]        | [Brief rationale referencing insight/comparison/argumentation]      |\u001b[39;00m\n\u001b[32m     44\u001b[39m \u001b[33;03m    | **TOTAL**            | **100**    | **[Total Score]**| **Overall Assessment Summary**                                          |\u001b[39;00m\n\u001b[32m     45\u001b[39m \n\u001b[32m     46\u001b[39m \u001b[33;03m    *(Note: Fill in [Score] and [Total Score] with calculated values. Justification should be concise here, detailed elaboration follows below if needed.)*\u001b[39;00m\n\u001b[32m     47\u001b[39m \n\u001b[32m     48\u001b[39m \u001b[33;03m    ---\u001b[39;00m\n\u001b[32m     49\u001b[39m \n\u001b[32m     50\u001b[39m \u001b[33;03m    ### **Detailed Feedback**\u001b[39;00m\n\u001b[32m     51\u001b[39m \n\u001b[32m     52\u001b[39m \u001b[33;03m    #### Strong Areas\u001b[39;00m\n\u001b[32m     53\u001b[39m \u001b[33;03m    *   [Identify 1-3 specific points where the student excelled, quoting or referencing their answer and linking to LEARNING MATERIAL ({doc1_ref}) concepts. Example: \"Excellent grasp of [Concept X] as evidenced by '[Student's relevant phrase]', aligning well with {doc1_ref} section Y.\"]\u001b[39;00m\n\u001b[32m     54\u001b[39m \n\u001b[32m     55\u001b[39m \u001b[33;03m    #### Areas for Improvement & Gap Analysis\u001b[39;00m\n\u001b[32m     56\u001b[39m \u001b[33;03m    *   **Factual Errors**:\u001b[39;00m\n\u001b[32m     57\u001b[39m \u001b[33;03m        *   [List specific inaccuracies found in the student's answer ({qna_ref}). Provide the correction and reference the LEARNING MATERIAL ({doc1_ref}). Example: \"Incorrectly stated [Event Z] occurred in [Year A]; it occurred in [Year B] (see {doc1_ref}, p. 5).\"]\u001b[39;00m\n\u001b[32m     58\u001b[39m \u001b[33;03m    *   **Conceptual Gaps**:\u001b[39;00m\n\u001b[32m     59\u001b[39m \u001b[33;03m        *   [Identify specific theories, principles, or concepts from {doc1_ref} that were misunderstood or poorly explained in {qna_ref}. Example: \"Misunderstood the concept of [Concept W], described in {doc1_ref} section Z.\"]\u001b[39;00m\n\u001b[32m     60\u001b[39m \u001b[33;03m    *   **Omissions**:\u001b[39;00m\n\u001b[32m     61\u001b[39m \u001b[33;03m        *   [List critical elements, perspectives, or details required by the question or present in {doc1_ref} that were missing from the student's answer ({qna_ref}). Example: \"Failed to mention the significance of [Key Figure/Event] discussed in {doc1_ref}.\"]\u001b[39;00m\n\u001b[32m     62\u001b[39m \u001b[33;03m    *   **Vague Assertions**:\u001b[39;00m\n\u001b[32m     63\u001b[39m \u001b[33;03m        *   [Point out claims in {qna_ref} lacking specific evidence or support from {doc1_ref}. Example: \"The statement '[Vague Student Claim]' needs substantiation, potentially using evidence from {doc1_ref} regarding [Topic V].\"]\u001b[39;00m\n\u001b[32m     64\u001b[39m \n\u001b[32m     65\u001b[39m \u001b[33;03m    ---\u001b[39;00m\n\u001b[32m     66\u001b[39m \n\u001b[32m     67\u001b[39m \u001b[33;03m    ### **Misconception Analysis**\u001b[39;00m\n\u001b[32m     68\u001b[39m \u001b[33;03m    | Identified Misconception (from {qna_ref}) | Relevant Material ({doc1_ref} Excerpt/Ref) | Correction / Clarification |\u001b[39;00m\n\u001b[32m     69\u001b[39m \u001b[33;03m    |-------------------------------------------|--------------------------------------------|----------------------------|\u001b[39;00m\n\u001b[32m     70\u001b[39m \u001b[33;03m    | [Student's specific error or misunderstanding] | [Relevant quote or page/section reference] | [Accurate explanation or context] |\u001b[39;00m\n\u001b[32m     71\u001b[39m \u001b[33;03m    | ...                                       | ...                                        | ...                        |\u001b[39;00m\n\u001b[32m     72\u001b[39m \n\u001b[32m     73\u001b[39m \u001b[33;03m    ---\u001b[39;00m\n\u001b[32m     74\u001b[39m \n\u001b[32m     75\u001b[39m \u001b[33;03m    ### **Personalized Learning Path**\u001b[39;00m\n\u001b[32m     76\u001b[39m \n\u001b[32m     77\u001b[39m \u001b[33;03m    #### 1. Immediate Focus Areas:\u001b[39;00m\n\u001b[32m     78\u001b[39m \u001b[33;03m        *   [Priority 1: e.g., Review factual details of Event X]\u001b[39;00m\n\u001b[32m     79\u001b[39m \u001b[33;03m        *   [Priority 2: e.g., Deepen understanding of Concept Y]\u001b[39;00m\n\u001b[32m     80\u001b[39m \u001b[33;03m        *   [Priority 3: e.g., Practice structuring comparative arguments]\u001b[39;00m\n\u001b[32m     81\u001b[39m \n\u001b[32m---> \u001b[39m\u001b[32m82\u001b[39m \u001b[33;03m    #### 2. Resource Recommendations:\u001b[39;00m\n\u001b[32m     83\u001b[39m \u001b[33;03m        *   **Primary Material Review**: Focus on [Specific section(s) or pages in {doc1_ref}] related to identified gaps.\u001b[39;00m\n\u001b[32m     84\u001b[39m \u001b[33;03m        *   **Prior Knowledge Link**: Revisit [Specific concept in {doc2_ref}] and compare with {doc1_ref}.\u001b[39;00m\n\u001b[32m     85\u001b[39m \u001b[33;03m        *   **Visual Aid**: Consider [Suggest relevant map, timeline, or diagram, potentially from {doc1_ref} or external].\u001b[39;00m\n\u001b[32m     86\u001b[39m \u001b[33;03m        *   **Further Reading/Practice**: [Suggest specific exercises, related articles, or primary sources].\u001b[39;00m\n\u001b[32m     87\u001b[39m \n\u001b[32m     88\u001b[39m \u001b[33;03m    #### 3. Skill-Building Exercises:\u001b[39;00m\n\u001b[32m     89\u001b[39m \u001b[33;03m        *   **Accuracy Drill**: [e.g., Create a timeline of key events from {doc1_ref} section X].\u001b[39;00m\n\u001b[32m     90\u001b[39m \u001b[33;03m        *   **Analysis Practice**: [e.g., Write a short paragraph explaining the cause-effect relationship between A and B, using {doc1_ref}].\u001b[39;00m\n\u001b[32m     91\u001b[39m \u001b[33;03m        *   **Argumentation**: [e.g., Outline an argument comparing perspective C and D based on {doc1_ref}].\u001b[39;00m\n\u001b[32m     92\u001b[39m \n\u001b[32m     93\u001b[39m \u001b[33;03m    ---\u001b[39;00m\n\u001b[32m     94\u001b[39m \n\u001b[32m     95\u001b[39m \u001b[33;03m    ### **Detailed Rubric Application Notes**\u001b[39;00m\n\u001b[32m     96\u001b[39m \u001b[33;03m    *(Elaborate on the scoring decisions made in the table above, providing specific examples from the student's answer ({qna_ref}) for each category.)*\u001b[39;00m\n\u001b[32m     97\u001b[39m \u001b[33;03m    *   **Accuracy Check**: [Detailed reasoning for the awarded points, citing specific correct/incorrect statements from {qna_ref} vs {doc1_ref}].\u001b[39;00m\n\u001b[32m     98\u001b[39m \u001b[33;03m    *   **Depth Analysis**: [Detailed reasoning, citing examples of critical thought or lack thereof in {qna_ref}].\u001b[39;00m\n\u001b[32m     99\u001b[39m \u001b[33;03m    *   **Completeness**: [Detailed reasoning on coverage vs omissions in {qna_ref} based on question requirements and {doc1_ref}].\u001b[39;00m\n\u001b[32m    100\u001b[39m \u001b[33;03m    *   **Conceptual Clarity**: [Detailed reasoning on terminology use and understanding shown in {qna_ref}].\u001b[39;00m\n\u001b[32m    101\u001b[39m \u001b[33;03m    *   **Critical Analysis**: [Detailed reasoning on original insight, comparison quality, or argumentation structure in {qna_ref}].\u001b[39;00m\n\u001b[32m    102\u001b[39m \n\u001b[32m    103\u001b[39m \u001b[33;03m    **End of Evaluation**\u001b[39;00m\n\u001b[32m    104\u001b[39m \u001b[33;03m    \"\"\"\u001b[39;00m\n\u001b[32m    105\u001b[39m     )\n\u001b[32m    107\u001b[39m     \u001b[38;5;66;03m# Add reference names for clarity in the prompt\u001b[39;00m\n\u001b[32m    108\u001b[39m     doc1_ref = \u001b[33m\"\u001b[39m\u001b[33mLearning Material\u001b[39m\u001b[33m\"\u001b[39m\n",
      "\u001b[36mFile \u001b[39m\u001b[32m~/Desktop/ADHYAYAN_MITRA/.venv/lib/python3.12/site-packages/langchain_core/runnables/base.py:3034\u001b[39m, in \u001b[36mRunnableSequence.invoke\u001b[39m\u001b[34m(self, input, config, **kwargs)\u001b[39m\n\u001b[32m   3032\u001b[39m                 \u001b[38;5;28minput\u001b[39m = context.run(step.invoke, \u001b[38;5;28minput\u001b[39m, config, **kwargs)\n\u001b[32m   3033\u001b[39m             \u001b[38;5;28;01melse\u001b[39;00m:\n\u001b[32m-> \u001b[39m\u001b[32m3034\u001b[39m                 \u001b[38;5;28minput\u001b[39m = \u001b[43mcontext\u001b[49m\u001b[43m.\u001b[49m\u001b[43mrun\u001b[49m\u001b[43m(\u001b[49m\u001b[43mstep\u001b[49m\u001b[43m.\u001b[49m\u001b[43minvoke\u001b[49m\u001b[43m,\u001b[49m\u001b[43m \u001b[49m\u001b[38;5;28;43minput\u001b[39;49m\u001b[43m,\u001b[49m\u001b[43m \u001b[49m\u001b[43mconfig\u001b[49m\u001b[43m)\u001b[49m\n\u001b[32m   3035\u001b[39m \u001b[38;5;66;03m# finish the root run\u001b[39;00m\n\u001b[32m   3036\u001b[39m \u001b[38;5;28;01mexcept\u001b[39;00m \u001b[38;5;167;01mBaseException\u001b[39;00m \u001b[38;5;28;01mas\u001b[39;00m e:\n",
      "\u001b[36mFile \u001b[39m\u001b[32m~/Desktop/ADHYAYAN_MITRA/.venv/lib/python3.12/site-packages/langchain_google_genai/chat_models.py:1175\u001b[39m, in \u001b[36mChatGoogleGenerativeAI.invoke\u001b[39m\u001b[34m(self, input, config, code_execution, stop, **kwargs)\u001b[39m\n\u001b[32m   1170\u001b[39m     \u001b[38;5;28;01melse\u001b[39;00m:\n\u001b[32m   1171\u001b[39m         \u001b[38;5;28;01mraise\u001b[39;00m \u001b[38;5;167;01mValueError\u001b[39;00m(\n\u001b[32m   1172\u001b[39m             \u001b[33m\"\u001b[39m\u001b[33mTools are already defined.\u001b[39m\u001b[33m\"\u001b[39m \u001b[33m\"\u001b[39m\u001b[33mcode_execution tool can\u001b[39m\u001b[33m'\u001b[39m\u001b[33mt be defined\u001b[39m\u001b[33m\"\u001b[39m\n\u001b[32m   1173\u001b[39m         )\n\u001b[32m-> \u001b[39m\u001b[32m1175\u001b[39m \u001b[38;5;28;01mreturn\u001b[39;00m \u001b[38;5;28;43msuper\u001b[39;49m\u001b[43m(\u001b[49m\u001b[43m)\u001b[49m\u001b[43m.\u001b[49m\u001b[43minvoke\u001b[49m\u001b[43m(\u001b[49m\u001b[38;5;28;43minput\u001b[39;49m\u001b[43m,\u001b[49m\u001b[43m \u001b[49m\u001b[43mconfig\u001b[49m\u001b[43m,\u001b[49m\u001b[43m \u001b[49m\u001b[43mstop\u001b[49m\u001b[43m=\u001b[49m\u001b[43mstop\u001b[49m\u001b[43m,\u001b[49m\u001b[43m \u001b[49m\u001b[43m*\u001b[49m\u001b[43m*\u001b[49m\u001b[43mkwargs\u001b[49m\u001b[43m)\u001b[49m\n",
      "\u001b[36mFile \u001b[39m\u001b[32m~/Desktop/ADHYAYAN_MITRA/.venv/lib/python3.12/site-packages/langchain_core/language_models/chat_models.py:368\u001b[39m, in \u001b[36mBaseChatModel.invoke\u001b[39m\u001b[34m(self, input, config, stop, **kwargs)\u001b[39m\n\u001b[32m    356\u001b[39m \u001b[38;5;129m@override\u001b[39m\n\u001b[32m    357\u001b[39m \u001b[38;5;28;01mdef\u001b[39;00m\u001b[38;5;250m \u001b[39m\u001b[34minvoke\u001b[39m(\n\u001b[32m    358\u001b[39m     \u001b[38;5;28mself\u001b[39m,\n\u001b[32m   (...)\u001b[39m\u001b[32m    363\u001b[39m     **kwargs: Any,\n\u001b[32m    364\u001b[39m ) -> BaseMessage:\n\u001b[32m    365\u001b[39m     config = ensure_config(config)\n\u001b[32m    366\u001b[39m     \u001b[38;5;28;01mreturn\u001b[39;00m cast(\n\u001b[32m    367\u001b[39m         \u001b[33m\"\u001b[39m\u001b[33mChatGeneration\u001b[39m\u001b[33m\"\u001b[39m,\n\u001b[32m--> \u001b[39m\u001b[32m368\u001b[39m         \u001b[38;5;28;43mself\u001b[39;49m\u001b[43m.\u001b[49m\u001b[43mgenerate_prompt\u001b[49m\u001b[43m(\u001b[49m\n\u001b[32m    369\u001b[39m \u001b[43m            \u001b[49m\u001b[43m[\u001b[49m\u001b[38;5;28;43mself\u001b[39;49m\u001b[43m.\u001b[49m\u001b[43m_convert_input\u001b[49m\u001b[43m(\u001b[49m\u001b[38;5;28;43minput\u001b[39;49m\u001b[43m)\u001b[49m\u001b[43m]\u001b[49m\u001b[43m,\u001b[49m\n\u001b[32m    370\u001b[39m \u001b[43m            \u001b[49m\u001b[43mstop\u001b[49m\u001b[43m=\u001b[49m\u001b[43mstop\u001b[49m\u001b[43m,\u001b[49m\n\u001b[32m    371\u001b[39m \u001b[43m            \u001b[49m\u001b[43mcallbacks\u001b[49m\u001b[43m=\u001b[49m\u001b[43mconfig\u001b[49m\u001b[43m.\u001b[49m\u001b[43mget\u001b[49m\u001b[43m(\u001b[49m\u001b[33;43m\"\u001b[39;49m\u001b[33;43mcallbacks\u001b[39;49m\u001b[33;43m\"\u001b[39;49m\u001b[43m)\u001b[49m\u001b[43m,\u001b[49m\n\u001b[32m    372\u001b[39m \u001b[43m            \u001b[49m\u001b[43mtags\u001b[49m\u001b[43m=\u001b[49m\u001b[43mconfig\u001b[49m\u001b[43m.\u001b[49m\u001b[43mget\u001b[49m\u001b[43m(\u001b[49m\u001b[33;43m\"\u001b[39;49m\u001b[33;43mtags\u001b[39;49m\u001b[33;43m\"\u001b[39;49m\u001b[43m)\u001b[49m\u001b[43m,\u001b[49m\n\u001b[32m    373\u001b[39m \u001b[43m            \u001b[49m\u001b[43mmetadata\u001b[49m\u001b[43m=\u001b[49m\u001b[43mconfig\u001b[49m\u001b[43m.\u001b[49m\u001b[43mget\u001b[49m\u001b[43m(\u001b[49m\u001b[33;43m\"\u001b[39;49m\u001b[33;43mmetadata\u001b[39;49m\u001b[33;43m\"\u001b[39;49m\u001b[43m)\u001b[49m\u001b[43m,\u001b[49m\n\u001b[32m    374\u001b[39m \u001b[43m            \u001b[49m\u001b[43mrun_name\u001b[49m\u001b[43m=\u001b[49m\u001b[43mconfig\u001b[49m\u001b[43m.\u001b[49m\u001b[43mget\u001b[49m\u001b[43m(\u001b[49m\u001b[33;43m\"\u001b[39;49m\u001b[33;43mrun_name\u001b[39;49m\u001b[33;43m\"\u001b[39;49m\u001b[43m)\u001b[49m\u001b[43m,\u001b[49m\n\u001b[32m    375\u001b[39m \u001b[43m            \u001b[49m\u001b[43mrun_id\u001b[49m\u001b[43m=\u001b[49m\u001b[43mconfig\u001b[49m\u001b[43m.\u001b[49m\u001b[43mpop\u001b[49m\u001b[43m(\u001b[49m\u001b[33;43m\"\u001b[39;49m\u001b[33;43mrun_id\u001b[39;49m\u001b[33;43m\"\u001b[39;49m\u001b[43m,\u001b[49m\u001b[43m \u001b[49m\u001b[38;5;28;43;01mNone\u001b[39;49;00m\u001b[43m)\u001b[49m\u001b[43m,\u001b[49m\n\u001b[32m    376\u001b[39m \u001b[43m            \u001b[49m\u001b[43m*\u001b[49m\u001b[43m*\u001b[49m\u001b[43mkwargs\u001b[49m\u001b[43m,\u001b[49m\n\u001b[32m    377\u001b[39m \u001b[43m        \u001b[49m\u001b[43m)\u001b[49m.generations[\u001b[32m0\u001b[39m][\u001b[32m0\u001b[39m],\n\u001b[32m    378\u001b[39m     ).message\n",
      "\u001b[36mFile \u001b[39m\u001b[32m~/Desktop/ADHYAYAN_MITRA/.venv/lib/python3.12/site-packages/langchain_core/language_models/chat_models.py:937\u001b[39m, in \u001b[36mBaseChatModel.generate_prompt\u001b[39m\u001b[34m(self, prompts, stop, callbacks, **kwargs)\u001b[39m\n\u001b[32m    928\u001b[39m \u001b[38;5;129m@override\u001b[39m\n\u001b[32m    929\u001b[39m \u001b[38;5;28;01mdef\u001b[39;00m\u001b[38;5;250m \u001b[39m\u001b[34mgenerate_prompt\u001b[39m(\n\u001b[32m    930\u001b[39m     \u001b[38;5;28mself\u001b[39m,\n\u001b[32m   (...)\u001b[39m\u001b[32m    934\u001b[39m     **kwargs: Any,\n\u001b[32m    935\u001b[39m ) -> LLMResult:\n\u001b[32m    936\u001b[39m     prompt_messages = [p.to_messages() \u001b[38;5;28;01mfor\u001b[39;00m p \u001b[38;5;129;01min\u001b[39;00m prompts]\n\u001b[32m--> \u001b[39m\u001b[32m937\u001b[39m     \u001b[38;5;28;01mreturn\u001b[39;00m \u001b[38;5;28;43mself\u001b[39;49m\u001b[43m.\u001b[49m\u001b[43mgenerate\u001b[49m\u001b[43m(\u001b[49m\u001b[43mprompt_messages\u001b[49m\u001b[43m,\u001b[49m\u001b[43m \u001b[49m\u001b[43mstop\u001b[49m\u001b[43m=\u001b[49m\u001b[43mstop\u001b[49m\u001b[43m,\u001b[49m\u001b[43m \u001b[49m\u001b[43mcallbacks\u001b[49m\u001b[43m=\u001b[49m\u001b[43mcallbacks\u001b[49m\u001b[43m,\u001b[49m\u001b[43m \u001b[49m\u001b[43m*\u001b[49m\u001b[43m*\u001b[49m\u001b[43mkwargs\u001b[49m\u001b[43m)\u001b[49m\n",
      "\u001b[36mFile \u001b[39m\u001b[32m~/Desktop/ADHYAYAN_MITRA/.venv/lib/python3.12/site-packages/langchain_core/language_models/chat_models.py:759\u001b[39m, in \u001b[36mBaseChatModel.generate\u001b[39m\u001b[34m(self, messages, stop, callbacks, tags, metadata, run_name, run_id, **kwargs)\u001b[39m\n\u001b[32m    756\u001b[39m \u001b[38;5;28;01mfor\u001b[39;00m i, m \u001b[38;5;129;01min\u001b[39;00m \u001b[38;5;28menumerate\u001b[39m(messages):\n\u001b[32m    757\u001b[39m     \u001b[38;5;28;01mtry\u001b[39;00m:\n\u001b[32m    758\u001b[39m         results.append(\n\u001b[32m--> \u001b[39m\u001b[32m759\u001b[39m             \u001b[38;5;28;43mself\u001b[39;49m\u001b[43m.\u001b[49m\u001b[43m_generate_with_cache\u001b[49m\u001b[43m(\u001b[49m\n\u001b[32m    760\u001b[39m \u001b[43m                \u001b[49m\u001b[43mm\u001b[49m\u001b[43m,\u001b[49m\n\u001b[32m    761\u001b[39m \u001b[43m                \u001b[49m\u001b[43mstop\u001b[49m\u001b[43m=\u001b[49m\u001b[43mstop\u001b[49m\u001b[43m,\u001b[49m\n\u001b[32m    762\u001b[39m \u001b[43m                \u001b[49m\u001b[43mrun_manager\u001b[49m\u001b[43m=\u001b[49m\u001b[43mrun_managers\u001b[49m\u001b[43m[\u001b[49m\u001b[43mi\u001b[49m\u001b[43m]\u001b[49m\u001b[43m \u001b[49m\u001b[38;5;28;43;01mif\u001b[39;49;00m\u001b[43m \u001b[49m\u001b[43mrun_managers\u001b[49m\u001b[43m \u001b[49m\u001b[38;5;28;43;01melse\u001b[39;49;00m\u001b[43m \u001b[49m\u001b[38;5;28;43;01mNone\u001b[39;49;00m\u001b[43m,\u001b[49m\n\u001b[32m    763\u001b[39m \u001b[43m                \u001b[49m\u001b[43m*\u001b[49m\u001b[43m*\u001b[49m\u001b[43mkwargs\u001b[49m\u001b[43m,\u001b[49m\n\u001b[32m    764\u001b[39m \u001b[43m            \u001b[49m\u001b[43m)\u001b[49m\n\u001b[32m    765\u001b[39m         )\n\u001b[32m    766\u001b[39m     \u001b[38;5;28;01mexcept\u001b[39;00m \u001b[38;5;167;01mBaseException\u001b[39;00m \u001b[38;5;28;01mas\u001b[39;00m e:\n\u001b[32m    767\u001b[39m         \u001b[38;5;28;01mif\u001b[39;00m run_managers:\n",
      "\u001b[36mFile \u001b[39m\u001b[32m~/Desktop/ADHYAYAN_MITRA/.venv/lib/python3.12/site-packages/langchain_core/language_models/chat_models.py:1002\u001b[39m, in \u001b[36mBaseChatModel._generate_with_cache\u001b[39m\u001b[34m(self, messages, stop, run_manager, **kwargs)\u001b[39m\n\u001b[32m   1000\u001b[39m     result = generate_from_stream(\u001b[38;5;28miter\u001b[39m(chunks))\n\u001b[32m   1001\u001b[39m \u001b[38;5;28;01melif\u001b[39;00m inspect.signature(\u001b[38;5;28mself\u001b[39m._generate).parameters.get(\u001b[33m\"\u001b[39m\u001b[33mrun_manager\u001b[39m\u001b[33m\"\u001b[39m):\n\u001b[32m-> \u001b[39m\u001b[32m1002\u001b[39m     result = \u001b[38;5;28;43mself\u001b[39;49m\u001b[43m.\u001b[49m\u001b[43m_generate\u001b[49m\u001b[43m(\u001b[49m\n\u001b[32m   1003\u001b[39m \u001b[43m        \u001b[49m\u001b[43mmessages\u001b[49m\u001b[43m,\u001b[49m\u001b[43m \u001b[49m\u001b[43mstop\u001b[49m\u001b[43m=\u001b[49m\u001b[43mstop\u001b[49m\u001b[43m,\u001b[49m\u001b[43m \u001b[49m\u001b[43mrun_manager\u001b[49m\u001b[43m=\u001b[49m\u001b[43mrun_manager\u001b[49m\u001b[43m,\u001b[49m\u001b[43m \u001b[49m\u001b[43m*\u001b[49m\u001b[43m*\u001b[49m\u001b[43mkwargs\u001b[49m\n\u001b[32m   1004\u001b[39m \u001b[43m    \u001b[49m\u001b[43m)\u001b[49m\n\u001b[32m   1005\u001b[39m \u001b[38;5;28;01melse\u001b[39;00m:\n\u001b[32m   1006\u001b[39m     result = \u001b[38;5;28mself\u001b[39m._generate(messages, stop=stop, **kwargs)\n",
      "\u001b[36mFile \u001b[39m\u001b[32m~/Desktop/ADHYAYAN_MITRA/.venv/lib/python3.12/site-packages/langchain_google_genai/chat_models.py:1242\u001b[39m, in \u001b[36mChatGoogleGenerativeAI._generate\u001b[39m\u001b[34m(self, messages, stop, run_manager, tools, functions, safety_settings, tool_config, generation_config, cached_content, tool_choice, **kwargs)\u001b[39m\n\u001b[32m   1216\u001b[39m \u001b[38;5;28;01mdef\u001b[39;00m\u001b[38;5;250m \u001b[39m\u001b[34m_generate\u001b[39m(\n\u001b[32m   1217\u001b[39m     \u001b[38;5;28mself\u001b[39m,\n\u001b[32m   1218\u001b[39m     messages: List[BaseMessage],\n\u001b[32m   (...)\u001b[39m\u001b[32m   1229\u001b[39m     **kwargs: Any,\n\u001b[32m   1230\u001b[39m ) -> ChatResult:\n\u001b[32m   1231\u001b[39m     request = \u001b[38;5;28mself\u001b[39m._prepare_request(\n\u001b[32m   1232\u001b[39m         messages,\n\u001b[32m   1233\u001b[39m         stop=stop,\n\u001b[32m   (...)\u001b[39m\u001b[32m   1240\u001b[39m         tool_choice=tool_choice,\n\u001b[32m   1241\u001b[39m     )\n\u001b[32m-> \u001b[39m\u001b[32m1242\u001b[39m     response: GenerateContentResponse = \u001b[43m_chat_with_retry\u001b[49m\u001b[43m(\u001b[49m\n\u001b[32m   1243\u001b[39m \u001b[43m        \u001b[49m\u001b[43mrequest\u001b[49m\u001b[43m=\u001b[49m\u001b[43mrequest\u001b[49m\u001b[43m,\u001b[49m\n\u001b[32m   1244\u001b[39m \u001b[43m        \u001b[49m\u001b[43m*\u001b[49m\u001b[43m*\u001b[49m\u001b[43mkwargs\u001b[49m\u001b[43m,\u001b[49m\n\u001b[32m   1245\u001b[39m \u001b[43m        \u001b[49m\u001b[43mgeneration_method\u001b[49m\u001b[43m=\u001b[49m\u001b[38;5;28;43mself\u001b[39;49m\u001b[43m.\u001b[49m\u001b[43mclient\u001b[49m\u001b[43m.\u001b[49m\u001b[43mgenerate_content\u001b[49m\u001b[43m,\u001b[49m\n\u001b[32m   1246\u001b[39m \u001b[43m        \u001b[49m\u001b[43mmetadata\u001b[49m\u001b[43m=\u001b[49m\u001b[38;5;28;43mself\u001b[39;49m\u001b[43m.\u001b[49m\u001b[43mdefault_metadata\u001b[49m\u001b[43m,\u001b[49m\n\u001b[32m   1247\u001b[39m \u001b[43m    \u001b[49m\u001b[43m)\u001b[49m\n\u001b[32m   1248\u001b[39m     \u001b[38;5;28;01mreturn\u001b[39;00m _response_to_result(response)\n",
      "\u001b[36mFile \u001b[39m\u001b[32m~/Desktop/ADHYAYAN_MITRA/.venv/lib/python3.12/site-packages/langchain_google_genai/chat_models.py:208\u001b[39m, in \u001b[36m_chat_with_retry\u001b[39m\u001b[34m(generation_method, **kwargs)\u001b[39m\n\u001b[32m    205\u001b[39m     \u001b[38;5;28;01mexcept\u001b[39;00m \u001b[38;5;167;01mException\u001b[39;00m \u001b[38;5;28;01mas\u001b[39;00m e:\n\u001b[32m    206\u001b[39m         \u001b[38;5;28;01mraise\u001b[39;00m e\n\u001b[32m--> \u001b[39m\u001b[32m208\u001b[39m \u001b[38;5;28;01mreturn\u001b[39;00m \u001b[43m_chat_with_retry\u001b[49m\u001b[43m(\u001b[49m\u001b[43m*\u001b[49m\u001b[43m*\u001b[49m\u001b[43mkwargs\u001b[49m\u001b[43m)\u001b[49m\n",
      "\u001b[36mFile \u001b[39m\u001b[32m~/Desktop/ADHYAYAN_MITRA/.venv/lib/python3.12/site-packages/tenacity/__init__.py:338\u001b[39m, in \u001b[36mBaseRetrying.wraps.<locals>.wrapped_f\u001b[39m\u001b[34m(*args, **kw)\u001b[39m\n\u001b[32m    336\u001b[39m copy = \u001b[38;5;28mself\u001b[39m.copy()\n\u001b[32m    337\u001b[39m wrapped_f.statistics = copy.statistics  \u001b[38;5;66;03m# type: ignore[attr-defined]\u001b[39;00m\n\u001b[32m--> \u001b[39m\u001b[32m338\u001b[39m \u001b[38;5;28;01mreturn\u001b[39;00m \u001b[43mcopy\u001b[49m\u001b[43m(\u001b[49m\u001b[43mf\u001b[49m\u001b[43m,\u001b[49m\u001b[43m \u001b[49m\u001b[43m*\u001b[49m\u001b[43margs\u001b[49m\u001b[43m,\u001b[49m\u001b[43m \u001b[49m\u001b[43m*\u001b[49m\u001b[43m*\u001b[49m\u001b[43mkw\u001b[49m\u001b[43m)\u001b[49m\n",
      "\u001b[36mFile \u001b[39m\u001b[32m~/Desktop/ADHYAYAN_MITRA/.venv/lib/python3.12/site-packages/tenacity/__init__.py:477\u001b[39m, in \u001b[36mRetrying.__call__\u001b[39m\u001b[34m(self, fn, *args, **kwargs)\u001b[39m\n\u001b[32m    475\u001b[39m retry_state = RetryCallState(retry_object=\u001b[38;5;28mself\u001b[39m, fn=fn, args=args, kwargs=kwargs)\n\u001b[32m    476\u001b[39m \u001b[38;5;28;01mwhile\u001b[39;00m \u001b[38;5;28;01mTrue\u001b[39;00m:\n\u001b[32m--> \u001b[39m\u001b[32m477\u001b[39m     do = \u001b[38;5;28;43mself\u001b[39;49m\u001b[43m.\u001b[49m\u001b[43miter\u001b[49m\u001b[43m(\u001b[49m\u001b[43mretry_state\u001b[49m\u001b[43m=\u001b[49m\u001b[43mretry_state\u001b[49m\u001b[43m)\u001b[49m\n\u001b[32m    478\u001b[39m     \u001b[38;5;28;01mif\u001b[39;00m \u001b[38;5;28misinstance\u001b[39m(do, DoAttempt):\n\u001b[32m    479\u001b[39m         \u001b[38;5;28;01mtry\u001b[39;00m:\n",
      "\u001b[36mFile \u001b[39m\u001b[32m~/Desktop/ADHYAYAN_MITRA/.venv/lib/python3.12/site-packages/tenacity/__init__.py:378\u001b[39m, in \u001b[36mBaseRetrying.iter\u001b[39m\u001b[34m(self, retry_state)\u001b[39m\n\u001b[32m    376\u001b[39m result = \u001b[38;5;28;01mNone\u001b[39;00m\n\u001b[32m    377\u001b[39m \u001b[38;5;28;01mfor\u001b[39;00m action \u001b[38;5;129;01min\u001b[39;00m \u001b[38;5;28mself\u001b[39m.iter_state.actions:\n\u001b[32m--> \u001b[39m\u001b[32m378\u001b[39m     result = \u001b[43maction\u001b[49m\u001b[43m(\u001b[49m\u001b[43mretry_state\u001b[49m\u001b[43m)\u001b[49m\n\u001b[32m    379\u001b[39m \u001b[38;5;28;01mreturn\u001b[39;00m result\n",
      "\u001b[36mFile \u001b[39m\u001b[32m~/Desktop/ADHYAYAN_MITRA/.venv/lib/python3.12/site-packages/tenacity/__init__.py:420\u001b[39m, in \u001b[36mBaseRetrying._post_stop_check_actions.<locals>.exc_check\u001b[39m\u001b[34m(rs)\u001b[39m\n\u001b[32m    418\u001b[39m retry_exc = \u001b[38;5;28mself\u001b[39m.retry_error_cls(fut)\n\u001b[32m    419\u001b[39m \u001b[38;5;28;01mif\u001b[39;00m \u001b[38;5;28mself\u001b[39m.reraise:\n\u001b[32m--> \u001b[39m\u001b[32m420\u001b[39m     \u001b[38;5;28;01mraise\u001b[39;00m \u001b[43mretry_exc\u001b[49m\u001b[43m.\u001b[49m\u001b[43mreraise\u001b[49m\u001b[43m(\u001b[49m\u001b[43m)\u001b[49m\n\u001b[32m    421\u001b[39m \u001b[38;5;28;01mraise\u001b[39;00m retry_exc \u001b[38;5;28;01mfrom\u001b[39;00m\u001b[38;5;250m \u001b[39m\u001b[34;01mfut\u001b[39;00m\u001b[34;01m.\u001b[39;00m\u001b[34;01mexception\u001b[39;00m()\n",
      "\u001b[36mFile \u001b[39m\u001b[32m~/Desktop/ADHYAYAN_MITRA/.venv/lib/python3.12/site-packages/tenacity/__init__.py:187\u001b[39m, in \u001b[36mRetryError.reraise\u001b[39m\u001b[34m(self)\u001b[39m\n\u001b[32m    185\u001b[39m \u001b[38;5;28;01mdef\u001b[39;00m\u001b[38;5;250m \u001b[39m\u001b[34mreraise\u001b[39m(\u001b[38;5;28mself\u001b[39m) -> t.NoReturn:\n\u001b[32m    186\u001b[39m     \u001b[38;5;28;01mif\u001b[39;00m \u001b[38;5;28mself\u001b[39m.last_attempt.failed:\n\u001b[32m--> \u001b[39m\u001b[32m187\u001b[39m         \u001b[38;5;28;01mraise\u001b[39;00m \u001b[38;5;28;43mself\u001b[39;49m\u001b[43m.\u001b[49m\u001b[43mlast_attempt\u001b[49m\u001b[43m.\u001b[49m\u001b[43mresult\u001b[49m\u001b[43m(\u001b[49m\u001b[43m)\u001b[49m\n\u001b[32m    188\u001b[39m     \u001b[38;5;28;01mraise\u001b[39;00m \u001b[38;5;28mself\u001b[39m\n",
      "\u001b[36mFile \u001b[39m\u001b[32m/usr/lib/python3.12/concurrent/futures/_base.py:449\u001b[39m, in \u001b[36mFuture.result\u001b[39m\u001b[34m(self, timeout)\u001b[39m\n\u001b[32m    447\u001b[39m     \u001b[38;5;28;01mraise\u001b[39;00m CancelledError()\n\u001b[32m    448\u001b[39m \u001b[38;5;28;01melif\u001b[39;00m \u001b[38;5;28mself\u001b[39m._state == FINISHED:\n\u001b[32m--> \u001b[39m\u001b[32m449\u001b[39m     \u001b[38;5;28;01mreturn\u001b[39;00m \u001b[38;5;28;43mself\u001b[39;49m\u001b[43m.\u001b[49m\u001b[43m__get_result\u001b[49m\u001b[43m(\u001b[49m\u001b[43m)\u001b[49m\n\u001b[32m    451\u001b[39m \u001b[38;5;28mself\u001b[39m._condition.wait(timeout)\n\u001b[32m    453\u001b[39m \u001b[38;5;28;01mif\u001b[39;00m \u001b[38;5;28mself\u001b[39m._state \u001b[38;5;129;01min\u001b[39;00m [CANCELLED, CANCELLED_AND_NOTIFIED]:\n",
      "\u001b[36mFile \u001b[39m\u001b[32m/usr/lib/python3.12/concurrent/futures/_base.py:401\u001b[39m, in \u001b[36mFuture.__get_result\u001b[39m\u001b[34m(self)\u001b[39m\n\u001b[32m    399\u001b[39m \u001b[38;5;28;01mif\u001b[39;00m \u001b[38;5;28mself\u001b[39m._exception:\n\u001b[32m    400\u001b[39m     \u001b[38;5;28;01mtry\u001b[39;00m:\n\u001b[32m--> \u001b[39m\u001b[32m401\u001b[39m         \u001b[38;5;28;01mraise\u001b[39;00m \u001b[38;5;28mself\u001b[39m._exception\n\u001b[32m    402\u001b[39m     \u001b[38;5;28;01mfinally\u001b[39;00m:\n\u001b[32m    403\u001b[39m         \u001b[38;5;66;03m# Break a reference cycle with the exception in self._exception\u001b[39;00m\n\u001b[32m    404\u001b[39m         \u001b[38;5;28mself\u001b[39m = \u001b[38;5;28;01mNone\u001b[39;00m\n",
      "\u001b[36mFile \u001b[39m\u001b[32m~/Desktop/ADHYAYAN_MITRA/.venv/lib/python3.12/site-packages/tenacity/__init__.py:480\u001b[39m, in \u001b[36mRetrying.__call__\u001b[39m\u001b[34m(self, fn, *args, **kwargs)\u001b[39m\n\u001b[32m    478\u001b[39m \u001b[38;5;28;01mif\u001b[39;00m \u001b[38;5;28misinstance\u001b[39m(do, DoAttempt):\n\u001b[32m    479\u001b[39m     \u001b[38;5;28;01mtry\u001b[39;00m:\n\u001b[32m--> \u001b[39m\u001b[32m480\u001b[39m         result = \u001b[43mfn\u001b[49m\u001b[43m(\u001b[49m\u001b[43m*\u001b[49m\u001b[43margs\u001b[49m\u001b[43m,\u001b[49m\u001b[43m \u001b[49m\u001b[43m*\u001b[49m\u001b[43m*\u001b[49m\u001b[43mkwargs\u001b[49m\u001b[43m)\u001b[49m\n\u001b[32m    481\u001b[39m     \u001b[38;5;28;01mexcept\u001b[39;00m \u001b[38;5;167;01mBaseException\u001b[39;00m:  \u001b[38;5;66;03m# noqa: B902\u001b[39;00m\n\u001b[32m    482\u001b[39m         retry_state.set_exception(sys.exc_info())  \u001b[38;5;66;03m# type: ignore[arg-type]\u001b[39;00m\n",
      "\u001b[36mFile \u001b[39m\u001b[32m~/Desktop/ADHYAYAN_MITRA/.venv/lib/python3.12/site-packages/langchain_google_genai/chat_models.py:206\u001b[39m, in \u001b[36m_chat_with_retry.<locals>._chat_with_retry\u001b[39m\u001b[34m(**kwargs)\u001b[39m\n\u001b[32m    202\u001b[39m     \u001b[38;5;28;01mraise\u001b[39;00m ChatGoogleGenerativeAIError(\n\u001b[32m    203\u001b[39m         \u001b[33mf\u001b[39m\u001b[33m\"\u001b[39m\u001b[33mInvalid argument provided to Gemini: \u001b[39m\u001b[38;5;132;01m{\u001b[39;00me\u001b[38;5;132;01m}\u001b[39;00m\u001b[33m\"\u001b[39m\n\u001b[32m    204\u001b[39m     ) \u001b[38;5;28;01mfrom\u001b[39;00m\u001b[38;5;250m \u001b[39m\u001b[34;01me\u001b[39;00m\n\u001b[32m    205\u001b[39m \u001b[38;5;28;01mexcept\u001b[39;00m \u001b[38;5;167;01mException\u001b[39;00m \u001b[38;5;28;01mas\u001b[39;00m e:\n\u001b[32m--> \u001b[39m\u001b[32m206\u001b[39m     \u001b[38;5;28;01mraise\u001b[39;00m e\n",
      "\u001b[36mFile \u001b[39m\u001b[32m~/Desktop/ADHYAYAN_MITRA/.venv/lib/python3.12/site-packages/langchain_google_genai/chat_models.py:190\u001b[39m, in \u001b[36m_chat_with_retry.<locals>._chat_with_retry\u001b[39m\u001b[34m(**kwargs)\u001b[39m\n\u001b[32m    187\u001b[39m \u001b[38;5;129m@retry_decorator\u001b[39m\n\u001b[32m    188\u001b[39m \u001b[38;5;28;01mdef\u001b[39;00m\u001b[38;5;250m \u001b[39m\u001b[34m_chat_with_retry\u001b[39m(**kwargs: Any) -> Any:\n\u001b[32m    189\u001b[39m     \u001b[38;5;28;01mtry\u001b[39;00m:\n\u001b[32m--> \u001b[39m\u001b[32m190\u001b[39m         \u001b[38;5;28;01mreturn\u001b[39;00m \u001b[43mgeneration_method\u001b[49m\u001b[43m(\u001b[49m\u001b[43m*\u001b[49m\u001b[43m*\u001b[49m\u001b[43mkwargs\u001b[49m\u001b[43m)\u001b[49m\n\u001b[32m    191\u001b[39m     \u001b[38;5;66;03m# Do not retry for these errors.\u001b[39;00m\n\u001b[32m    192\u001b[39m     \u001b[38;5;28;01mexcept\u001b[39;00m google.api_core.exceptions.FailedPrecondition \u001b[38;5;28;01mas\u001b[39;00m exc:\n",
      "\u001b[36mFile \u001b[39m\u001b[32m~/Desktop/ADHYAYAN_MITRA/.venv/lib/python3.12/site-packages/google/ai/generativelanguage_v1beta/services/generative_service/client.py:867\u001b[39m, in \u001b[36mGenerativeServiceClient.generate_content\u001b[39m\u001b[34m(self, request, model, contents, retry, timeout, metadata)\u001b[39m\n\u001b[32m    864\u001b[39m \u001b[38;5;28mself\u001b[39m._validate_universe_domain()\n\u001b[32m    866\u001b[39m \u001b[38;5;66;03m# Send the request.\u001b[39;00m\n\u001b[32m--> \u001b[39m\u001b[32m867\u001b[39m response = \u001b[43mrpc\u001b[49m\u001b[43m(\u001b[49m\n\u001b[32m    868\u001b[39m \u001b[43m    \u001b[49m\u001b[43mrequest\u001b[49m\u001b[43m,\u001b[49m\n\u001b[32m    869\u001b[39m \u001b[43m    \u001b[49m\u001b[43mretry\u001b[49m\u001b[43m=\u001b[49m\u001b[43mretry\u001b[49m\u001b[43m,\u001b[49m\n\u001b[32m    870\u001b[39m \u001b[43m    \u001b[49m\u001b[43mtimeout\u001b[49m\u001b[43m=\u001b[49m\u001b[43mtimeout\u001b[49m\u001b[43m,\u001b[49m\n\u001b[32m    871\u001b[39m \u001b[43m    \u001b[49m\u001b[43mmetadata\u001b[49m\u001b[43m=\u001b[49m\u001b[43mmetadata\u001b[49m\u001b[43m,\u001b[49m\n\u001b[32m    872\u001b[39m \u001b[43m\u001b[49m\u001b[43m)\u001b[49m\n\u001b[32m    874\u001b[39m \u001b[38;5;66;03m# Done; return the response.\u001b[39;00m\n\u001b[32m    875\u001b[39m \u001b[38;5;28;01mreturn\u001b[39;00m response\n",
      "\u001b[36mFile \u001b[39m\u001b[32m~/Desktop/ADHYAYAN_MITRA/.venv/lib/python3.12/site-packages/google/api_core/gapic_v1/method.py:131\u001b[39m, in \u001b[36m_GapicCallable.__call__\u001b[39m\u001b[34m(self, timeout, retry, compression, *args, **kwargs)\u001b[39m\n\u001b[32m    128\u001b[39m \u001b[38;5;28;01mif\u001b[39;00m \u001b[38;5;28mself\u001b[39m._compression \u001b[38;5;129;01mis\u001b[39;00m \u001b[38;5;129;01mnot\u001b[39;00m \u001b[38;5;28;01mNone\u001b[39;00m:\n\u001b[32m    129\u001b[39m     kwargs[\u001b[33m\"\u001b[39m\u001b[33mcompression\u001b[39m\u001b[33m\"\u001b[39m] = compression\n\u001b[32m--> \u001b[39m\u001b[32m131\u001b[39m \u001b[38;5;28;01mreturn\u001b[39;00m \u001b[43mwrapped_func\u001b[49m\u001b[43m(\u001b[49m\u001b[43m*\u001b[49m\u001b[43margs\u001b[49m\u001b[43m,\u001b[49m\u001b[43m \u001b[49m\u001b[43m*\u001b[49m\u001b[43m*\u001b[49m\u001b[43mkwargs\u001b[49m\u001b[43m)\u001b[49m\n",
      "\u001b[36mFile \u001b[39m\u001b[32m~/Desktop/ADHYAYAN_MITRA/.venv/lib/python3.12/site-packages/google/api_core/retry/retry_unary.py:293\u001b[39m, in \u001b[36mRetry.__call__.<locals>.retry_wrapped_func\u001b[39m\u001b[34m(*args, **kwargs)\u001b[39m\n\u001b[32m    289\u001b[39m target = functools.partial(func, *args, **kwargs)\n\u001b[32m    290\u001b[39m sleep_generator = exponential_sleep_generator(\n\u001b[32m    291\u001b[39m     \u001b[38;5;28mself\u001b[39m._initial, \u001b[38;5;28mself\u001b[39m._maximum, multiplier=\u001b[38;5;28mself\u001b[39m._multiplier\n\u001b[32m    292\u001b[39m )\n\u001b[32m--> \u001b[39m\u001b[32m293\u001b[39m \u001b[38;5;28;01mreturn\u001b[39;00m \u001b[43mretry_target\u001b[49m\u001b[43m(\u001b[49m\n\u001b[32m    294\u001b[39m \u001b[43m    \u001b[49m\u001b[43mtarget\u001b[49m\u001b[43m,\u001b[49m\n\u001b[32m    295\u001b[39m \u001b[43m    \u001b[49m\u001b[38;5;28;43mself\u001b[39;49m\u001b[43m.\u001b[49m\u001b[43m_predicate\u001b[49m\u001b[43m,\u001b[49m\n\u001b[32m    296\u001b[39m \u001b[43m    \u001b[49m\u001b[43msleep_generator\u001b[49m\u001b[43m,\u001b[49m\n\u001b[32m    297\u001b[39m \u001b[43m    \u001b[49m\u001b[43mtimeout\u001b[49m\u001b[43m=\u001b[49m\u001b[38;5;28;43mself\u001b[39;49m\u001b[43m.\u001b[49m\u001b[43m_timeout\u001b[49m\u001b[43m,\u001b[49m\n\u001b[32m    298\u001b[39m \u001b[43m    \u001b[49m\u001b[43mon_error\u001b[49m\u001b[43m=\u001b[49m\u001b[43mon_error\u001b[49m\u001b[43m,\u001b[49m\n\u001b[32m    299\u001b[39m \u001b[43m\u001b[49m\u001b[43m)\u001b[49m\n",
      "\u001b[36mFile \u001b[39m\u001b[32m~/Desktop/ADHYAYAN_MITRA/.venv/lib/python3.12/site-packages/google/api_core/retry/retry_unary.py:153\u001b[39m, in \u001b[36mretry_target\u001b[39m\u001b[34m(target, predicate, sleep_generator, timeout, on_error, exception_factory, **kwargs)\u001b[39m\n\u001b[32m    149\u001b[39m \u001b[38;5;66;03m# pylint: disable=broad-except\u001b[39;00m\n\u001b[32m    150\u001b[39m \u001b[38;5;66;03m# This function explicitly must deal with broad exceptions.\u001b[39;00m\n\u001b[32m    151\u001b[39m \u001b[38;5;28;01mexcept\u001b[39;00m \u001b[38;5;167;01mException\u001b[39;00m \u001b[38;5;28;01mas\u001b[39;00m exc:\n\u001b[32m    152\u001b[39m     \u001b[38;5;66;03m# defer to shared logic for handling errors\u001b[39;00m\n\u001b[32m--> \u001b[39m\u001b[32m153\u001b[39m     \u001b[43m_retry_error_helper\u001b[49m\u001b[43m(\u001b[49m\n\u001b[32m    154\u001b[39m \u001b[43m        \u001b[49m\u001b[43mexc\u001b[49m\u001b[43m,\u001b[49m\n\u001b[32m    155\u001b[39m \u001b[43m        \u001b[49m\u001b[43mdeadline\u001b[49m\u001b[43m,\u001b[49m\n\u001b[32m    156\u001b[39m \u001b[43m        \u001b[49m\u001b[43msleep\u001b[49m\u001b[43m,\u001b[49m\n\u001b[32m    157\u001b[39m \u001b[43m        \u001b[49m\u001b[43merror_list\u001b[49m\u001b[43m,\u001b[49m\n\u001b[32m    158\u001b[39m \u001b[43m        \u001b[49m\u001b[43mpredicate\u001b[49m\u001b[43m,\u001b[49m\n\u001b[32m    159\u001b[39m \u001b[43m        \u001b[49m\u001b[43mon_error\u001b[49m\u001b[43m,\u001b[49m\n\u001b[32m    160\u001b[39m \u001b[43m        \u001b[49m\u001b[43mexception_factory\u001b[49m\u001b[43m,\u001b[49m\n\u001b[32m    161\u001b[39m \u001b[43m        \u001b[49m\u001b[43mtimeout\u001b[49m\u001b[43m,\u001b[49m\n\u001b[32m    162\u001b[39m \u001b[43m    \u001b[49m\u001b[43m)\u001b[49m\n\u001b[32m    163\u001b[39m     \u001b[38;5;66;03m# if exception not raised, sleep before next attempt\u001b[39;00m\n\u001b[32m    164\u001b[39m     time.sleep(sleep)\n",
      "\u001b[36mFile \u001b[39m\u001b[32m~/Desktop/ADHYAYAN_MITRA/.venv/lib/python3.12/site-packages/google/api_core/retry/retry_base.py:212\u001b[39m, in \u001b[36m_retry_error_helper\u001b[39m\u001b[34m(exc, deadline, next_sleep, error_list, predicate_fn, on_error_fn, exc_factory_fn, original_timeout)\u001b[39m\n\u001b[32m    206\u001b[39m \u001b[38;5;28;01mif\u001b[39;00m \u001b[38;5;129;01mnot\u001b[39;00m predicate_fn(exc):\n\u001b[32m    207\u001b[39m     final_exc, source_exc = exc_factory_fn(\n\u001b[32m    208\u001b[39m         error_list,\n\u001b[32m    209\u001b[39m         RetryFailureReason.NON_RETRYABLE_ERROR,\n\u001b[32m    210\u001b[39m         original_timeout,\n\u001b[32m    211\u001b[39m     )\n\u001b[32m--> \u001b[39m\u001b[32m212\u001b[39m     \u001b[38;5;28;01mraise\u001b[39;00m final_exc \u001b[38;5;28;01mfrom\u001b[39;00m\u001b[38;5;250m \u001b[39m\u001b[34;01msource_exc\u001b[39;00m\n\u001b[32m    213\u001b[39m \u001b[38;5;28;01mif\u001b[39;00m on_error_fn \u001b[38;5;129;01mis\u001b[39;00m \u001b[38;5;129;01mnot\u001b[39;00m \u001b[38;5;28;01mNone\u001b[39;00m:\n\u001b[32m    214\u001b[39m     on_error_fn(exc)\n",
      "\u001b[36mFile \u001b[39m\u001b[32m~/Desktop/ADHYAYAN_MITRA/.venv/lib/python3.12/site-packages/google/api_core/retry/retry_unary.py:144\u001b[39m, in \u001b[36mretry_target\u001b[39m\u001b[34m(target, predicate, sleep_generator, timeout, on_error, exception_factory, **kwargs)\u001b[39m\n\u001b[32m    142\u001b[39m \u001b[38;5;28;01mfor\u001b[39;00m sleep \u001b[38;5;129;01min\u001b[39;00m sleep_generator:\n\u001b[32m    143\u001b[39m     \u001b[38;5;28;01mtry\u001b[39;00m:\n\u001b[32m--> \u001b[39m\u001b[32m144\u001b[39m         result = \u001b[43mtarget\u001b[49m\u001b[43m(\u001b[49m\u001b[43m)\u001b[49m\n\u001b[32m    145\u001b[39m         \u001b[38;5;28;01mif\u001b[39;00m inspect.isawaitable(result):\n\u001b[32m    146\u001b[39m             warnings.warn(_ASYNC_RETRY_WARNING)\n",
      "\u001b[36mFile \u001b[39m\u001b[32m~/Desktop/ADHYAYAN_MITRA/.venv/lib/python3.12/site-packages/google/api_core/timeout.py:130\u001b[39m, in \u001b[36mTimeToDeadlineTimeout.__call__.<locals>.func_with_timeout\u001b[39m\u001b[34m(*args, **kwargs)\u001b[39m\n\u001b[32m    126\u001b[39m         remaining_timeout = \u001b[38;5;28mself\u001b[39m._timeout\n\u001b[32m    128\u001b[39m     kwargs[\u001b[33m\"\u001b[39m\u001b[33mtimeout\u001b[39m\u001b[33m\"\u001b[39m] = remaining_timeout\n\u001b[32m--> \u001b[39m\u001b[32m130\u001b[39m \u001b[38;5;28;01mreturn\u001b[39;00m \u001b[43mfunc\u001b[49m\u001b[43m(\u001b[49m\u001b[43m*\u001b[49m\u001b[43margs\u001b[49m\u001b[43m,\u001b[49m\u001b[43m \u001b[49m\u001b[43m*\u001b[49m\u001b[43m*\u001b[49m\u001b[43mkwargs\u001b[49m\u001b[43m)\u001b[49m\n",
      "\u001b[36mFile \u001b[39m\u001b[32m~/Desktop/ADHYAYAN_MITRA/.venv/lib/python3.12/site-packages/google/api_core/grpc_helpers.py:78\u001b[39m, in \u001b[36m_wrap_unary_errors.<locals>.error_remapped_callable\u001b[39m\u001b[34m(*args, **kwargs)\u001b[39m\n\u001b[32m     76\u001b[39m     \u001b[38;5;28;01mreturn\u001b[39;00m callable_(*args, **kwargs)\n\u001b[32m     77\u001b[39m \u001b[38;5;28;01mexcept\u001b[39;00m grpc.RpcError \u001b[38;5;28;01mas\u001b[39;00m exc:\n\u001b[32m---> \u001b[39m\u001b[32m78\u001b[39m     \u001b[38;5;28;01mraise\u001b[39;00m exceptions.from_grpc_error(exc) \u001b[38;5;28;01mfrom\u001b[39;00m\u001b[38;5;250m \u001b[39m\u001b[34;01mexc\u001b[39;00m\n",
      "\u001b[31mResourceExhausted\u001b[39m: 429 You exceeded your current quota, please check your plan and billing details. For more information on this error, head to: https://ai.google.dev/gemini-api/docs/rate-limits. [violations {\n  quota_metric: \"generativelanguage.googleapis.com/generate_content_free_tier_input_token_count\"\n  quota_id: \"GenerateContentInputTokensPerModelPerMinute-FreeTier\"\n  quota_dimensions {\n    key: \"model\"\n    value: \"gemma-3-27b\"\n  }\n  quota_dimensions {\n    key: \"location\"\n    value: \"global\"\n  }\n  quota_value: 15000\n}\n, links {\n  description: \"Learn more about Gemini API quotas\"\n  url: \"https://ai.google.dev/gemini-api/docs/rate-limits\"\n}\n, retry_delay {\n  seconds: 44\n}\n]"
     ]
    }
   ],
   "source": [
    "from components.qna_judge import judge\n",
    "\n",
    "evaluation_report = judge.qna_check_and_scoring(\n",
    "   llm=llm,\n",
    "   doc_result=doc_result,\n",
    "   trans_result=trans_result,\n",
    "   analysis=analysis,\n",
    "   qna=qna\n",
    ")"
   ]
  },
  {
   "cell_type": "code",
   "execution_count": null,
   "id": "694f5ea0",
   "metadata": {},
   "outputs": [
    {
     "ename": "TypeError",
     "evalue": "Markdown expects text, not <module 'components.qna_judge.judge' from '/home/prasun/Desktop/ADHYAYAN_MITRA/components/qna_judge/judge.py'>",
     "output_type": "error",
     "traceback": [
      "\u001b[31m---------------------------------------------------------------------------\u001b[39m",
      "\u001b[31mTypeError\u001b[39m                                 Traceback (most recent call last)",
      "\u001b[36mCell\u001b[39m\u001b[36m \u001b[39m\u001b[32mIn[61]\u001b[39m\u001b[32m, line 1\u001b[39m\n\u001b[32m----> \u001b[39m\u001b[32m1\u001b[39m display(\u001b[43mMarkdown\u001b[49m\u001b[43m(\u001b[49m\u001b[43mjudge\u001b[49m\u001b[43m)\u001b[49m)\n",
      "\u001b[36mFile \u001b[39m\u001b[32m~/Desktop/ADHYAYAN_MITRA/.venv/lib/python3.12/site-packages/IPython/core/display.py:344\u001b[39m, in \u001b[36mDisplayObject.__init__\u001b[39m\u001b[34m(self, data, url, filename, metadata)\u001b[39m\n\u001b[32m    341\u001b[39m     \u001b[38;5;28mself\u001b[39m.metadata = {}\n\u001b[32m    343\u001b[39m \u001b[38;5;28mself\u001b[39m.reload()\n\u001b[32m--> \u001b[39m\u001b[32m344\u001b[39m \u001b[38;5;28;43mself\u001b[39;49m\u001b[43m.\u001b[49m\u001b[43m_check_data\u001b[49m\u001b[43m(\u001b[49m\u001b[43m)\u001b[49m\n",
      "\u001b[36mFile \u001b[39m\u001b[32m~/Desktop/ADHYAYAN_MITRA/.venv/lib/python3.12/site-packages/IPython/core/display.py:423\u001b[39m, in \u001b[36mTextDisplayObject._check_data\u001b[39m\u001b[34m(self)\u001b[39m\n\u001b[32m    421\u001b[39m \u001b[38;5;28;01mdef\u001b[39;00m\u001b[38;5;250m \u001b[39m\u001b[34m_check_data\u001b[39m(\u001b[38;5;28mself\u001b[39m):\n\u001b[32m    422\u001b[39m     \u001b[38;5;28;01mif\u001b[39;00m \u001b[38;5;28mself\u001b[39m.data \u001b[38;5;129;01mis\u001b[39;00m \u001b[38;5;129;01mnot\u001b[39;00m \u001b[38;5;28;01mNone\u001b[39;00m \u001b[38;5;129;01mand\u001b[39;00m \u001b[38;5;129;01mnot\u001b[39;00m \u001b[38;5;28misinstance\u001b[39m(\u001b[38;5;28mself\u001b[39m.data, \u001b[38;5;28mstr\u001b[39m):\n\u001b[32m--> \u001b[39m\u001b[32m423\u001b[39m         \u001b[38;5;28;01mraise\u001b[39;00m \u001b[38;5;167;01mTypeError\u001b[39;00m(\u001b[33m\"\u001b[39m\u001b[38;5;132;01m%s\u001b[39;00m\u001b[33m expects text, not \u001b[39m\u001b[38;5;132;01m%r\u001b[39;00m\u001b[33m\"\u001b[39m % (\u001b[38;5;28mself\u001b[39m.\u001b[34m__class__\u001b[39m.\u001b[34m__name__\u001b[39m, \u001b[38;5;28mself\u001b[39m.data))\n",
      "\u001b[31mTypeError\u001b[39m: Markdown expects text, not <module 'components.qna_judge.judge' from '/home/prasun/Desktop/ADHYAYAN_MITRA/components/qna_judge/judge.py'>"
     ]
    }
   ],
   "source": [
    "display(Markdown(judge))"
   ]
  },
  {
   "cell_type": "markdown",
   "id": "61e82cc0",
   "metadata": {},
   "source": [
    "# Optional RAG or CRAG(C only by Teacher) for doubt clearification."
   ]
  }
 ],
 "metadata": {
  "kernelspec": {
   "display_name": ".venv",
   "language": "python",
   "name": "python3"
  },
  "language_info": {
   "codemirror_mode": {
    "name": "ipython",
    "version": 3
   },
   "file_extension": ".py",
   "mimetype": "text/x-python",
   "name": "python",
   "nbconvert_exporter": "python",
   "pygments_lexer": "ipython3",
   "version": "3.12.3"
  }
 },
 "nbformat": 4,
 "nbformat_minor": 5
}
