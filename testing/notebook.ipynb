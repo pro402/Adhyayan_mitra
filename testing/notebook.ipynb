{
 "cells": [
  {
   "cell_type": "markdown",
   "id": "d0d01af7",
   "metadata": {},
   "source": [
    "## Testing"
   ]
  },
  {
   "cell_type": "code",
   "execution_count": 2,
   "id": "a6c2c657",
   "metadata": {},
   "outputs": [],
   "source": [
    "import sys\n",
    "import os\n",
    "\n",
    "# Add the parent directory to the path so Python can find the components\n",
    "sys.path.append(os.path.abspath('..'))"
   ]
  },
  {
   "cell_type": "code",
   "execution_count": 8,
   "id": "c17ea98b",
   "metadata": {},
   "outputs": [
    {
     "name": "stdout",
     "output_type": "stream",
     "text": [
      "Processing: /home/prasun/Desktop/ADHYAYAN_MITRA/components/transcripter_api/recording.mp3\n"
     ]
    },
    {
     "name": "stderr",
     "output_type": "stream",
     "text": [
      "Due to a bug fix in https://github.com/huggingface/transformers/pull/28687 transcription using a multilingual Whisper will default to language detection followed by transcription instead of translation to English.This might be a breaking change for your use case. If you want to instead always translate your audio to English, make sure to pass `language='en'`.\n",
      "The attention mask is not set and cannot be inferred from input because pad token is same as eos token. As a consequence, you may observe unexpected behavior. Please pass your input's `attention_mask` to obtain reliable results.\n"
     ]
    },
    {
     "name": "stdout",
     "output_type": "stream",
     "text": [
      "Transcription completed in 5.0s\n",
      "Transcript saved to /home/prasun/Desktop/ADHYAYAN_MITRA/components/transcripter_api/transcript.txt\n",
      " Alright, let me try to talk through what I remember from the rise of nationalism in Europe. I'll just say what comes to mind and see where I get stuck. So, a nation is basically a big group of people who share things like language, history and I think live under one government. I remember reading about Frederick Sorio. He was some French artist in 1848. He made these prints showing people from different countries marching together towards the Statue of Liberty.  I think those stood for the end of old monarchy or something, but I'm not totally sure. The French Revolution was a big deal for nationalism. It made people in France feel more united, and they set up a republic after getting rid of the king. Then Napoleon came, and he made a lot of changes. I know he made everyone equal before the law and got rid of privileges by birth, but I'm a bit fuzzy on what else he did. Maybe something about proper  rights and making travel or business easier. For Italy, I remember Giuseppe Medzini started young Italy and wanted all the small states to join together. There were some failed attempts but then Sardini appeed Montt took over, led by Cavalry. Garibaldi helped in the south and eventually Victor Emmanuel II became king over United Italy. I can't remember the exact year though, maybe 1861, Germany was also split into lots of  states. The Frank Fertisembley tried to unite them, but the king of Prussia said no. Later, Bismarck, who was like the chief minister, fought wars with Denmark, Austria and France. After winning those, Germany got united, and the Prussian king became Kaiser William. I think this happened in 1871, but I should double check. There were also these female symbols, Marianne for France and Germany. Marianne had a red cap, and  was on Coins and Stamps.  But I should probably read more about that. So, yeah, I remember the main events, but I definitely need to review Napoleon's reforms, the exact years of unification, and the whole nationalism versus imperialism thing. And why they used female allegories for nations? Still not clear on that.\n"
     ]
    }
   ],
   "source": [
    "from components.transcripter_api import transcripter \n",
    "\n",
    "trans_result = transcripter.transcribe_audio()\n",
    "print(trans_result)"
   ]
  },
  {
   "cell_type": "code",
   "execution_count": 10,
   "id": "5fd85209",
   "metadata": {},
   "outputs": [
    {
     "data": {
      "text/plain": [
       "\" Alright, let me try to talk through what I remember from the rise of nationalism in Europe. I'll just say what comes to mind and see where I get stuck. So, a nation is basically a big group of people who share things like language, history and I think live under one government. I remember reading about Frederick Sorio. He was some French artist in 1848. He made these prints showing people from different countries marching together towards the Statue of Liberty.  I think those stood for the end of old monarchy or something, but I'm not totally sure. The French Revolution was a big deal for nationalism. It made people in France feel more united, and they set up a republic after getting rid of the king. Then Napoleon came, and he made a lot of changes. I know he made everyone equal before the law and got rid of privileges by birth, but I'm a bit fuzzy on what else he did. Maybe something about proper  rights and making travel or business easier. For Italy, I remember Giuseppe Medzini started young Italy and wanted all the small states to join together. There were some failed attempts but then Sardini appeed Montt took over, led by Cavalry. Garibaldi helped in the south and eventually Victor Emmanuel II became king over United Italy. I can't remember the exact year though, maybe 1861, Germany was also split into lots of  states. The Frank Fertisembley tried to unite them, but the king of Prussia said no. Later, Bismarck, who was like the chief minister, fought wars with Denmark, Austria and France. After winning those, Germany got united, and the Prussian king became Kaiser William. I think this happened in 1871, but I should double check. There were also these female symbols, Marianne for France and Germany. Marianne had a red cap, and  was on Coins and Stamps.  But I should probably read more about that. So, yeah, I remember the main events, but I definitely need to review Napoleon's reforms, the exact years of unification, and the whole nationalism versus imperialism thing. And why they used female allegories for nations? Still not clear on that.\""
      ]
     },
     "execution_count": 10,
     "metadata": {},
     "output_type": "execute_result"
    }
   ],
   "source": [
    "trans_result"
   ]
  },
  {
   "cell_type": "code",
   "execution_count": null,
   "id": "a7f600b9",
   "metadata": {},
   "outputs": [
    {
     "name": "stdout",
     "output_type": "stream",
     "text": [
      "Document has 2407 tokens. Summarizing...\n"
     ]
    },
    {
     "ename": "TypeError",
     "evalue": "expected string or bytes-like object, got 'AIMessage'",
     "output_type": "error",
     "traceback": [
      "\u001b[31m---------------------------------------------------------------------------\u001b[39m",
      "\u001b[31mTypeError\u001b[39m                                 Traceback (most recent call last)",
      "\u001b[36mCell\u001b[39m\u001b[36m \u001b[39m\u001b[32mIn[4]\u001b[39m\u001b[32m, line 5\u001b[39m\n\u001b[32m      1\u001b[39m \u001b[38;5;28;01mfrom\u001b[39;00m\u001b[38;5;250m \u001b[39m\u001b[34;01mcomponents\u001b[39;00m\u001b[34;01m.\u001b[39;00m\u001b[34;01mdoc_pipeline\u001b[39;00m\u001b[34;01m.\u001b[39;00m\u001b[34;01mpipeline\u001b[39;00m\u001b[38;5;250m \u001b[39m\u001b[38;5;28;01mimport\u001b[39;00m DocumentProcessor\n\u001b[32m      3\u001b[39m doc_result = \u001b[43mDocumentProcessor\u001b[49m\u001b[43m(\u001b[49m\n\u001b[32m      4\u001b[39m \u001b[43m    \u001b[49m\u001b[43mllm\u001b[49m\u001b[43m=\u001b[49m\u001b[43mllm\u001b[49m\n\u001b[32m----> \u001b[39m\u001b[32m5\u001b[39m \u001b[43m)\u001b[49m\u001b[43m.\u001b[49m\u001b[43mprocess_document\u001b[49m\u001b[43m(\u001b[49m\u001b[43m)\u001b[49m\n\u001b[32m      7\u001b[39m \u001b[38;5;28mprint\u001b[39m(doc_result)\n",
      "\u001b[36mFile \u001b[39m\u001b[32m~/Desktop/ADHYAYAN_MITRA/components/doc_pipeline/pipeline.py:166\u001b[39m, in \u001b[36mDocumentProcessor.process_document\u001b[39m\u001b[34m(self, file_path)\u001b[39m\n\u001b[32m    164\u001b[39m \u001b[38;5;28;01melif\u001b[39;00m token_count > \u001b[32m2000\u001b[39m \u001b[38;5;129;01mand\u001b[39;00m token_count <= \u001b[32m5000\u001b[39m:\n\u001b[32m    165\u001b[39m     \u001b[38;5;28mprint\u001b[39m(\u001b[33mf\u001b[39m\u001b[33m\"\u001b[39m\u001b[33mDocument has \u001b[39m\u001b[38;5;132;01m{\u001b[39;00mtoken_count\u001b[38;5;132;01m}\u001b[39;00m\u001b[33m tokens. Summarizing...\u001b[39m\u001b[33m\"\u001b[39m)\n\u001b[32m--> \u001b[39m\u001b[32m166\u001b[39m     text = \u001b[38;5;28;43mself\u001b[39;49m\u001b[43m.\u001b[49m\u001b[43msummarize\u001b[49m\u001b[43m(\u001b[49m\u001b[43mtext\u001b[49m\u001b[43m)\u001b[49m\n\u001b[32m    167\u001b[39m \u001b[38;5;28;01melse\u001b[39;00m:\n\u001b[32m    168\u001b[39m     \u001b[38;5;66;03m# For documents with <= 2000 tokens, use the raw text\u001b[39;00m\n\u001b[32m    169\u001b[39m     \u001b[38;5;28mprint\u001b[39m(\u001b[33mf\u001b[39m\u001b[33m\"\u001b[39m\u001b[33mDocument has \u001b[39m\u001b[38;5;132;01m{\u001b[39;00mtoken_count\u001b[38;5;132;01m}\u001b[39;00m\u001b[33m tokens. Using raw document.\u001b[39m\u001b[33m\"\u001b[39m)\n",
      "\u001b[36mFile \u001b[39m\u001b[32m~/Desktop/ADHYAYAN_MITRA/components/doc_pipeline/pipeline.py:139\u001b[39m, in \u001b[36mDocumentProcessor.summarize\u001b[39m\u001b[34m(self, input_text)\u001b[39m\n\u001b[32m    133\u001b[39m text = chain.invoke({\n\u001b[32m    134\u001b[39m     \u001b[38;5;66;03m# \"ex_text\": ex_text,\u001b[39;00m\n\u001b[32m    135\u001b[39m     \u001b[38;5;66;03m# \"ex_summarized_text\": ex_summarized_text,\u001b[39;00m\n\u001b[32m    136\u001b[39m     \u001b[33m\"\u001b[39m\u001b[33mtext\u001b[39m\u001b[33m\"\u001b[39m: input_text\n\u001b[32m    137\u001b[39m })\n\u001b[32m    138\u001b[39m pattern = \u001b[33mr\u001b[39m\u001b[33m\"\u001b[39m\u001b[33m```markdown\u001b[39m\u001b[33m\\\u001b[39m\u001b[33mn(.*?)$\u001b[39m\u001b[33m\"\u001b[39m\n\u001b[32m--> \u001b[39m\u001b[32m139\u001b[39m result = \u001b[43mre\u001b[49m\u001b[43m.\u001b[49m\u001b[43msearch\u001b[49m\u001b[43m(\u001b[49m\u001b[43mpattern\u001b[49m\u001b[43m,\u001b[49m\u001b[43m \u001b[49m\u001b[43mtext\u001b[49m\u001b[43m,\u001b[49m\u001b[43m \u001b[49m\u001b[43mre\u001b[49m\u001b[43m.\u001b[49m\u001b[43mDOTALL\u001b[49m\u001b[43m)\u001b[49m\n\u001b[32m    141\u001b[39m \u001b[38;5;28;01mif\u001b[39;00m result:\n\u001b[32m    142\u001b[39m     text = result.group(\u001b[32m1\u001b[39m).strip()\n",
      "\u001b[36mFile \u001b[39m\u001b[32m/usr/lib/python3.12/re/__init__.py:177\u001b[39m, in \u001b[36msearch\u001b[39m\u001b[34m(pattern, string, flags)\u001b[39m\n\u001b[32m    174\u001b[39m \u001b[38;5;28;01mdef\u001b[39;00m\u001b[38;5;250m \u001b[39m\u001b[34msearch\u001b[39m(pattern, string, flags=\u001b[32m0\u001b[39m):\n\u001b[32m    175\u001b[39m \u001b[38;5;250m    \u001b[39m\u001b[33;03m\"\"\"Scan through string looking for a match to the pattern, returning\u001b[39;00m\n\u001b[32m    176\u001b[39m \u001b[33;03m    a Match object, or None if no match was found.\"\"\"\u001b[39;00m\n\u001b[32m--> \u001b[39m\u001b[32m177\u001b[39m     \u001b[38;5;28;01mreturn\u001b[39;00m \u001b[43m_compile\u001b[49m\u001b[43m(\u001b[49m\u001b[43mpattern\u001b[49m\u001b[43m,\u001b[49m\u001b[43m \u001b[49m\u001b[43mflags\u001b[49m\u001b[43m)\u001b[49m\u001b[43m.\u001b[49m\u001b[43msearch\u001b[49m\u001b[43m(\u001b[49m\u001b[43mstring\u001b[49m\u001b[43m)\u001b[49m\n",
      "\u001b[31mTypeError\u001b[39m: expected string or bytes-like object, got 'AIMessage'"
     ]
    }
   ],
   "source": [
    "from components.doc_pipeline.pipeline import DocumentProcessor\n",
    "\n",
    "doc_result = DocumentProcessor().process_document()\n",
    "\n",
    "print(doc_result)"
   ]
  },
  {
   "cell_type": "code",
   "execution_count": null,
   "id": "3025091f",
   "metadata": {},
   "outputs": [],
   "source": [
    "from components.select_llm import google_genai\n",
    "llm = google_genai.set_llm()"
   ]
  },
  {
   "cell_type": "markdown",
   "id": "a9eac463",
   "metadata": {},
   "source": [
    "# Building the Gap_Analysis Pipeline"
   ]
  },
  {
   "cell_type": "code",
   "execution_count": 14,
   "id": "c5eb1a17",
   "metadata": {},
   "outputs": [],
   "source": [
    "from components.gap_analyzer import analyzer\n",
    "\n",
    "analysis = analyzer.learning_gap(\n",
    "    llm = llm,\n",
    "    doc_result=doc_result,\n",
    "    trans_result=trans_result\n",
    ")"
   ]
  },
  {
   "cell_type": "code",
   "execution_count": 15,
   "id": "18ba6df7",
   "metadata": {},
   "outputs": [
    {
     "data": {
      "text/markdown": [
       "Okay, here's a comprehensive learning gap analysis of the student's understanding of \"The Rise of Nationalism in Europe,\" based on their response and the provided notes:\n",
       "\n",
       "**1. DEMONSTRATED KNOWLEDGE:**\n",
       "\n",
       "The student demonstrates a good grasp of several key concepts:\n",
       "\n",
       "*   **Definition of a Nation:** The student correctly defines a nation as a group of people sharing commonalities like language, history, and government. (Student: \"a big group of people who share things like language, history and I think live under one government.\")\n",
       "*   **Frederic Sorrieu's Vision:** The student recalls Frederic Sorrieu's prints and their general message of nations marching towards the Statue of Liberty, symbolizing the end of old regimes. (Student: \"He made these prints showing people from different countries marching together towards the Statue of Liberty. I think those stood for the end of old monarchy or something, but I'm not totally sure.\")\n",
       "*   **The French Revolution's Impact:** The student understands that the French Revolution fostered a sense of unity and led to the establishment of a republic. (Student: \"The French Revolution was a big deal for nationalism. It made people in France feel more united, and they set up a republic after getting rid of the king.\")\n",
       "*   **Key Figures in Italian Unification:** The student correctly identifies Giuseppe Mazzini and his role in the unification of Italy. (Student: \"Giuseppe Medzini started young Italy and wanted all the small states to join together.\")\n",
       "*   **Key Figures in Italian Unification:** The student correctly identifies Cavour, Garibaldi, and Victor Emmanuel II as key figures in the unification of Italy. (Student: \"There were some failed attempts but then Sardini appeed Montt took over, led by Cavalry. Garibaldi helped in the south and eventually Victor Emmanuel II became king over United Italy.\")\n",
       "*   **Key Figures in German Unification:** The student correctly identifies Otto von Bismarck and his role in the unification of Germany. (Student: \"Later, Bismarck, who was like the chief minister, fought wars with Denmark, Austria and France. After winning those, Germany got united, and the Prussian king became Kaiser William.\")\n",
       "*   **Use of Allegories:** The student recognizes the use of female allegories like Marianne and Germania to represent nations. (Student: \"There were also these female symbols, Marianne for France and Germany.\")\n",
       "\n",
       "**2. KNOWLEDGE GAPS:**\n",
       "\n",
       "Several crucial areas require further attention:\n",
       "\n",
       "*   **Napoleon's Reforms:** The student acknowledges Napoleon's reforms but lacks specific details. The student mentions equality before the law and the abolition of privileges by birth but misses key aspects like the Napoleonic Code's impact on administrative divisions, the abolition of the feudal system, the removal of guild restrictions, and improvements in transport and communication. (Learning Material: \"The first major change was doing away with all privileges based on birth, establishing equality before law and securing the right to property...Administrative divisions were simplified...Feudal system was abolished and peasants were freed from serfdom and manorial dues...In towns, guild restrictions were removed...Transport and communication systems were improved.\")\n",
       "*   **Specifics of the Napoleonic Code:** The student's understanding of the Napoleonic Code is superficial. They need to understand its specific provisions and their impact on society. (Learning Material: \"The first major change was doing away with all privileges based on birth, establishing equality before law and securing the right to property...Administrative divisions were simplified...Feudal system was abolished and peasants were freed from serfdom and manorial dues...In towns, guild restrictions were removed...Transport and communication systems were improved.\")\n",
       "*   **Exact Years of Unification:** The student is unsure of the exact years of Italian and German unification. (Student: \"I can't remember the exact year though, maybe 1861...I think this happened in 1871, but I should double check.\")\n",
       "*   **The Role of the Frankfurt Assembly:** The student mentions the Frankfurt Assembly but doesn't fully grasp its significance or the reasons for its failure. (Learning Material: \"Nationalist feelings were widespread among middle class Germans who had tried to unite the different regions of the German federation into a nation-state governed by an elected Parliament...In May 1848, a large number of political associations came together to vote for an all-German National Assembly. Their representatives met at Frankfurt and the Frankfurt Assembly proposed the unification of Germany as a constitutional monarchy under the King of Prussia as emperor...The King of Prussia rejected the offer and the liberal initiative of nation building was repressed by the combined forces of the monarchy, the military and the ‘Junkers’.\")\n",
       "*   **Nationalism and Imperialism:** The student acknowledges the topic but needs to explore the relationship between nationalism and imperialism in the late 19th century, including how nationalism became a narrow creed and contributed to World War I. (Learning Material: \"Last quarter of the 19th century nationalism became a narrow creed with limited ends, Intolerance Balkan became the sense of big power rivalry Nationalism, aligned with imperialism cause of World War I.\")\n",
       "*   **Deeper Understanding of Female Allegories:** The student recognizes the use of female allegories but needs to understand the specific symbolism of Marianne and Germania (e.g., Marianne's red cap, tricolor, and cockade; Germania's crown of oak leaves) and why they were used. (Learning Material: \"In France she was named Marianne, a popular Christian name, which underlined the idea of a people’s nation. Her characteristics were drawn from those of liberty and republic—the red cap, the tri-colour, the cockade...Germania became the allegory of the German nation. Germania wears a crown of oak leaves as German oak stands for heroism.\")\n",
       "\n",
       "**3. MISCONCEPTIONS:**\n",
       "\n",
       "*   None identified.\n",
       "\n",
       "**4. DEPTH OF UNDERSTANDING:**\n",
       "\n",
       "The student demonstrates a surface-level understanding of the material. They can recall key events and figures but lack the depth to fully explain the causes, consequences, and nuances of the rise of nationalism. They need to move beyond memorization and develop a more analytical understanding. For example, the student can identify the key players in Italian unification but doesn't explain the political strategies or the social context that enabled unification.\n",
       "\n",
       "**5. LEARNING PRIORITIES:**\n",
       "\n",
       "1.  **Napoleon's Reforms and the Napoleonic Code:** This is crucial for understanding the spread of revolutionary ideas and the impact of nationalism.\n",
       "2.  **Nationalism and Imperialism:** This is essential for understanding the broader historical context and the causes of World War I.\n",
       "3.  **Specifics of Unification (Years and Processes):** Knowing the exact timelines and the specific steps taken in Italian and German unification is important for a complete understanding.\n",
       "4.  **Deeper Understanding of Female Allegories:** Understanding the symbolism and purpose of these allegories adds depth to the understanding of how nations were imagined and represented.\n",
       "5.  **The Role of the Frankfurt Assembly:** Understanding the significance of the Frankfurt Assembly and its failure is important for understanding the complexities of German unification.\n",
       "\n",
       "**6. TARGETED RECOMMENDATIONS:**\n",
       "\n",
       "*   **Review and Expand on Napoleon's Reforms:**\n",
       "    *   **Activity:** Create a detailed chart or mind map outlining the key reforms of the Napoleonic Code, including their impact on different social groups (peasants, businessmen, etc.).\n",
       "    *   **Resource:** Re-read the section on the Napoleonic Code in the notes and consult a textbook or online resource for further details.\n",
       "*   **Explore the Relationship between Nationalism and Imperialism:**\n",
       "    *   **Activity:** Research and write a short paragraph explaining how nationalism, in the late 19th century, contributed to imperialism and the tensions that led to World War I.\n",
       "    *   **Resource:** Consult the textbook or online resources to understand the concept of \"Balkan nationalism\" and its role in the lead-up to World War I.\n",
       "*   **Memorize Key Dates and Timelines:**\n",
       "    *   **Activity:** Create a timeline of the major events in Italian and German unification, including the years and key figures involved.\n",
       "    *   **Resource:** Use flashcards or online quizzes to memorize the dates.\n",
       "*   **Analyze the Symbolism of Female Allegories:**\n",
       "    *   **Activity:** Research the symbolism of Marianne and Germania. Draw or find images of them and write a short paragraph explaining what they represent and why they were used.\n",
       "    *   **Resource:** Consult the notes and search online for images and information about Marianne and Germania.\n",
       "*   **Understand the Frankfurt Assembly:**\n",
       "    *   **Activity:** Read the section on the Frankfurt Assembly again and write a short summary explaining its goals, its composition, and why it failed.\n",
       "    *   **Resource:** Consult the textbook or online resources for further information on the Frankfurt Assembly.\n",
       "*   **Practice Recall and Application:**\n",
       "    *   **Activity:** Answer practice questions (MCQs, short answer, and essay questions) on the chapter to test understanding and identify areas needing further review.\n",
       "    *   **Resource:** Use the provided link for MCQ questions and answers.\n",
       "*   **Active Recall:**\n",
       "    *   **Activity:** After reviewing each section, try to explain the concepts in your own words without looking at the notes. This will help solidify understanding.\n",
       "    *   **Resource:** Use the notes as a reference to check for accuracy.\n",
       "\n",
       "By focusing on these areas, the student can significantly improve their understanding of the rise of nationalism in Europe and build a stronger foundation for future historical studies."
      ],
      "text/plain": [
       "<IPython.core.display.Markdown object>"
      ]
     },
     "metadata": {},
     "output_type": "display_data"
    }
   ],
   "source": [
    "from IPython.display import display, Markdown\n",
    "\n",
    "display(Markdown(analysis))"
   ]
  },
  {
   "cell_type": "markdown",
   "id": "3dd32874",
   "metadata": {},
   "source": [
    "# Generating question from the above report "
   ]
  },
  {
   "cell_type": "code",
   "execution_count": 16,
   "id": "a654e151",
   "metadata": {},
   "outputs": [],
   "source": [
    "from components.question_generator import questions\n",
    "\n",
    "question = questions.question_gen(\n",
    "    llm=llm,\n",
    "    doc_result=doc_result,\n",
    "    trans_result=trans_result,\n",
    "    analysis=analysis,\n",
    ")"
   ]
  },
  {
   "cell_type": "code",
   "execution_count": 17,
   "id": "0ca04a18",
   "metadata": {},
   "outputs": [
    {
     "name": "stdout",
     "output_type": "stream",
     "text": [
      "Questions\n",
      "\n",
      "1. Can you elaborate on the specific reforms implemented by Napoleon, and how did these reforms, particularly the Napoleonic Code, impact different segments of French society?\n",
      "2. The student mentioned the French Revolution and Napoleon's reforms. How did these events contribute to the spread of nationalist ideas across Europe?\n",
      "3. You mentioned Giuseppe Mazzini and his role in Italian unification. Can you describe the key strategies and ideologies he promoted to achieve a unified Italy?\n",
      "4. You correctly identified the key players in the unification of Italy. Can you explain the specific steps and events that led to Victor Emmanuel II being proclaimed King of a United Italy, including the roles of Cavour and Garibaldi?\n",
      "5. You mentioned the Frankfurt Assembly. What were its primary goals, and why did its attempt to unify Germany fail?\n",
      "6. You mentioned that Bismarck led the movement for the unification of Germany. Can you describe the key strategies and wars he used to achieve German unification, and what were the significant outcomes of these wars?\n",
      "7. You mentioned the use of female allegories like Marianne and Germania. What specific symbols and characteristics were used to represent these nations, and what message did these allegories convey to the people?\n",
      "8. How did the rise of nationalism in the late 19th century contribute to the growth of imperialism, and what were the consequences of this relationship, particularly in the context of the lead-up to World War I?\n",
      "9. Can you explain the significance of the Napoleonic Code in spreading the ideas of the French Revolution across Europe, and how did it influence the development of nationalism in other countries?\n",
      "10. You mentioned the years of unification for Italy and Germany. Can you provide a more precise timeline of the key events and the years in which they occurred?\n",
      "\n"
     ]
    }
   ],
   "source": [
    "print(\"Questions\\n\")\n",
    "for i,que in enumerate(question):\n",
    "    print(f\"{i+1}. {que}\")\n",
    "print()    "
   ]
  },
  {
   "cell_type": "code",
   "execution_count": 18,
   "id": "6a81512a",
   "metadata": {},
   "outputs": [],
   "source": [
    "answers = []\n",
    "\n",
    "for i in range(len(question)):\n",
    "    ans = input(f\"Enter the answer to:\\n {question[i]}\")\n",
    "    answers.append(ans)\n",
    "\n",
    "# Create a list of question answer pairs {\"question\", \"answer\"} from 2 list that contains question and answer\n",
    "qa_pairs = [{\"question\":q, \"answer\":a} for q,a in zip(question, answers)]"
   ]
  },
  {
   "cell_type": "code",
   "execution_count": 19,
   "id": "2f7ab405",
   "metadata": {},
   "outputs": [],
   "source": [
    "qna = \"\"\n",
    "for i,qa in enumerate(qa_pairs):\n",
    "    q = qa[\"question\"]\n",
    "    a = qa[\"answer\"]\n",
    "    qna = qna + (f\"Q{i+1}. {q}\\n\")\n",
    "    qna = qna + (f\"Ans: {a}\\n\")\n",
    "    qna = qna + \"\\n\""
   ]
  },
  {
   "cell_type": "code",
   "execution_count": 20,
   "id": "e09439a4",
   "metadata": {},
   "outputs": [
    {
     "name": "stdout",
     "output_type": "stream",
     "text": [
      "Q1. Can you elaborate on the specific reforms implemented by Napoleon, and how did these reforms, particularly the Napoleonic Code, impact different segments of French society?\n",
      "Ans: Napoleon made a lot of reforms, but I might not remember all the details perfectly. The main thing was the Napoleonic Code, which was a new set of laws for France. It made everyone equal before the law, so people couldn’t get special treatment just because they were born into a rich or noble family. I think it also protected property rights and allowed people to own land without worrying about it being taken away. The Code also got rid of the old feudal system, so peasants didn’t have to pay dues to landlords anymore. I remember that it helped businessmen and small producers because it made trade easier by having the same laws, weights, and measures everywhere. But I’m not sure if it was good for everyone—like, I think women didn’t get as many rights as men under the Code, and the man was still the head of the family. Also, judges had to follow the law strictly and couldn’t make their own rules. So, while a lot of people benefited, especially the middle class and peasants, some groups like women and maybe the old nobles didn’t benefit as much.\n",
      "\n",
      "Q2. The student mentioned the French Revolution and Napoleon's reforms. How did these events contribute to the spread of nationalist ideas across Europe?\n",
      "Ans: The French Revolution was really important because it made people in France feel like they were part of one nation, not just subjects of a king. The revolutionaries created new symbols, like the tricolor flag and national hymns, to bring people together. After the Revolution, Napoleon spread these ideas when he conquered other parts of Europe. He brought reforms like equality before the law and got rid of old feudal systems in places like Italy, Belgium, and Germany. This made people in those places start thinking about their own national identity. But I think not everyone liked French rule, especially when Napoleon started raising taxes and forcing people to join his army. Still, the idea that people could form their own nations and have their own governments spread to other countries, and inspired movements for independence and unification later on.\n",
      "\n",
      "Q3. You mentioned Giuseppe Mazzini and his role in Italian unification. Can you describe the key strategies and ideologies he promoted to achieve a unified Italy?\n",
      "Ans: Mazzini was a big believer in nationalism and democracy. He started a group called \"Young Italy\" that wanted to unite all the small Italian states into one country. His main idea was that Italy should be a republic, not ruled by kings or foreign powers. He thought that the people themselves should have the power, so he encouraged revolts and uprisings against the rulers. Mazzini also believed in education and spreading his ideas through pamphlets and secret societies. He tried to get people from all classes involved, not just the rich. But I think most of his revolts didn’t work out, and the rulers usually crushed them. Even though he didn’t succeed directly, his ideas inspired others and kept the hope of a united Italy alive.\n",
      "\n",
      "Q4. You correctly identified the key players in the unification of Italy. Can you explain the specific steps and events that led to Victor Emmanuel II being proclaimed King of a United Italy, including the roles of Cavour and Garibaldi?\n",
      "Ans: So, first, Mazzini started the movement, but it didn’t really work until Sardinia-Piedmont, led by Victor Emmanuel II and his chief minister Cavour, took charge. Cavour was smart and made alliances, like with France, to fight Austria, which controlled a lot of northern Italy. After defeating Austria, Sardinia-Piedmont got more territory. Then Garibaldi led the Expedition of the Thousand, where he and his volunteers took over Sicily and southern Italy. Garibaldi was a republican, but he handed over the land he conquered to Victor Emmanuel II, which helped unite the north and south. After that, in 1861, Victor Emmanuel II was declared King of Italy. Later, they added Venetia in 1866 and Rome in 1870, making the unification mostly complete. I’m not sure about all the battles and details, but those are the main steps as I remember them.\n",
      "\n",
      "Q5. You mentioned the Frankfurt Assembly. What were its primary goals, and why did its attempt to unify Germany fail?\n",
      "Ans: The Frankfurt Assembly was a meeting of representatives from different German states in 1848. Their goal was to create a united Germany with a constitution, probably as a constitutional monarchy. But they had a lot of disagreements—some wanted a big Germany including Austria, others wanted a smaller one without Austria. They also couldn’t agree on how much power the king should have compared to the parliament. The Assembly didn’t have its own army or much real power, so when they offered the crown to the King of Prussia, he refused it. Prussia and Austria didn’t really support the Assembly, and in the end, the old rulers took back control. The Assembly ended up failing because of all these divisions and because the powerful states didn’t want to give up their own power.\n",
      "\n",
      "Q6. You mentioned that Bismarck led the movement for the unification of Germany. Can you describe the key strategies and wars he used to achieve German unification, and what were the significant outcomes of these wars?\n",
      "Ans:   Bismarck was the chief minister of Prussia and used a policy called \"Realpolitik,\" which means being practical and sometimes ruthless. He thought that unification could be achieved through war and diplomacy. First, he fought Denmark in 1864 with Austria’s help to take over Schleswig and Holstein. Then, in 1866, he fought Austria in the Austro-Prussian War and won, which allowed Prussia to dominate northern Germany. Finally, in 1870, he provoked France into declaring war on Prussia (the Franco-Prussian War) and defeated them. This made the southern German states join with Prussia. After the victory over France, all the German states united, and the Prussian king became Kaiser William I in 1871. The main outcomes were that Germany became a powerful, united country, and Prussia was the leading state.\n",
      "\n",
      "Q7. You mentioned the use of female allegories like Marianne and Germania. What specific symbols and characteristics were used to represent these nations, and what message did these allegories convey to the people?\n",
      "Ans: Marianne was the symbol for France and was shown as a woman wearing a red cap (the Phrygian cap), which stood for liberty. She was also seen with the French tricolor flag and sometimes with other things like a cockade. Statues of Marianne were put up in public places, and her image was used on coins and stamps. Germania was the symbol for Germany and was shown with a crown of oak leaves, which stands for heroism. She sometimes held a sword or a shield. Both allegories were meant to make people feel united and proud of their country. I think they used women because it gave the idea of the nation as a nurturing mother, but I’m not totally sure about all the reasons.\n",
      "\n",
      "Q8. How did the rise of nationalism in the late 19th century contribute to the growth of imperialism, and what were the consequences of this relationship, particularly in the context of the lead-up to World War I?\n",
      "Ans: Nationalism made countries want to show they were the best and strongest, so they tried to get more colonies and expand their power. This is called imperialism. European countries like Britain, France, and Germany competed for colonies in Africa and Asia. This competition made them rivals and created a lot of tension. Nationalism also made people in multi-ethnic empires, like Austria-Hungary and the Ottoman Empire, want their own independent countries, which caused more problems. All these rivalries and tensions eventually led to World War I, because countries formed alliances and were ready to fight to protect their interests. I’m not sure about all the details, but basically, nationalism and imperialism together made Europe a lot more unstable.\n",
      "\n",
      "Q9. Can you explain the significance of the Napoleonic Code in spreading the ideas of the French Revolution across Europe, and how did it influence the development of nationalism in other countries?\n",
      "Ans: The Napoleonic Code was important because it spread the main ideas of the French Revolution—like equality before the law and ending privileges based on birth—to other countries that Napoleon conquered. This made people in those countries start thinking about having their own national governments and rights. The Code replaced old, confusing laws with one clear set of rules, which made it easier for people to do business and move around. It also helped get rid of feudal systems and made societies more modern. Even though some people didn’t like being ruled by France, the ideas stuck and inspired later movements for independence and unification in places like Italy and Germany.\n",
      "\n",
      "Q10. You mentioned the years of unification for Italy and Germany. Can you provide a more precise timeline of the key events and the years in which they occurred?\n",
      "Ans: I think Italian unification started around 1859 when Sardinia-Piedmont and France defeated Austria. Then, in 1860, Garibaldi led his campaign in the south. Victor Emmanuel II became king of Italy in 1861, but not all of Italy was united yet. Venetia was added in 1866 after the Austro-Prussian War, and Rome was finally taken in 1870 when French troops left. The capital moved to Rome in 1871. For Germany, the main wars were against Denmark in 1864, Austria in 1866, and France in 1870. After winning the Franco-Prussian War, Germany was united in 1871, and the Prussian king became Kaiser. I might be missing some smaller events, but those are the main years I remember.\n",
      "\n",
      "\n"
     ]
    }
   ],
   "source": [
    "print(qna)"
   ]
  },
  {
   "cell_type": "code",
   "execution_count": 21,
   "id": "24a25927",
   "metadata": {},
   "outputs": [],
   "source": [
    "from components.qna_judge import judge\n",
    "\n",
    "evaluation_report = judge.qna_check_and_scoring(\n",
    "   llm=llm,\n",
    "   doc_result=doc_result,\n",
    "   trans_result=trans_result,\n",
    "   analysis=analysis,\n",
    "   qna=qna\n",
    ")"
   ]
  },
  {
   "cell_type": "code",
   "execution_count": 24,
   "id": "694f5ea0",
   "metadata": {},
   "outputs": [
    {
     "data": {
      "text/markdown": [
       "## Student Performance Evaluation\n",
       "\n",
       "### **Total Score**: 72/100\n",
       "\n",
       "### **Scoring Breakdown**\n",
       "| Evaluation Category  | Max Points | Awarded Points | Justification Snippet / Rationale                                     |\n",
       "|----------------------|------------|----------------|-----------------------------------------------------------------------|\n",
       "| **Accuracy Check**   | 30         | 22             | Student demonstrates good recall of key events and figures, but with some inaccuracies in dates and details. |\n",
       "| **Depth Analysis**   | 25         | 18             | Student provides basic explanations but lacks in-depth analysis of causes, consequences, and nuances. |\n",
       "| **Completeness**     | 20         | 15             | Student addresses most aspects of the questions but omits some key details and perspectives. |\n",
       "| **Conceptual Clarity**| 15         | 12             | Student generally uses correct terminology but sometimes lacks precision and thoroughness in explaining concepts. |\n",
       "| **Critical Analysis**| 10         | 5              | Student offers limited critical analysis, primarily summarizing information rather than offering insightful interpretations or comparisons. |\n",
       "| **TOTAL**            | **100**    | **72**         | **Overall Assessment Summary**                                          |\n",
       "\n",
       "---\n",
       "\n",
       "### **Detailed Feedback**\n",
       "\n",
       "#### Strong Areas\n",
       "*   Excellent recall of key figures and events in Italian and German unification (Q3, Q4, Q6).\n",
       "*   Good understanding of the role of key figures like Mazzini, Cavour, Garibaldi, and Bismarck (Q3, Q4, Q6).\n",
       "*   Clear understanding of the use of female allegories to represent nations (Q7).\n",
       "\n",
       "#### Areas for Improvement & Gap Analysis\n",
       "*   **Factual Errors**:\n",
       "    *   Incorrectly states that the capital moved to Rome in 1871 (Q10); it moved in 1871, but the process was completed in 1870. (See Learning Material, Unification of Italy section).\n",
       "    *   The student is unsure of the exact years of Italian and German unification (Q10).\n",
       "    *   The student states that the Franco-Prussian war was the final step in German unification (Q6), but the process was completed after the victory over France. (See Learning Material, Unification of Germany section).\n",
       "*   **Conceptual Gaps**:\n",
       "    *   The student's understanding of the Napoleonic Code is superficial (Q1). They mention equality before the law and the abolition of privileges but miss key aspects like the Napoleonic Code's impact on administrative divisions, the abolition of the feudal system, the removal of guild restrictions, and improvements in transport and communication. (Learning Material: \"The first major change was doing away with all privileges based on birth, establishing equality before law and securing the right to property...Administrative divisions were simplified...Feudal system was abolished and peasants were freed from serfdom and manorial dues...In towns, guild restrictions were removed...Transport and communication systems were improved.\")\n",
       "    *   The student's explanation of the Frankfurt Assembly is somewhat superficial (Q5). They mention the goals but don't fully grasp the significance or the reasons for its failure. (Learning Material: \"Nationalist feelings were widespread among middle class Germans who had tried to unite the different regions of the German federation into a nation-state governed by an elected Parliament...In May 1848, a large number of political associations came together to vote for an all-German National Assembly. Their representatives met at Frankfurt and the Frankfurt Assembly proposed the unification of Germany as a constitutional monarchy under the King of Prussia as emperor...The King of Prussia rejected the offer and the liberal initiative of nation building was repressed by the combined forces of the monarchy, the military and the ‘Junkers'.\")\n",
       "    *   The student's understanding of the relationship between nationalism and imperialism is basic (Q8). They need to explore the connection between nationalism and imperialism in the late 19th century, including how nationalism became a narrow creed and contributed to World War I. (Learning Material: \"Last quarter of the 19th century nationalism became a narrow creed with limited ends, Intolerance Balkan became the sense of big power rivalry Nationalism, aligned with imperialism cause of World War I.\")\n",
       "*   **Omissions**:\n",
       "    *   The student does not mention the specific symbolism of Marianne and Germania (e.g., Marianne's red cap, tricolor, and cockade; Germania's crown of oak leaves) and why they were used (Q7). (Learning Material: \"In France she was named Marianne, a popular Christian name, which underlined the idea of a people’s nation. Her characteristics were drawn from those of liberty and republic—the red cap, the tri-colour, the cockade...Germania became the allegory of the German nation. Germania wears a crown of oak leaves as German oak stands for heroism.\")\n",
       "*   **Vague Assertions**:\n",
       "    *   The statement that \"the main ideas of the French Revolution—like equality before the law and ending privileges based on birth—to other countries that Napoleon conquered\" (Q9) needs more specific examples of how this was implemented and the impact on different regions.\n",
       "\n",
       "---\n",
       "\n",
       "### **Misconception Analysis**\n",
       "| Identified Misconception (from Q&A) | Relevant Material (Learning Material Excerpt/Ref) | Correction / Clarification |\n",
       "|-------------------------------------------|--------------------------------------------|----------------------------|\n",
       "| The capital of Italy moved to Rome in 1871. | Unification of Italy section | The capital moved to Rome in 1870, and the process was completed in 1871. |\n",
       "| The Franco-Prussian war was the final step in German unification. | Unification of Germany section | The Franco-Prussian war was a key event, but the process was completed after the victory over France. |\n",
       "\n",
       "---\n",
       "\n",
       "### **Personalized Learning Path**\n",
       "\n",
       "#### 1. Immediate Focus Areas:\n",
       "    *   Review factual details of the timeline of Italian and German unification.\n",
       "    *   Deepen understanding of the specific provisions and impact of the Napoleonic Code.\n",
       "    *   Practice structuring arguments about the relationship between nationalism and imperialism.\n",
       "\n",
       "#### 2. Resource Recommendations:\n",
       "    *   **Primary Material Review**: Focus on the sections in the Learning Material related to the Napoleonic Code, the Frankfurt Assembly, and the relationship between nationalism and imperialism.\n",
       "    *   **Prior Knowledge Link**: Revisit the student's initial response and compare it with the Learning Material, paying close attention to the areas identified for improvement.\n",
       "    *   **Visual Aid**: Consider using a timeline of Italian and German unification, highlighting key events and figures.\n",
       "    *   **Further Reading/Practice**: Review the provided link for MCQ questions and answers.\n",
       "\n",
       "#### 3. Skill-Building Exercises:\n",
       "    *   **Accuracy Drill**: Create a timeline of key events from the Learning Material, including specific dates and figures.\n",
       "    *   **Analysis Practice**: Write a short paragraph explaining the cause-effect relationship between the Napoleonic Code and the spread of nationalist ideas.\n",
       "    *   **Argumentation**: Outline an argument comparing the different factors that contributed to the unification of Italy and Germany.\n",
       "\n",
       "---\n",
       "\n",
       "### **Detailed Rubric Application Notes**\n",
       "*   **Accuracy Check**: Awarded 22/30 points. The student demonstrates good recall of key events and figures, but with some inaccuracies in dates and details, such as the capital of Italy and the final step of German unification.\n",
       "*   **Depth Analysis**: Awarded 18/25 points. The student provides basic explanations but lacks in-depth analysis of causes, consequences, and nuances. For example, the student can identify the key players in Italian unification but doesn't explain the political strategies or the social context that enabled unification.\n",
       "*   **Completeness**: Awarded 15/20 points. The student addresses most aspects of the questions but omits some key details and perspectives, such as the specific symbolism of Marianne and Germania.\n",
       "*   **Conceptual Clarity**: Awarded 12/15 points. The student generally uses correct terminology but sometimes lacks precision and thoroughness in explaining concepts, such as the Napoleonic Code.\n",
       "*   **Critical Analysis**: Awarded 5/10 points. The student offers limited critical analysis, primarily summarizing information rather than offering insightful interpretations or comparisons.\n",
       "\n",
       "**End of Evaluation**"
      ],
      "text/plain": [
       "<IPython.core.display.Markdown object>"
      ]
     },
     "metadata": {},
     "output_type": "display_data"
    }
   ],
   "source": [
    "display(Markdown(evaluation_report))"
   ]
  },
  {
   "cell_type": "markdown",
   "id": "61e82cc0",
   "metadata": {},
   "source": [
    "# Optional RAG or CRAG(C only by Teacher) for doubt clearification."
   ]
  }
 ],
 "metadata": {
  "kernelspec": {
   "display_name": ".venv",
   "language": "python",
   "name": "python3"
  },
  "language_info": {
   "codemirror_mode": {
    "name": "ipython",
    "version": 3
   },
   "file_extension": ".py",
   "mimetype": "text/x-python",
   "name": "python",
   "nbconvert_exporter": "python",
   "pygments_lexer": "ipython3",
   "version": "3.12.3"
  }
 },
 "nbformat": 4,
 "nbformat_minor": 5
}
