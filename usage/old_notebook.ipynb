{
 "cells": [
  {
   "cell_type": "code",
   "execution_count": 1,
   "id": "bf5c9fa6",
   "metadata": {},
   "outputs": [
    {
     "name": "stdout",
     "output_type": "stream",
     "text": [
      "Starting recording. Press Ctrl+C to stop...\n",
      "Recording started. Use stop_recording() to stop.\n",
      "Stopping recording...\n",
      "Enhanced MP3 file saved to recording.mp3\n"
     ]
    }
   ],
   "source": [
    "import sounddevice as sd\n",
    "import numpy as np\n",
    "import queue\n",
    "import threading\n",
    "import io\n",
    "from pydub import AudioSegment\n",
    "from pydub.effects import normalize\n",
    "\n",
    "# Create a queue to store audio chunks\n",
    "q = queue.Queue()\n",
    "recording = False\n",
    "audio_frames = []\n",
    "\n",
    "# Callback function that runs when new audio data is available\n",
    "def audio_callback(indata, frames, time, status):\n",
    "    if status:\n",
    "        print(status)\n",
    "    q.put(indata.copy())\n",
    "    audio_frames.append(indata.copy())\n",
    "\n",
    "# Function to start recording\n",
    "def start_recording(samplerate=44100, channels=1):  # Changed to mono\n",
    "    global recording, audio_frames\n",
    "    \n",
    "    # Clear previous recording data\n",
    "    audio_frames = []\n",
    "    \n",
    "    # Set recording flag\n",
    "    recording = True\n",
    "    \n",
    "    # Start recording in a separate thread\n",
    "    def record_thread():\n",
    "        try:\n",
    "            # Start the input stream with callback\n",
    "            with sd.InputStream(samplerate=samplerate, channels=channels, dtype='float32', callback=audio_callback):\n",
    "                print(\"Recording started. Use stop_recording() to stop.\")\n",
    "                \n",
    "                # Keep the stream open until recording is set to False\n",
    "                while recording:\n",
    "                    sd.sleep(100)  # Sleep to reduce CPU usage\n",
    "        except Exception as e:\n",
    "            print(f\"Error in recording: {e}\")\n",
    "    \n",
    "    # Start the recording thread\n",
    "    thread = threading.Thread(target=record_thread)\n",
    "    thread.daemon = True\n",
    "    thread.start()\n",
    "    \n",
    "    return thread\n",
    "\n",
    "# Function to stop recording and save the audio as MP3\n",
    "def stop_recording(filename=\"recording.mp3\", samplerate=44100):\n",
    "    global recording\n",
    "    \n",
    "    if not recording:\n",
    "        print(\"Not currently recording.\")\n",
    "        return None\n",
    "    \n",
    "    # Stop the recording\n",
    "    recording = False\n",
    "    \n",
    "    # Wait for any remaining audio data\n",
    "    print(\"Stopping recording...\")\n",
    "    sd.sleep(50)  # Give time for the last audio chunks to be processed\n",
    "    \n",
    "    # Save the recording if we have audio frames\n",
    "    if audio_frames:\n",
    "        # Concatenate all recorded frames\n",
    "        recorded_data = np.concatenate(audio_frames)\n",
    "        \n",
    "        # Normalize the audio data\n",
    "        recorded_data = recorded_data / np.max(np.abs(recorded_data))\n",
    "        \n",
    "        # Convert float32 (-1 to 1) to int16 (-32768 to 32767)\n",
    "        recorded_data = (recorded_data * 32767).astype(np.int16)\n",
    "        \n",
    "        # Create AudioSegment\n",
    "        audio = AudioSegment(\n",
    "            recorded_data.tobytes(),\n",
    "            frame_rate=samplerate,\n",
    "            sample_width=2,  # 16-bit\n",
    "            channels=1  # Mono\n",
    "        )\n",
    "        \n",
    "        # Apply audio enhancements\n",
    "        audio = audio.compress_dynamic_range()  # Compress dynamic range\n",
    "        audio = normalize(audio)  # Normalize volume\n",
    "        audio = audio.high_pass_filter(80)  # Remove low frequency noise\n",
    "        audio = audio.low_pass_filter(10000)  # Remove high frequency noise\n",
    "        \n",
    "        # Export as MP3\n",
    "        audio.export(filename, format=\"mp3\", bitrate=\"128k\")\n",
    "        print(f\"Enhanced MP3 file saved to {filename}\")\n",
    "        \n",
    "        return filename\n",
    "    else:\n",
    "        print(\"No audio recorded\")\n",
    "        return None\n",
    "\n",
    "# Example usage\n",
    "print(\"Starting recording. Press Ctrl+C to stop...\")\n",
    "record_thread = start_recording()\n",
    "\n",
    "# Wait for user to stop recording\n",
    "input(\"Press Enter to stop recording...\\n\")\n",
    "\n",
    "# Stop recording and save file\n",
    "mp3_file = stop_recording()"
   ]
  },
  {
   "cell_type": "code",
   "execution_count": null,
   "id": "dfa6f419",
   "metadata": {},
   "outputs": [
    {
     "name": "stderr",
     "output_type": "stream",
     "text": [
      "Due to a bug fix in https://github.com/huggingface/transformers/pull/28687 transcription using a multilingual Whisper will default to language detection followed by transcription instead of translation to English.This might be a breaking change for your use case. If you want to instead always translate your audio to English, make sure to pass `language='en'`.\n",
      "The attention mask is not set and cannot be inferred from input because pad token is same as eos token. As a consequence, you may observe unexpected behavior. Please pass your input's `attention_mask` to obtain reliable results.\n"
     ]
    }
   ],
   "source": [
    "from transformers import WhisperProcessor, WhisperForConditionalGeneration\n",
    "import librosa\n",
    "\n",
    "# Load model and processor\n",
    "processor = WhisperProcessor.from_pretrained(\"openai/whisper-small\")\n",
    "model = WhisperForConditionalGeneration.from_pretrained(\"openai/whisper-small\")\n",
    "model.config.forced_decoder_ids = None\n",
    "\n",
    "# Load the audio file\n",
    "input_speech_path = \"/home/prasun/Desktop/ADHYAYAN_MITRA/testing/recording.mp3\"\n",
    "# Using librosa to load the audio file\n",
    "audio_array, original_sampling_rate = librosa.load(input_speech_path, sr=16000)\n",
    "\n",
    "# Process the loaded audio data\n",
    "input_features = processor(audio_array, sampling_rate=16000, return_tensors=\"pt\").input_features\n",
    "\n",
    "# Generate token ids\n",
    "predicted_ids = model.generate(input_features)\n",
    "\n",
    "# Decode the predicted ids to get the transcription\n",
    "transcription = processor.batch_decode(predicted_ids, skip_special_tokens=True)\n",
    "print(transcription)"
   ]
  },
  {
   "cell_type": "markdown",
   "id": "61f8a8a5",
   "metadata": {},
   "source": [
    "# Pipeline"
   ]
  },
  {
   "cell_type": "code",
   "execution_count": null,
   "id": "4f31a99f",
   "metadata": {},
   "outputs": [],
   "source": [
    "import sys\n",
    "import os\n",
    "from pathlib import Path\n",
    "\n",
    "# Get the current notebook path\n",
    "notebook_path = Path().resolve()  # Returns: /ADHYAYAN_MITRA/testing\n",
    "\n",
    "# Add project root to Python path\n",
    "project_root = (notebook_path.parent).parent  # Goes up to /ADHYAYAN_MITRA\n",
    "sys.path.append(str(project_root))\n",
    "\n",
    "# Now import your components\n",
    "from components.audio_recorder.recorder import AudioRecorder\n",
    "from components.whisper.whisper_small import AudioTranscriptor"
   ]
  },
  {
   "cell_type": "code",
   "execution_count": null,
   "id": "4d28d196",
   "metadata": {},
   "outputs": [
    {
     "data": {
      "text/plain": [
       "PosixPath('/home/prasun/Desktop/ADHYAYAN_MITRA')"
      ]
     },
     "execution_count": 2,
     "metadata": {},
     "output_type": "execute_result"
    }
   ],
   "source": [
    "project_root"
   ]
  },
  {
   "cell_type": "code",
   "execution_count": null,
   "id": "d3a6bef5",
   "metadata": {},
   "outputs": [
    {
     "data": {
      "text/plain": [
       "PosixPath('/home/prasun/Desktop/ADHYAYAN_MITRA/components/transcripter_api')"
      ]
     },
     "execution_count": 3,
     "metadata": {},
     "output_type": "execute_result"
    }
   ],
   "source": [
    "notebook_path"
   ]
  },
  {
   "cell_type": "code",
   "execution_count": null,
   "id": "ba1478be",
   "metadata": {},
   "outputs": [],
   "source": [
    "import sys\n",
    "import os\n",
    "from pathlib import Path\n",
    "\n",
    "# Get the current notebook path\n",
    "notebook_path = Path().resolve()  # Returns: /ADHYAYAN_MITRA/testing\n",
    "\n",
    "# Add project root to Python path\n",
    "project_root = (notebook_path.parent)  # Goes up to /ADHYAYAN_MITRA\n",
    "sys.path.append(str(project_root))\n",
    "\n",
    "# Now import your components\n",
    "from components.audio_recorder.recorder import AudioRecorder\n",
    "from components.whisper.whisper_small import AudioTranscriptor\n",
    "\n",
    "recording = input(\"\"\"\n",
    "Enter Yes -> If you need to record the audio and then transcribe it.\n",
    "Enter No -> If you want to transcribe the pre-recorded audio. \n",
    "\"\"\")\n",
    "\n",
    "if recording == \"Yes\":\n",
    "    # Initialize components\n",
    "    recorder = AudioRecorder()\n",
    "\n",
    "    # Start recording\n",
    "    print(\"Starting recording...\")\n",
    "    recorder.start_recording()\n",
    "\n",
    "    input()    \n",
    "    # Stop and save\n",
    "    audio_path = recorder.stop_recording()\n",
    "elif recording == \"No\":\n",
    "    files = os.listdir(\".\")\n",
    "    if \"recording.mp3\" in files:\n",
    "        audio_path = os.path.abspath(\"recording.mp3\")\n",
    "    else:\n",
    "        print(\"Recording needs to be done\")"
   ]
  },
  {
   "cell_type": "code",
   "execution_count": null,
   "id": "b7eb657f",
   "metadata": {},
   "outputs": [
    {
     "data": {
      "text/plain": [
       "'/home/prasun/Desktop/ADHYAYAN_MITRA/components/transcripter_api/recording.mp3'"
      ]
     },
     "execution_count": 14,
     "metadata": {},
     "output_type": "execute_result"
    }
   ],
   "source": [
    "audio_path"
   ]
  },
  {
   "cell_type": "code",
   "execution_count": null,
   "id": "950554f2",
   "metadata": {},
   "outputs": [
    {
     "name": "stdout",
     "output_type": "stream",
     "text": [
      "Saved recording to: /home/prasun/Desktop/ADHYAYAN_MITRA/testing/recording.mp3\n",
      "Transcribing...\n"
     ]
    },
    {
     "name": "stderr",
     "output_type": "stream",
     "text": [
      "Due to a bug fix in https://github.com/huggingface/transformers/pull/28687 transcription using a multilingual Whisper will default to language detection followed by transcription instead of translation to English.This might be a breaking change for your use case. If you want to instead always translate your audio to English, make sure to pass `language='en'`.\n",
      "The attention mask is not set and cannot be inferred from input because pad token is same as eos token. As a consequence, you may observe unexpected behavior. Please pass your input's `attention_mask` to obtain reliable results.\n"
     ]
    }
   ],
   "source": [
    "if audio_path:\n",
    "    transcriptor = AudioTranscriptor()\n",
    "    print(f\"Saved recording to: {audio_path}\")\n",
    "    print(\"Transcribing...\")\n",
    "    transcript = (transcriptor.transcribe(audio_path))\n",
    "else:\n",
    "    print(\"Recording failed\")"
   ]
  },
  {
   "cell_type": "code",
   "execution_count": null,
   "id": "4b7d05d5",
   "metadata": {},
   "outputs": [
    {
     "data": {
      "text/plain": [
       "\" I've said to many people that live in a world where knowledge and skills are the most important thing. That's the goal that you are after. More than money, you want to be able to do it.  to develop knowledge and skills. And so this person asks, what would be the three or so skills that are the most essential moving forward in the 21st century? And it's not like specific skills that I'm going to talk about like coding or mastery AI or going to some business strategy. Because I think that's not really what the spirit of the question is. In general, there are certain kind of personal skills that you want to develop.  So number one, and this is something that I have in my book, Mastery, you must see being social and getting along with people and cooperating knowing how to work with people as a skill It's not something you were born with. It's not something that some people are good but bad or bad at like anything It is a skill that you develop Being social and knowing how to work with people and knowing how to be sensitive to their energy and in this skill what it is  Is you're able to pay attention to people and see who they are as an individual and see what their particular needs are what they're missing in life And you're able to supply that you're able to enter their spirit. You don't offend them unnecessarily You know how to work with them right? You know how to properly criticize them if that's necessary Because if you don't understand that being social is a skill if you don't develop it you can be the greatest or whatever you can do you  even the greatest athlete in the world.\""
      ]
     },
     "execution_count": 3,
     "metadata": {},
     "output_type": "execute_result"
    }
   ],
   "source": [
    "transcript"
   ]
  },
  {
   "cell_type": "code",
   "execution_count": null,
   "id": "e2019ea8",
   "metadata": {},
   "outputs": [
    {
     "name": "stdout",
     "output_type": "stream",
     "text": [
      "File 'transcript.txt' has been created and written successfully.\n"
     ]
    }
   ],
   "source": [
    "# Specify the file name\n",
    "file_name = \"transcript.txt\"\n",
    "\n",
    "# Use `with` to open the file in write mode\n",
    "with open(file_name, \"w\") as file:\n",
    "    # Write content to the file\n",
    "    file.write(transcript)\n",
    "\n",
    "print(f\"File '{file_name}' has been created and written successfully.\")"
   ]
  },
  {
   "cell_type": "code",
   "execution_count": null,
   "id": "f174b1bf",
   "metadata": {},
   "outputs": [
    {
     "name": "stdout",
     "output_type": "stream",
     "text": [
      " I've said to many people that live in a world where knowledge and skills are the most important thing. That's the goal that you are after. More than money, you want to be able to do it.  to develop knowledge and skills. And so this person asks, what would be the three or so skills that are the most essential moving forward in the 21st century? And it's not like specific skills that I'm going to talk about like coding or mastery AI or going to some business strategy. Because I think that's not really what the spirit of the question is. In general, there are certain kind of personal skills that you want to develop.  So number one, and this is something that I have in my book, Mastery, you must see being social and getting along with people and cooperating knowing how to work with people as a skill It's not something you were born with. It's not something that some people are good but bad or bad at like anything It is a skill that you develop Being social and knowing how to work with people and knowing how to be sensitive to their energy and in this skill what it is  Is you're able to pay attention to people and see who they are as an individual and see what their particular needs are what they're missing in life And you're able to supply that you're able to enter their spirit. You don't offend them unnecessarily You know how to work with them right? You know how to properly criticize them if that's necessary Because if you don't understand that being social is a skill if you don't develop it you can be the greatest or whatever you can do you  even the greatest athlete in the world.\n"
     ]
    }
   ],
   "source": [
    "with open('transcript.txt','r') as file:\n",
    "    print(file.read())"
   ]
  },
  {
   "cell_type": "markdown",
   "id": "dea2e4f8",
   "metadata": {},
   "source": [
    "# pipeline for all in one document parsing to .md"
   ]
  },
  {
   "cell_type": "code",
   "execution_count": null,
   "id": "82e180cd",
   "metadata": {},
   "outputs": [
    {
     "name": "stdout",
     "output_type": "stream",
     "text": [
      "Error processing : [Errno 21] Is a directory: '.'\n",
      "Error processing : [Errno 21] Is a directory: '.'\n",
      "Error processing : [Errno 21] Is a directory: '.'\n",
      "Error processing : [Errno 21] Is a directory: '.'\n"
     ]
    }
   ],
   "source": [
    "# from docling.document_converter import DocumentConverter\n",
    "# from pathlib import Path\n",
    "\n",
    "# # Define the directories\n",
    "# sources_dir = Path(\"Docs/\")\n",
    "# save_dir = Path(\"Docs/save\")\n",
    "\n",
    "# # Create save directory if it doesn't exist\n",
    "# save_dir.mkdir(parents=True, exist_ok=True)\n",
    "\n",
    "# # Collect source links or file paths from user input\n",
    "# source_links = []\n",
    "# while True:\n",
    "#     new_link = input(\"Enter link or file path (type 'done' to finish): \")\n",
    "#     if new_link.lower() == 'done':\n",
    "#         break\n",
    "#     source_links.append(new_link)\n",
    "\n",
    "# # Combine files from the directory and user-provided links\n",
    "# all_sources = []\n",
    "\n",
    "# # Add user-provided links or file paths\n",
    "# for link in source_links:\n",
    "#     all_sources.append(link)  # Convert user input to Path objects\n",
    "\n",
    "# # Process all collected sources\n",
    "# for i, source in enumerate(all_sources):\n",
    "#     try:\n",
    "#         converter = DocumentConverter()\n",
    "#         result = converter.convert(source)  # Convert the file/link\n",
    "#         text = result.document.export_to_markdown()\n",
    "\n",
    "#         # Save the markdown output to a file\n",
    "#         output_path = save_dir / f\"converted_{i}.md\"\n",
    "#         with open(output_path, \"w\", encoding=\"utf-8\") as file:\n",
    "#             file.write(text)\n",
    "\n",
    "#         print(f\"Converted {source} to {output_path}\")\n",
    "#     except Exception as e:\n",
    "#         print(f\"Error processing {source}: {e}\")\n"
   ]
  },
  {
   "cell_type": "markdown",
   "id": "571b1002",
   "metadata": {},
   "source": [
    "# Doc pipeline"
   ]
  },
  {
   "cell_type": "code",
   "execution_count": null,
   "id": "0034c569",
   "metadata": {},
   "outputs": [],
   "source": [
    "from docling.document_converter import DocumentConverter\n",
    "from pathlib import Path\n",
    "\n",
    "path = Path(input(\"Enter the path to the document(format PDF, MD, DOCX)\"))\n",
    "if path.is_file() and path.suffix.lower() in ['.pdf', '.md', '.docx']:\n",
    "    converter = DocumentConverter()\n",
    "    result = converter.convert(path)\n",
    "    text = (result.document.export_to_markdown())\n",
    "else:\n",
    "    print(\"The file needs to be PDF, DOCX or MD format.\")"
   ]
  },
  {
   "cell_type": "code",
   "execution_count": null,
   "id": "161aba14",
   "metadata": {},
   "outputs": [
    {
     "name": "stdout",
     "output_type": "stream",
     "text": [
      "# Comprehensive Report on System Design\n",
      "\n",
      "System design is the process of defining the architecture, components, interfaces, and data models for building software systems that meet specific requirements efficiently and effectively. It transforms user requirements into a structured blueprint that guides the development of reliable, scalable, and maintainable software solutions[1].\n",
      "\n",
      "## Definition and Fundamentals\n",
      "\n",
      "System design encompasses planning and structuring complex systems to fulfill both functional and non-functional requirements. It involves making crucial decisions about how different components will interact to achieve desired functionality[2]. A well-designed system aims to be:\n",
      "\n",
      "- **Reliable**: Handles faults, failures, and errors gracefully\n",
      "\n",
      "- **Effective**: Meets all user needs and business requirements\n",
      "\n",
      "- **Maintainable**: Remains flexible and easy to scale or modify[9]\n",
      "\n",
      "## Key System Design Principles\n",
      "\n",
      "### SOLID Principles\n",
      "\n",
      "The SOLID principles provide fundamental guidelines for creating robust software:\n",
      "\n",
      "- **Single Responsibility Principle**: Each class or module should have only one reason to change\n",
      "\n",
      "- **Open/Closed Principle**: Systems should be open for extension but closed for modification\n",
      "\n",
      "- **Liskov Substitution Principle**: Objects should be replaceable with instances of their subtypes\n",
      "\n",
      "- **Interface Segregation Principle**: Many specific interfaces are better than one general interface\n",
      "\n",
      "- **Dependency Inversion Principle**: Depend on abstractions, not implementations[6][8]\n",
      "\n",
      "### Design for Scalability\n",
      "\n",
      "Scalability is the system's ability to handle increased load without performance degradation. Key strategies include:\n",
      "\n",
      "- **Horizontal scaling**: Adding more machines to the system\n",
      "\n",
      "- **Vertical scaling**: Adding more power to existing machines\n",
      "\n",
      "- **Load balancing**: Distributing workload across multiple servers[3][7]\n",
      "\n",
      "### Modularity and Simplicity\n",
      "\n",
      "Breaking complex systems into smaller, manageable components makes them easier to develop, test, and maintain. Each module should have a clear purpose with well-defined interfaces, ensuring high cohesion and low coupling[6][7].\n",
      "\n",
      "## System Design Approach\n",
      "\n",
      "An effective approach to system design involves several key steps:\n",
      "\n",
      "1. **Understand and Define Requirements**\n",
      "\n",
      "- Gather functional requirements (what the system must do)\n",
      "\n",
      "- Identify non-functional requirements (performance, security, etc.)\n",
      "\n",
      "- Clarify constraints (budget, technology limitations)[6]\n",
      "\n",
      "2. **Design Architecture**\n",
      "\n",
      "- Choose appropriate architectural patterns (microservices, event-driven, etc.)\n",
      "\n",
      "- Establish communication protocols between components\n",
      "\n",
      "- Define data models and storage strategies[6]\n",
      "\n",
      "3. **Plan for Data Management**\n",
      "\n",
      "- Select appropriate databases (SQL vs. NoSQL)\n",
      "\n",
      "- Implement data partitioning/sharding strategies\n",
      "\n",
      "- Design for data integrity and consistency[6]\n",
      "\n",
      "4. **Consider Trade-offs**\n",
      "\n",
      "- Performance vs. cost\n",
      "\n",
      "- Simplicity vs. flexibility\n",
      "\n",
      "- Strong consistency vs. high availability[6]\n",
      "\n",
      "## Building Blocks of Modern System Design\n",
      "\n",
      "Modern system design relies on several common building blocks that serve as fundamental components across various systems:\n",
      "\n",
      "- **Load Balancers**: Distribute incoming traffic across multiple servers\n",
      "\n",
      "- **Caching Systems**: Store frequently accessed data for faster retrieval\n",
      "\n",
      "- **Message Queues**: Enable asynchronous communication between components\n",
      "\n",
      "- **Content Delivery Networks (CDNs)**: Distribute content geographically closer to users[9]\n",
      "\n",
      "## Real-World System Design Examples\n",
      "\n",
      "### Netflix Content Delivery System\n",
      "\n",
      "Netflix employs a sophisticated architecture for global streaming:\n",
      "\n",
      "- Uses CDNs to cache content closer to users, reducing latency\n",
      "\n",
      "- Implements microservices architecture for independent scaling\n",
      "\n",
      "- Deploys infrastructure across multiple regions for high availability[5]\n",
      "\n",
      "### Amazon's E-commerce Platform\n",
      "\n",
      "Amazon's system handles massive scale through:\n",
      "\n",
      "- Microservices with event-driven architecture for order processing\n",
      "\n",
      "- NoSQL databases and caching for fast product lookups\n",
      "\n",
      "- Scalable search systems powered by technologies like Elasticsearch[5]\n",
      "\n",
      "### WhatsApp Messaging System\n",
      "\n",
      "WhatsApp manages billions of daily messages through:\n",
      "\n",
      "- Asynchronous messaging with queues for reliability\n",
      "\n",
      "- Optimized storage and compression techniques\n",
      "\n",
      "- Data sharding by user/region to distribute load[5]\n",
      "\n",
      "### Uber's Ride-Hailing Platform\n",
      "\n",
      "Uber's architecture focuses on:\n",
      "\n",
      "- Real-time location data processing with geospatial indexing\n",
      "\n",
      "- Event-driven components for rider-driver matching\n",
      "\n",
      "- Geo-distributed architecture for global availability[5]\n",
      "\n",
      "## Best Practices for Effective System Design\n",
      "\n",
      "### Ensure Fault Tolerance and High Availability\n",
      "\n",
      "- Implement redundancy to avoid single points of failure\n",
      "\n",
      "- Design failover mechanisms that trigger automatically\n",
      "\n",
      "- Use load balancers to redirect traffic to healthy nodes[10]\n",
      "\n",
      "### Prioritize Security\n",
      "\n",
      "- Follow the principle of least privilege\n",
      "\n",
      "- Implement authentication and authorization mechanisms\n",
      "\n",
      "- Encrypt sensitive data in transit and at rest[10]\n",
      "\n",
      "### Design for Performance\n",
      "\n",
      "- Optimize algorithms and data structures\n",
      "\n",
      "- Implement caching at various levels\n",
      "\n",
      "- Use asynchronous processing to prevent bottlenecks[7]\n",
      "\n",
      "### Implement Monitoring and Logging\n",
      "\n",
      "- Track system performance and health metrics\n",
      "\n",
      "- Record events and errors for debugging\n",
      "\n",
      "- Set up alerting systems for critical issues[3]\n",
      "\n",
      "## Conclusion\n",
      "\n",
      "Effective system design is foundational to creating robust, scalable, and maintainable software systems. By understanding requirements, choosing appropriate architectures, managing trade-offs, and implementing best practices, engineers can design systems that withstand the test of time and adapt to changing demands. Real-world examples from companies like Netflix, Amazon, and Uber demonstrate how these principles work in practice, offering valuable lessons for designing systems of any size or complexity.\n",
      "\n",
      "Citations:\n",
      "\n",
      "[1] https://www.linkedin.com/pulse/system-design-basics-essential-principles-best-practices-shukla-j5tdc\n",
      "\n",
      "[2] https://dev.to/rajrathod/system-design-introduction-9o8\n",
      "\n",
      "[3] https://www.designgurus.io/answers/detail/system-design-fundamentals\n",
      "\n",
      "[4] https://www.designgurus.io/answers/detail/real-world-system-design-case-studies\n",
      "\n",
      "[5] https://www.designgurus.io/answers/detail/real-world-architecture-examples-to-excel-in-system-design-interviews\n",
      "\n",
      "[6] https://www.designgurus.io/answers/detail/what-are-the-strategies-of-system-design\n",
      "\n",
      "[7] https://www.statsig.com/perspectives/designing-for-scalability-principles\n",
      "\n",
      "[8] https://swimm.io/learn/system-design/6-software-design-principles-used-by-successful-engineers\n",
      "\n",
      "[9] https://www.educative.io/courses/grokking-the-system-design-interview/introduction-to-modern-system-design\n",
      "\n",
      "[10] https://blog.heycoach.in/best-practices-for-effective-system-design-you-should-follow/\n",
      "\n",
      "[11] https://www.educative.io/courses/grokking-the-system-design-interview\n",
      "\n",
      "[12] https://www.designgurus.io/blog/system-design-interview-fundamentals\n",
      "\n",
      "[13] https://segwitz.com/what-is-system-design-and-why-it-is-necessary/\n",
      "\n",
      "[14] https://github.com/ashishps1/awesome-system-design-resources\n",
      "\n",
      "[15] https://dev.to/somadevtoo/10-must-know-system-design-concepts-for-interviews-2fii\n",
      "\n",
      "[16] https://www.youtube.com/watch?v=m8Icp\\_Cid5o\n",
      "\n",
      "[17] https://www.intercom.com/blog/six-principles-of-system-design/\n",
      "\n",
      "[18] https://help.figma.com/hc/en-us/articles/14552901442839-Overview-Introduction-to-design-systems\n",
      "\n",
      "[19] https://interviewing.io/guides/system-design-interview/part-two\n",
      "\n",
      "[20] https://community.nasscom.in/index.php/communities/tech-good/introduction-system-design-methodologies\n",
      "\n",
      "[21] https://www.tryexponent.com/courses/system-design-interviews/system-design-principles\n",
      "\n",
      "[22] https://github.com/karanpratapsingh/system-design\n",
      "\n",
      "[23] https://www.linkedin.com/posts/ishmeetsinghsethi\\_13-system-design-case-studies-every-software-activity-7203392863538151424-v-tw\n",
      "\n",
      "[24] https://scaleyourapp.com/full-list-of-articles-in-the-real-world-software-architecture-series/\n",
      "\n",
      "[25] https://github.com/Coder-World04/Complete-System-Design-Case-studies\n",
      "\n",
      "[26] https://www.hellointerview.com/learn/system-design\n",
      "\n",
      "[27] https://www.youtube.com/playlist?list=PL9nWRykSBSFiyg7uv5TiTlNYbW0S9sDmQ\n",
      "\n",
      "[28] https://www.docuwriter.ai/posts/demystifying-system-design-real-world-examples-applications\n",
      "\n",
      "[29] https://www.linkedin.com/posts/habib9190\\_complete-system-design-case-studies-activity-7115729599250001921-n\\_I5\n",
      "\n",
      "[30] https://www.udemy.com/course/case-studies-for-system-design-interviews/\n",
      "\n",
      "[31] https://www.evidentlyai.com/ml-system-design\n",
      "\n",
      "[32] https://innovareacademics.in/blog/scalable-reliable-systems-with-devops/\n",
      "\n",
      "[33] https://www.linkedin.com/pulse/system-design-basics-essential-principles-best-practices-shukla-j5tdc\n",
      "\n",
      "[34] https://community.nasscom.in/communities/tech-good/introduction-system-design-methodologies\n",
      "\n",
      "[35] https://dev.to/navinder/system-architecture-best-practices-designing-robust-and-scalable-systems-3m61\n",
      "\n",
      "[36] https://www.apptension.com/blog-posts/design-methodologies\n",
      "\n",
      "[37] https://www.linkedin.com/advice/1/how-do-you-ensure-scalability-reliability-your\n",
      "\n",
      "[38] https://www.netguru.com/blog/key-design-systems-trends-and-best-practices\n",
      "\n",
      "[39] https://developersummit.com/session/mastering-the-system-design-methodology\n",
      "\n",
      "[40] https://github.com/binhnguyennus/awesome-scalability\n",
      "\n",
      "[41] https://roadmap.sh/system-design\n",
      "\n",
      "[42] https://www.blackduck.com/blog/top-4-software-development-methodologies.html\n",
      "\n",
      "[43] https://dev.to/kaustubhyerkade/system-design-fundamentals-a-complete-guide-for-beginners-3n95\n",
      "\n",
      "[44] https://www.youtube.com/watch?v=F2FmTdLtb\\_4\n",
      "\n",
      "[45] https://swimm.io/learn/system-design/system-design-complete-guide-with-patterns-examples-and-techniques\n",
      "\n",
      "[46] https://www.udemy.com/course/software-architecture-system-design-practical-case-studies/\n",
      "\n",
      "[47] https://www.designgurus.io/answers/detail/practical-system-design-case-studies-with-guided-solutions\n",
      "\n",
      "[48] https://dev.to/alexr/14-case-studies-master-system-design-in-a-month-2jk2\n",
      "\n",
      "[49] https://github.com/Coder-World04/Complete-System-Design\n",
      "\n",
      "[50] https://learn.org/articles/What\\_is\\_Design\\_Methodology.html\n",
      "\n",
      "[51] https://learningdaily.dev/exploring-system-design-methods-best-fit-for-your-project-c198158c5094\n",
      "\n",
      "[52] https://www.designgurus.io/blog/high-availability-system-design-basics\n",
      "\n",
      "[53] https://www.tutorialspoint.com/system\\_analysis\\_and\\_design/system\\_design.htm\n"
     ]
    }
   ],
   "source": [
    "print(text)"
   ]
  },
  {
   "cell_type": "code",
   "execution_count": null,
   "id": "51f0b2e3",
   "metadata": {},
   "outputs": [
    {
     "name": "stdout",
     "output_type": "stream",
     "text": [
      "Number of tokens: 2407\n"
     ]
    }
   ],
   "source": [
    "from transformers import AutoTokenizer\n",
    "\n",
    "# Load the tokenizer for Qwen2.5-0.5B-Instruct\n",
    "tokenizer = AutoTokenizer.from_pretrained(\"Qwen/Qwen2.5-0.5B-Instruct\")\n",
    "\n",
    "def count_tokens(input_text):\n",
    "    # Tokenize the input text\n",
    "    tokens = tokenizer(input_text, return_tensors=\"pt\")\n",
    "\n",
    "    # Count the number of tokens\n",
    "    num_tokens = len(tokens[\"input_ids\"][0])\n",
    "    \n",
    "    return num_tokens\n",
    "\n",
    "print(f\"Number of tokens: {count_tokens(text)}\")"
   ]
  },
  {
   "cell_type": "code",
   "execution_count": null,
   "id": "8e141568",
   "metadata": {},
   "outputs": [],
   "source": [
    "# import re\n",
    "# from langchain_core.prompts import PromptTemplate\n",
    "# from langchain_huggingface.llms import HuggingFacePipeline\n",
    "# from transformers import AutoModelForCausalLM, AutoTokenizer, pipeline\n",
    "\n",
    "# model_id = \"Qwen/Qwen2.5-0.5B-Instruct\"\n",
    "# tokenizer = AutoTokenizer.from_pretrained(model_id)\n",
    "# model = AutoModelForCausalLM.from_pretrained(model_id)\n",
    "# pipe = pipeline(\"text-generation\", model=model, tokenizer=tokenizer, max_new_tokens=3000)\n",
    "# hf = HuggingFacePipeline(pipeline=pipe)\n",
    "\n",
    "# def summarizer(input_text):\n",
    "#     template = \"\"\"\n",
    "#     You are tasked with summarizing a document in a clear, concise, and professional manner. \n",
    "#     Your summary should retain all critical information while eliminating unnecessary details. \n",
    "\n",
    "#     To guide your approach, here is an example:\n",
    "#     Document:\n",
    "#     {ex_text}\n",
    "#     Summary:\n",
    "#     {ex_summarized_text}\n",
    "\n",
    "#     Now, summarize the following document:\n",
    "#     {text}\n",
    "\n",
    "#     Make sure the response is in Markdown format.\n",
    "#     \"\"\"\n",
    "\n",
    "#     prompt = PromptTemplate.from_template(template)\n",
    "\n",
    "#     chain = prompt | hf.bind(skip_prompt=True)\n",
    "#     chain = prompt| model\n",
    "#     text = chain.invoke({\"ex_text\":ex_text,\"ex_summarized_text\":ex_summarized_text,\"text\": input_text})\n",
    "#     pattern = r\"```markdown\\n(.*?)$\"\n",
    "#     result = re.search(pattern, text, re.DOTALL)\n",
    "\n",
    "#     if result:\n",
    "#         text = result.group(1).strip()\n",
    "\n",
    "#     return (text)"
   ]
  },
  {
   "cell_type": "code",
   "execution_count": null,
   "id": "d21be6e7",
   "metadata": {},
   "outputs": [
    {
     "name": "stderr",
     "output_type": "stream",
     "text": [
      "The installed version of bitsandbytes was compiled without GPU support. 8-bit optimizers, 8-bit multiplication, and GPU quantization are unavailable.\n",
      "CUDA is required but not available for bitsandbytes. Please consider installing the multi-platform enabled version of bitsandbytes, which is currently a work in progress. Please check currently supported platforms and installation instructions at https://huggingface.co/docs/bitsandbytes/main/en/installation#multi-backend\n"
     ]
    },
    {
     "ename": "RuntimeError",
     "evalue": "CUDA is required but not available for bitsandbytes. Please consider installing the multi-platform enabled version of bitsandbytes, which is currently a work in progress. Please check currently supported platforms and installation instructions at https://huggingface.co/docs/bitsandbytes/main/en/installation#multi-backend",
     "output_type": "error",
     "traceback": [
      "\u001b[31m---------------------------------------------------------------------------\u001b[39m",
      "\u001b[31mRuntimeError\u001b[39m                              Traceback (most recent call last)",
      "\u001b[36mCell\u001b[39m\u001b[36m \u001b[39m\u001b[32mIn[5]\u001b[39m\u001b[32m, line 19\u001b[39m\n\u001b[32m     16\u001b[39m tokenizer = AutoTokenizer.from_pretrained(model_id)\n\u001b[32m     18\u001b[39m \u001b[38;5;66;03m# Load model with quantization\u001b[39;00m\n\u001b[32m---> \u001b[39m\u001b[32m19\u001b[39m model = \u001b[43mAutoModelForCausalLM\u001b[49m\u001b[43m.\u001b[49m\u001b[43mfrom_pretrained\u001b[49m\u001b[43m(\u001b[49m\n\u001b[32m     20\u001b[39m \u001b[43m    \u001b[49m\u001b[43mmodel_id\u001b[49m\u001b[43m,\u001b[49m\n\u001b[32m     21\u001b[39m \u001b[43m    \u001b[49m\u001b[43mquantization_config\u001b[49m\u001b[43m=\u001b[49m\u001b[43mquantization_config\u001b[49m\u001b[43m,\u001b[49m\n\u001b[32m     22\u001b[39m \u001b[43m    \u001b[49m\u001b[43mdevice_map\u001b[49m\u001b[43m=\u001b[49m\u001b[33;43m\"\u001b[39;49m\u001b[33;43mauto\u001b[39;49m\u001b[33;43m\"\u001b[39;49m\n\u001b[32m     23\u001b[39m \u001b[43m)\u001b[49m\n\u001b[32m     25\u001b[39m \u001b[38;5;66;03m# Configure generation parameters for efficiency\u001b[39;00m\n\u001b[32m     26\u001b[39m pipe = pipeline(\n\u001b[32m     27\u001b[39m     \u001b[33m\"\u001b[39m\u001b[33mtext-generation\u001b[39m\u001b[33m\"\u001b[39m, \n\u001b[32m     28\u001b[39m     model=model, \n\u001b[32m   (...)\u001b[39m\u001b[32m     31\u001b[39m     torch_dtype=torch.float16\n\u001b[32m     32\u001b[39m )\n",
      "\u001b[36mFile \u001b[39m\u001b[32m~/Desktop/ADHYAYAN_MITRA/.venv/lib/python3.12/site-packages/transformers/models/auto/auto_factory.py:571\u001b[39m, in \u001b[36m_BaseAutoModelClass.from_pretrained\u001b[39m\u001b[34m(cls, pretrained_model_name_or_path, *model_args, **kwargs)\u001b[39m\n\u001b[32m    569\u001b[39m     \u001b[38;5;28;01mif\u001b[39;00m model_class.config_class == config.sub_configs.get(\u001b[33m\"\u001b[39m\u001b[33mtext_config\u001b[39m\u001b[33m\"\u001b[39m, \u001b[38;5;28;01mNone\u001b[39;00m):\n\u001b[32m    570\u001b[39m         config = config.get_text_config()\n\u001b[32m--> \u001b[39m\u001b[32m571\u001b[39m     \u001b[38;5;28;01mreturn\u001b[39;00m \u001b[43mmodel_class\u001b[49m\u001b[43m.\u001b[49m\u001b[43mfrom_pretrained\u001b[49m\u001b[43m(\u001b[49m\n\u001b[32m    572\u001b[39m \u001b[43m        \u001b[49m\u001b[43mpretrained_model_name_or_path\u001b[49m\u001b[43m,\u001b[49m\u001b[43m \u001b[49m\u001b[43m*\u001b[49m\u001b[43mmodel_args\u001b[49m\u001b[43m,\u001b[49m\u001b[43m \u001b[49m\u001b[43mconfig\u001b[49m\u001b[43m=\u001b[49m\u001b[43mconfig\u001b[49m\u001b[43m,\u001b[49m\u001b[43m \u001b[49m\u001b[43m*\u001b[49m\u001b[43m*\u001b[49m\u001b[43mhub_kwargs\u001b[49m\u001b[43m,\u001b[49m\u001b[43m \u001b[49m\u001b[43m*\u001b[49m\u001b[43m*\u001b[49m\u001b[43mkwargs\u001b[49m\n\u001b[32m    573\u001b[39m \u001b[43m    \u001b[49m\u001b[43m)\u001b[49m\n\u001b[32m    574\u001b[39m \u001b[38;5;28;01mraise\u001b[39;00m \u001b[38;5;167;01mValueError\u001b[39;00m(\n\u001b[32m    575\u001b[39m     \u001b[33mf\u001b[39m\u001b[33m\"\u001b[39m\u001b[33mUnrecognized configuration class \u001b[39m\u001b[38;5;132;01m{\u001b[39;00mconfig.\u001b[34m__class__\u001b[39m\u001b[38;5;132;01m}\u001b[39;00m\u001b[33m for this kind of AutoModel: \u001b[39m\u001b[38;5;132;01m{\u001b[39;00m\u001b[38;5;28mcls\u001b[39m.\u001b[34m__name__\u001b[39m\u001b[38;5;132;01m}\u001b[39;00m\u001b[33m.\u001b[39m\u001b[38;5;130;01m\\n\u001b[39;00m\u001b[33m\"\u001b[39m\n\u001b[32m    576\u001b[39m     \u001b[33mf\u001b[39m\u001b[33m\"\u001b[39m\u001b[33mModel type should be one of \u001b[39m\u001b[38;5;132;01m{\u001b[39;00m\u001b[33m'\u001b[39m\u001b[33m, \u001b[39m\u001b[33m'\u001b[39m.join(c.\u001b[34m__name__\u001b[39m\u001b[38;5;250m \u001b[39m\u001b[38;5;28;01mfor\u001b[39;00m\u001b[38;5;250m \u001b[39mc\u001b[38;5;250m \u001b[39m\u001b[38;5;129;01min\u001b[39;00m\u001b[38;5;250m \u001b[39m\u001b[38;5;28mcls\u001b[39m._model_mapping.keys())\u001b[38;5;132;01m}\u001b[39;00m\u001b[33m.\u001b[39m\u001b[33m\"\u001b[39m\n\u001b[32m    577\u001b[39m )\n",
      "\u001b[36mFile \u001b[39m\u001b[32m~/Desktop/ADHYAYAN_MITRA/.venv/lib/python3.12/site-packages/transformers/modeling_utils.py:279\u001b[39m, in \u001b[36mrestore_default_torch_dtype.<locals>._wrapper\u001b[39m\u001b[34m(*args, **kwargs)\u001b[39m\n\u001b[32m    277\u001b[39m old_dtype = torch.get_default_dtype()\n\u001b[32m    278\u001b[39m \u001b[38;5;28;01mtry\u001b[39;00m:\n\u001b[32m--> \u001b[39m\u001b[32m279\u001b[39m     \u001b[38;5;28;01mreturn\u001b[39;00m \u001b[43mfunc\u001b[49m\u001b[43m(\u001b[49m\u001b[43m*\u001b[49m\u001b[43margs\u001b[49m\u001b[43m,\u001b[49m\u001b[43m \u001b[49m\u001b[43m*\u001b[49m\u001b[43m*\u001b[49m\u001b[43mkwargs\u001b[49m\u001b[43m)\u001b[49m\n\u001b[32m    280\u001b[39m \u001b[38;5;28;01mfinally\u001b[39;00m:\n\u001b[32m    281\u001b[39m     torch.set_default_dtype(old_dtype)\n",
      "\u001b[36mFile \u001b[39m\u001b[32m~/Desktop/ADHYAYAN_MITRA/.venv/lib/python3.12/site-packages/transformers/modeling_utils.py:4228\u001b[39m, in \u001b[36mPreTrainedModel.from_pretrained\u001b[39m\u001b[34m(cls, pretrained_model_name_or_path, config, cache_dir, ignore_mismatched_sizes, force_download, local_files_only, token, revision, use_safetensors, weights_only, *model_args, **kwargs)\u001b[39m\n\u001b[32m   4225\u001b[39m     hf_quantizer = \u001b[38;5;28;01mNone\u001b[39;00m\n\u001b[32m   4227\u001b[39m \u001b[38;5;28;01mif\u001b[39;00m hf_quantizer \u001b[38;5;129;01mis\u001b[39;00m \u001b[38;5;129;01mnot\u001b[39;00m \u001b[38;5;28;01mNone\u001b[39;00m:\n\u001b[32m-> \u001b[39m\u001b[32m4228\u001b[39m     \u001b[43mhf_quantizer\u001b[49m\u001b[43m.\u001b[49m\u001b[43mvalidate_environment\u001b[49m\u001b[43m(\u001b[49m\n\u001b[32m   4229\u001b[39m \u001b[43m        \u001b[49m\u001b[43mtorch_dtype\u001b[49m\u001b[43m=\u001b[49m\u001b[43mtorch_dtype\u001b[49m\u001b[43m,\u001b[49m\n\u001b[32m   4230\u001b[39m \u001b[43m        \u001b[49m\u001b[43mfrom_tf\u001b[49m\u001b[43m=\u001b[49m\u001b[43mfrom_tf\u001b[49m\u001b[43m,\u001b[49m\n\u001b[32m   4231\u001b[39m \u001b[43m        \u001b[49m\u001b[43mfrom_flax\u001b[49m\u001b[43m=\u001b[49m\u001b[43mfrom_flax\u001b[49m\u001b[43m,\u001b[49m\n\u001b[32m   4232\u001b[39m \u001b[43m        \u001b[49m\u001b[43mdevice_map\u001b[49m\u001b[43m=\u001b[49m\u001b[43mdevice_map\u001b[49m\u001b[43m,\u001b[49m\n\u001b[32m   4233\u001b[39m \u001b[43m        \u001b[49m\u001b[43mweights_only\u001b[49m\u001b[43m=\u001b[49m\u001b[43mweights_only\u001b[49m\u001b[43m,\u001b[49m\n\u001b[32m   4234\u001b[39m \u001b[43m    \u001b[49m\u001b[43m)\u001b[49m\n\u001b[32m   4235\u001b[39m     torch_dtype = hf_quantizer.update_torch_dtype(torch_dtype)\n\u001b[32m   4236\u001b[39m     device_map = hf_quantizer.update_device_map(device_map)\n",
      "\u001b[36mFile \u001b[39m\u001b[32m~/Desktop/ADHYAYAN_MITRA/.venv/lib/python3.12/site-packages/transformers/quantizers/quantizer_bnb_4bit.py:84\u001b[39m, in \u001b[36mBnb4BitHfQuantizer.validate_environment\u001b[39m\u001b[34m(self, *args, **kwargs)\u001b[39m\n\u001b[32m     81\u001b[39m \u001b[38;5;28;01mfrom\u001b[39;00m\u001b[38;5;250m \u001b[39m\u001b[34;01m.\u001b[39;00m\u001b[34;01m.\u001b[39;00m\u001b[34;01mutils\u001b[39;00m\u001b[38;5;250m \u001b[39m\u001b[38;5;28;01mimport\u001b[39;00m is_bitsandbytes_multi_backend_available\n\u001b[32m     83\u001b[39m bnb_multibackend_is_enabled = is_bitsandbytes_multi_backend_available()\n\u001b[32m---> \u001b[39m\u001b[32m84\u001b[39m \u001b[43mvalidate_bnb_backend_availability\u001b[49m\u001b[43m(\u001b[49m\u001b[43mraise_exception\u001b[49m\u001b[43m=\u001b[49m\u001b[38;5;28;43;01mTrue\u001b[39;49;00m\u001b[43m)\u001b[49m\n\u001b[32m     86\u001b[39m \u001b[38;5;28;01mif\u001b[39;00m kwargs.get(\u001b[33m\"\u001b[39m\u001b[33mfrom_tf\u001b[39m\u001b[33m\"\u001b[39m, \u001b[38;5;28;01mFalse\u001b[39;00m) \u001b[38;5;129;01mor\u001b[39;00m kwargs.get(\u001b[33m\"\u001b[39m\u001b[33mfrom_flax\u001b[39m\u001b[33m\"\u001b[39m, \u001b[38;5;28;01mFalse\u001b[39;00m):\n\u001b[32m     87\u001b[39m     \u001b[38;5;28;01mraise\u001b[39;00m \u001b[38;5;167;01mValueError\u001b[39;00m(\n\u001b[32m     88\u001b[39m         \u001b[33m\"\u001b[39m\u001b[33mConverting into 4-bit or 8-bit weights from tf/flax weights is currently not supported, please make\u001b[39m\u001b[33m\"\u001b[39m\n\u001b[32m     89\u001b[39m         \u001b[33m\"\u001b[39m\u001b[33m sure the weights are in PyTorch format.\u001b[39m\u001b[33m\"\u001b[39m\n\u001b[32m     90\u001b[39m     )\n",
      "\u001b[36mFile \u001b[39m\u001b[32m~/Desktop/ADHYAYAN_MITRA/.venv/lib/python3.12/site-packages/transformers/integrations/bitsandbytes.py:561\u001b[39m, in \u001b[36mvalidate_bnb_backend_availability\u001b[39m\u001b[34m(raise_exception)\u001b[39m\n\u001b[32m    559\u001b[39m \u001b[38;5;28;01mif\u001b[39;00m is_bitsandbytes_multi_backend_available():\n\u001b[32m    560\u001b[39m     \u001b[38;5;28;01mreturn\u001b[39;00m _validate_bnb_multi_backend_availability(raise_exception)\n\u001b[32m--> \u001b[39m\u001b[32m561\u001b[39m \u001b[38;5;28;01mreturn\u001b[39;00m \u001b[43m_validate_bnb_cuda_backend_availability\u001b[49m\u001b[43m(\u001b[49m\u001b[43mraise_exception\u001b[49m\u001b[43m)\u001b[49m\n",
      "\u001b[36mFile \u001b[39m\u001b[32m~/Desktop/ADHYAYAN_MITRA/.venv/lib/python3.12/site-packages/transformers/integrations/bitsandbytes.py:539\u001b[39m, in \u001b[36m_validate_bnb_cuda_backend_availability\u001b[39m\u001b[34m(raise_exception)\u001b[39m\n\u001b[32m    537\u001b[39m \u001b[38;5;28;01mif\u001b[39;00m raise_exception:\n\u001b[32m    538\u001b[39m     logger.error(log_msg)\n\u001b[32m--> \u001b[39m\u001b[32m539\u001b[39m     \u001b[38;5;28;01mraise\u001b[39;00m \u001b[38;5;167;01mRuntimeError\u001b[39;00m(log_msg)\n\u001b[32m    541\u001b[39m logger.warning(log_msg)\n\u001b[32m    542\u001b[39m \u001b[38;5;28;01mreturn\u001b[39;00m \u001b[38;5;28;01mFalse\u001b[39;00m\n",
      "\u001b[31mRuntimeError\u001b[39m: CUDA is required but not available for bitsandbytes. Please consider installing the multi-platform enabled version of bitsandbytes, which is currently a work in progress. Please check currently supported platforms and installation instructions at https://huggingface.co/docs/bitsandbytes/main/en/installation#multi-backend"
     ]
    }
   ],
   "source": [
    "# import re\n",
    "# from langchain_core.prompts import PromptTemplate\n",
    "# from langchain_huggingface.llms import HuggingFacePipeline\n",
    "# from transformers import AutoModelForCausalLM, AutoTokenizer, pipeline, BitsAndBytesConfig\n",
    "# import torch\n",
    "\n",
    "# # Configure quantization\n",
    "# quantization_config = BitsAndBytesConfig(\n",
    "#     load_in_4bit=True,\n",
    "#     bnb_4bit_compute_dtype=torch.float16,\n",
    "#     bnb_4bit_quant_type=\"nf4\",\n",
    "#     bnb_4bit_use_double_quant=True\n",
    "# )\n",
    "\n",
    "# model_id = \"Qwen/Qwen2.5-0.5B-Instruct\"\n",
    "# tokenizer = AutoTokenizer.from_pretrained(model_id)\n",
    "\n",
    "# # Load model with quantization\n",
    "# model = AutoModelForCausalLM.from_pretrained(\n",
    "#     model_id,\n",
    "#     quantization_config=quantization_config,\n",
    "#     device_map=\"auto\"\n",
    "# )\n",
    "\n",
    "# # Configure generation parameters for efficiency\n",
    "# pipe = pipeline(\n",
    "#     \"text-generation\", \n",
    "#     model=model, \n",
    "#     tokenizer=tokenizer, \n",
    "#     max_new_tokens=3000,\n",
    "#     torch_dtype=torch.float16\n",
    "# )\n",
    "\n",
    "# hf = HuggingFacePipeline(pipeline=pipe)\n",
    "\n",
    "# def summarizer(input_text):\n",
    "#     template = \"\"\"\n",
    "#     You are tasked with summarizing a document in a clear, concise, and professional manner. \n",
    "#     Your summary should retain all critical information while eliminating unnecessary details. \n",
    "\n",
    "#     To guide your approach, here is an example:\n",
    "#     Document:\n",
    "#     {ex_text}\n",
    "#     Summary:\n",
    "#     {ex_summarized_text}\n",
    "\n",
    "#     Now, summarize the following document:\n",
    "#     {text}\n",
    "\n",
    "#     Make sure the response is in Markdown format.\n",
    "#     \"\"\"\n",
    "\n",
    "#     prompt = PromptTemplate.from_template(template)\n",
    "\n",
    "#     chain = prompt | hf.bind(skip_prompt=True)\n",
    "#     text = chain.invoke({\"ex_text\":ex_text,\"ex_summarized_text\":ex_summarized_text,\"text\": input_text})\n",
    "\n",
    "#     pattern = r\"```markdown\\n(.*?)```\"\n",
    "#     result = re.search(pattern, text, re.DOTALL)\n",
    "\n",
    "#     if result:\n",
    "#         text = result.group(1).strip()\n",
    "    \n",
    "#     return (text)"
   ]
  },
  {
   "cell_type": "code",
   "execution_count": null,
   "id": "d0d644b1",
   "metadata": {},
   "outputs": [],
   "source": [
    "# import re\n",
    "# from langchain_core.prompts import PromptTemplate\n",
    "# from langchain_ollama.llms import OllamaLLM\n",
    "\n",
    "# def summarizer(input_text):\n",
    "#     model = OllamaLLM(\n",
    "#         model=\"qwen2.5:0.5b\",\n",
    "#         temperature=0,\n",
    "#     )\n",
    "\n",
    "#     template = \"\"\"\n",
    "#     You are tasked with summarizing a document in a clear, concise, and professional manner. \n",
    "#     Your summary should retain all critical information while eliminating unnecessary details. \n",
    "\n",
    "#     To guide your approach, here is an example:\n",
    "#     Document:\n",
    "#     {ex_text}\n",
    "#     Summary:\n",
    "#     {ex_summarized_text}\n",
    "\n",
    "#     Now, summarize the following document:\n",
    "#     {text}\n",
    "\n",
    "#     Make sure the response is in Markdown format.\n",
    "#     \"\"\"\n",
    "\n",
    "#     prompt = PromptTemplate.from_template(template)\n",
    "\n",
    "#     chain = prompt| model\n",
    "#     text = chain.invoke({\"ex_text\":ex_text,\"ex_summarized_text\":ex_summarized_text,\"text\": input_text})\n",
    "\n",
    "#     pattern = r\"```markdown\\n(.*?)```\"\n",
    "#     result = re.search(pattern, text, re.DOTALL)\n",
    "\n",
    "#     if result:\n",
    "#         text = result.group(1).strip()\n",
    "    \n",
    "#     return (text)"
   ]
  },
  {
   "cell_type": "code",
   "execution_count": null,
   "id": "9caf8d7d",
   "metadata": {},
   "outputs": [
    {
     "name": "stdout",
     "output_type": "stream",
     "text": [
      "Number of tokens: 539\n",
      "```markdown\n",
      "# System Design: A Comprehensive Guide for Beginners\n",
      "\n",
      "## Introduction to System Design\n",
      "\n",
      "System design is a crucial aspect of software development, focusing on how systems are built and managed. It involves understanding the requirements, designing the architecture, implementing the system, and ensuring its reliability and scalability.\n",
      "\n",
      "### Key Concepts in System Design\n",
      "\n",
      "1. **Requirements Gathering**: Identifying user needs and defining the system's goals.\n",
      "2. **System Architecture**: Planning the overall structure of the system, including components, interfaces, and communication mechanisms.\n",
      "3. **Database Management**: Designing the database schema to store data efficiently and securely.\n",
      "4. **User Interface (UI)**: Creating a user-friendly interface for users interacting with the system.\n",
      "5. **Performance Optimization**: Ensuring that the system can handle high loads and perform well under various conditions.\n",
      "\n",
      "### Best Practices in System Design\n",
      "\n",
      "1. **Modularity**: Breaking down complex systems into smaller, manageable components.\n",
      "2. **Simplicity**: Avoiding unnecessary complexity to ensure maintainability and scalability.\n",
      "3. **Scalability**: Designing the system to be flexible enough to handle increased loads without compromising performance.\n",
      "4. **Reusability**: Using reusable code where possible to reduce development time and maintenance costs.\n",
      "\n",
      "### Case Studies in System Design\n",
      "\n",
      "1. **Netflix**: A global streaming platform that uses a modular architecture, separating content delivery and user experience into different components.\n",
      "2. **Amazon Web Services (AWS)**: AWS provides a comprehensive set of services for building and managing cloud-based applications, including a scalable infrastructure and a robust system design.\n",
      "3. **Google Cloud Platform (GCP)**: GCP offers a range of services to build and manage cloud-native applications, with a focus on scalability and reliability.\n",
      "\n",
      "### Tools and Technologies\n",
      "\n",
      "- **Version Control Systems**: Git is widely used for managing code changes in software development projects.\n",
      "- **Database Management Systems (DBMS)**: PostgreSQL, MySQL, or MongoDB are popular choices for storing data.\n",
      "- **Cloud Services**: AWS, Google Cloud, Azure, or IBM Cloud provide scalable infrastructure solutions.\n",
      "\n",
      "### Best Practices for System Design\n",
      "\n",
      "1. **Use of Patterns and Examples**: Utilize well-known patterns and examples to guide the design process.\n",
      "2. **Iterative Development**: Design systems incrementally rather than building them all at once.\n",
      "3. **Testing**: Implement comprehensive testing strategies to ensure the system meets its requirements and performs as expected.\n",
      "\n",
      "### Conclusion\n",
      "\n",
      "System design is a fundamental aspect of software development that ensures the system can be built, maintained, and scaled effectively. By following best practices and leveraging tools and technologies, developers can create robust, scalable systems that meet the needs of their users.\n",
      "------------------------------------------------------------\n"
     ]
    }
   ],
   "source": [
    "# pipeline\n",
    "while count_tokens(text) >= 1500:\n",
    "    text = summarizer(text)\n",
    "    print(f\"Number of tokens: {count_tokens(text)}\")\n",
    "    print(text)\n",
    "    print(\"------------------------------------------------------------\")"
   ]
  },
  {
   "cell_type": "code",
   "execution_count": null,
   "id": "c1ffb3ce",
   "metadata": {},
   "outputs": [
    {
     "name": "stdout",
     "output_type": "stream",
     "text": [
      "/home/prasun/Desktop/ADHYAYAN_MITRA/components\n"
     ]
    },
    {
     "ename": "ModuleNotFoundError",
     "evalue": "No module named 'doc_ex'",
     "output_type": "error",
     "traceback": [
      "\u001b[31m---------------------------------------------------------------------------\u001b[39m",
      "\u001b[31mModuleNotFoundError\u001b[39m                       Traceback (most recent call last)",
      "\u001b[36mCell\u001b[39m\u001b[36m \u001b[39m\u001b[32mIn[1]\u001b[39m\u001b[32m, line 9\u001b[39m\n\u001b[32m      6\u001b[39m os.chdir(\u001b[33m'\u001b[39m\u001b[33mcomponents\u001b[39m\u001b[33m'\u001b[39m)\n\u001b[32m      7\u001b[39m \u001b[38;5;28mprint\u001b[39m(Path(\u001b[33m'\u001b[39m\u001b[33m.\u001b[39m\u001b[33m'\u001b[39m).cwd())\n\u001b[32m----> \u001b[39m\u001b[32m9\u001b[39m \u001b[38;5;28;01mfrom\u001b[39;00m\u001b[38;5;250m \u001b[39m\u001b[34;01mdoc_pipeline\u001b[39;00m\u001b[34;01m.\u001b[39;00m\u001b[34;01mpipeline\u001b[39;00m\u001b[38;5;250m \u001b[39m\u001b[38;5;28;01mimport\u001b[39;00m DocumentProcessor\n\u001b[32m     10\u001b[39m processor = DocumentProcessor()\n\u001b[32m     11\u001b[39m result = processor.process_document()\n",
      "\u001b[36mFile \u001b[39m\u001b[32m~/Desktop/ADHYAYAN_MITRA/components/doc_pipeline/pipeline.py:7\u001b[39m\n\u001b[32m      5\u001b[39m \u001b[38;5;28;01mfrom\u001b[39;00m\u001b[38;5;250m \u001b[39m\u001b[34;01mlangchain_ollama\u001b[39;00m\u001b[34;01m.\u001b[39;00m\u001b[34;01mllms\u001b[39;00m\u001b[38;5;250m \u001b[39m\u001b[38;5;28;01mimport\u001b[39;00m OllamaLLM\n\u001b[32m      6\u001b[39m \u001b[38;5;28;01mfrom\u001b[39;00m\u001b[38;5;250m \u001b[39m\u001b[34;01mdocling\u001b[39;00m\u001b[34;01m.\u001b[39;00m\u001b[34;01mdocument_converter\u001b[39;00m\u001b[38;5;250m \u001b[39m\u001b[38;5;28;01mimport\u001b[39;00m DocumentConverter\n\u001b[32m----> \u001b[39m\u001b[32m7\u001b[39m \u001b[38;5;28;01mfrom\u001b[39;00m\u001b[38;5;250m \u001b[39m\u001b[34;01mdoc_ex\u001b[39;00m\u001b[38;5;250m \u001b[39m\u001b[38;5;28;01mimport\u001b[39;00m ex_summarized_text, ex_text\n\u001b[32m      9\u001b[39m \u001b[38;5;28;01mclass\u001b[39;00m\u001b[38;5;250m \u001b[39m\u001b[34;01mDocumentProcessor\u001b[39;00m:\n\u001b[32m     10\u001b[39m \u001b[38;5;250m    \u001b[39m\u001b[33;03m\"\"\"\u001b[39;00m\n\u001b[32m     11\u001b[39m \u001b[33;03m    A class that handles document processing pipeline including:\u001b[39;00m\n\u001b[32m     12\u001b[39m \u001b[33;03m    - Converting documents to markdown\u001b[39;00m\n\u001b[32m     13\u001b[39m \u001b[33;03m    - Counting tokens\u001b[39;00m\n\u001b[32m     14\u001b[39m \u001b[33;03m    - Summarizing content\u001b[39;00m\n\u001b[32m     15\u001b[39m \u001b[33;03m    \"\"\"\u001b[39;00m\n",
      "\u001b[31mModuleNotFoundError\u001b[39m: No module named 'doc_ex'"
     ]
    }
   ],
   "source": [
    "import os\n",
    "from pathlib import Path\n",
    "import asyncio\n",
    "\n",
    "os.chdir('..')\n",
    "os.chdir('components')\n",
    "print(Path('.').cwd())\n",
    "\n",
    "from doc_pipeline.pipeline import DocumentProcessor\n",
    "processor = DocumentProcessor()\n",
    "result = processor.process_document()\n",
    "print(result)\n",
    "# os.chdir('..')\n",
    "# os.chdir('transcripter_api')\n",
    "# print(Path('.').cwd())\n",
    "# from transcripter import transcribe_audio\n",
    "# transcribe_audio()\n"
   ]
  },
  {
   "cell_type": "code",
   "execution_count": null,
   "id": "04748978",
   "metadata": {},
   "outputs": [
    {
     "name": "stdout",
     "output_type": "stream",
     "text": [
      "Document exceeds 2000 tokens. Summarizing...\n",
      "# System Design: A Comprehensive Guide for Beginners\n",
      "\n",
      "## Introduction to System Design\n",
      "\n",
      "System design is a critical aspect of software development, ensuring that an application or system meets its functional and non-functional requirements. It involves several key components:\n",
      "\n",
      "1. **Requirements Gathering**: Identifying the user needs and defining the system's goals.\n",
      "2. **Architecture Planning**: Defining the overall structure and components of the system.\n",
      "3. **Design**: Creating a detailed blueprint for how the system will be built.\n",
      "4. **Implementation**: Writing code to implement the design.\n",
      "5. **Testing**: Ensuring that the system meets its functional and non-functional requirements.\n",
      "\n",
      "## Key Concepts in System Design\n",
      "\n",
      "- **Scalability**: The ability of an application or system to handle increased loads without degradation in performance.\n",
      "- **Reliability**: The assurance that a system will operate correctly under various conditions.\n",
      "- **Maintainability**: Ensuring that the design is easy to understand, modify, and maintain.\n",
      "\n",
      "## Best Practices for System Design\n",
      "\n",
      "1. **Use Patterns**: Apply common patterns and techniques from other domains (e.g., software architecture, data modeling) to your design.\n",
      "2. **Define Roles and Responsibilities**: Clearly define who should be responsible for what in the system.\n",
      "3. **Implement Single Responsibility Principle**: Each component of the system should have a single responsibility.\n",
      "4. **Use Version Control**: Manage changes to the codebase effectively.\n",
      "\n",
      "## Case Studies: Mastering System Design\n",
      "\n",
      "- **Netflix**: A global media company that uses a combination of microservices and monolithic architecture to manage its content delivery network (CDN).\n",
      "- **Amazon Web Services (AWS)**: AWS provides a comprehensive set of services for building, running, and managing applications.\n",
      "- **Google Cloud Platform (GCP)**: GCP offers a range of services for developing, deploying, and managing cloud-native applications.\n",
      "\n",
      "## Conclusion\n",
      "\n",
      "System design is essential for ensuring that an application or system meets its functional and non-functional requirements. By following best practices and using patterns, you can create scalable, reliable, and maintainable systems. Remember to always consider scalability, reliability, and maintainability when designing your system.\n",
      "```\n"
     ]
    }
   ],
   "source": [
    "processor = DocumentProcessor()\n",
    "result = processor.process_document()\n",
    "print(result)"
   ]
  },
  {
   "cell_type": "code",
   "execution_count": null,
   "id": "fe9bafff",
   "metadata": {},
   "outputs": [],
   "source": [
    "from transformers import AutoTokenizer\n",
    "\n",
    "# Load the tokenizer for Qwen2.5-0.5B-Instruct\n",
    "tokenizer = AutoTokenizer.from_pretrained(\"Qwen/Qwen2.5-0.5B-Instruct\")\n",
    "\n",
    "def count_tokens(input_text):\n",
    "    # Tokenize the input text\n",
    "    tokens = tokenizer(input_text, return_tensors=\"pt\")\n",
    "\n",
    "    # Count the number of tokens\n",
    "    num_tokens = len(tokens[\"input_ids\"][0])\n",
    "    \n",
    "    return num_tokens\n",
    "\n",
    "print(f\"Number of tokens: {count_tokens(doc_result)}\")"
   ]
  },
  {
   "cell_type": "markdown",
   "id": "d0d01af7",
   "metadata": {},
   "source": [
    "## Testing"
   ]
  },
  {
   "cell_type": "code",
   "execution_count": 1,
   "id": "a6c2c657",
   "metadata": {},
   "outputs": [],
   "source": [
    "import sys\n",
    "import os\n",
    "\n",
    "# Add the parent directory to the path so Python can find the components\n",
    "sys.path.append(os.path.abspath('..'))"
   ]
  },
  {
   "cell_type": "code",
   "execution_count": 2,
   "id": "6ab2fd88",
   "metadata": {},
   "outputs": [],
   "source": [
    "# Now you can import components\n",
    "from components.doc_pipeline.pipeline import DocumentProcessor\n",
    "from components.transcripter_api import transcripter \n",
    "from components.select_llm import llm\n",
    "from components.gap_analyzer import analyzer"
   ]
  },
  {
   "cell_type": "code",
   "execution_count": 4,
   "id": "c17ea98b",
   "metadata": {},
   "outputs": [
    {
     "name": "stdout",
     "output_type": "stream",
     "text": [
      "Processing: /home/prasun/Desktop/ADHYAYAN_MITRA/components/transcripter_api/recording.mp3\n"
     ]
    },
    {
     "name": "stderr",
     "output_type": "stream",
     "text": [
      "Due to a bug fix in https://github.com/huggingface/transformers/pull/28687 transcription using a multilingual Whisper will default to language detection followed by transcription instead of translation to English.This might be a breaking change for your use case. If you want to instead always translate your audio to English, make sure to pass `language='en'`.\n",
      "The attention mask is not set and cannot be inferred from input because pad token is same as eos token. As a consequence, you may observe unexpected behavior. Please pass your input's `attention_mask` to obtain reliable results.\n"
     ]
    },
    {
     "name": "stdout",
     "output_type": "stream",
     "text": [
      "Transcription completed in 12.5s\n",
      "Transcript saved to /home/prasun/Desktop/ADHYAYAN_MITRA/components/transcripter_api/transcript.txt\n",
      " Alright, let me try to talk through what I remember from the rise of nationalism in Europe. I'll just say what comes to mind and see where I get stuck. So, a nation is basically a big group of people who share things like language, history and I think live under one government. I remember reading about Frederick Sorio. He was some French artist in 1848. He made these prints showing people from different countries marching together towards the Statue of Liberty.  I think those stood for the end of old monarchy or something, but I'm not totally sure. The French Revolution was a big deal for nationalism. It made people in France feel more united, and they set up a republic after getting rid of the king. Then Napoleon came, and he made a lot of changes. I know he made everyone equal before the law and got rid of privileges by birth, but I'm a bit fuzzy on what else he did. Maybe something about proper  rights and making travel or business easier. For Italy, I remember Giuseppe Medzini started young Italy and wanted all the small states to join together. There were some failed attempts but then Sardini appeed Montt took over, led by Cavalry. Garibaldi helped in the south and eventually Victor Emmanuel II became king over United Italy. I can't remember the exact year though, maybe 1861, Germany was also split into lots of  states. The Frank Fertisembley tried to unite them, but the king of Prussia said no. Later, Bismarck, who was like the chief minister, fought wars with Denmark, Austria and France. After winning those, Germany got united, and the Prussian king became Kaiser William. I think this happened in 1871, but I should double check. There were also these female symbols, Marianne for France and Germany. Marianne had a red cap, and  was on Coins and Stamps.  But I should probably read more about that. So, yeah, I remember the main events, but I definitely need to review Napoleon's reforms, the exact years of unification, and the whole nationalism versus imperialism thing. And why they used female allegories for nations? Still not clear on that.\n"
     ]
    }
   ],
   "source": [
    "trans_result = transcripter.transcribe_audio()\n",
    "print(trans_result)"
   ]
  },
  {
   "cell_type": "code",
   "execution_count": 5,
   "id": "a7f600b9",
   "metadata": {},
   "outputs": [
    {
     "name": "stdout",
     "output_type": "stream",
     "text": [
      "Document has 1686 tokens. Using raw document.\n",
      "## The Rise of Nationalism in Europe Class 10 Notes History Chapter 1\n",
      "\n",
      "The Rise of Nationalism in Europe Class 10 Notes Social Science History Chapter 1 SST Pdf free download is part of [Class 10 Social Science Notes](https:/www.learncbse.in/class-10-social-science-notes) for Quick Revision. Here we have given The Rise of Nationalism in Europe Class 10 History Chapter 1 Notes. According to new CBSE Exam Pattern, [MCQ Questions For Class 10 Social Science with Answers](https:/www.learncbse.in/mcq-questions-for-class-10-social-science-with-answers) Carries 20 Marks.\n",
      "\n",
      "| Board        | CBSE                              |\n",
      "|--------------|-----------------------------------|\n",
      "| Textbook     | NCERT                             |\n",
      "| Class        | Class 10                          |\n",
      "| Subject      | Social Science Notes              |\n",
      "| Chapter      | History Chapter 1                 |\n",
      "| Chapter Name | The Rise of Nationalism in Europe |\n",
      "| Category     | CBSE Revision Notes               |\n",
      "\n",
      "### \n",
      "\n",
      "### The Rise of Nationalism in Europe Class 10 Notes Social Science History Chapter 1\n",
      "\n",
      "**Nation (State):** A large number of people of mainly common descent, language, history, inhabiting a territory bounded by defined limits and forming a society under one government is called a nation.\n",
      "\n",
      "**Frederic Sorrieu and his visualization:** In 1848, Frederic Sorrieu, a French artist, prepared a series of four prints, visualizing his dream of a world made up of ‘democratic and social republics’, as he called them.\n",
      "\n",
      "- The first print shows the people of Europe and America marching in a long train, and offering homage to the Statue of Liberty as they pass by it. A female figure carries a torch of enlightenment in one hand and the Charter of the Rights of Man, in the other hand.\n",
      "- On the earth lies the shattered remains of the symbols of absolutist institutions.\n",
      "- In Sorrieu’s Utopian vision, the people of the world are grouped as distinct nations, identified through their flags and national costumes.\n",
      "- Leading the procession are USA and Switzerland, followed by France and Germany. Following Germany are Austria, Kingdom of the two Sicilies, Lombardy, Poland, England, Ireland, Hungary and Russia.\n",
      "- From the heavens above, Christ, saints and angels gaze at the scene. The artist symbolizes fraternity among the nations of the world.\n",
      "\n",
      "**The French Revolution and the idea of Nation:**\n",
      "\n",
      "- Growth of nationalism in France.\n",
      "- Introduction of various measures and practices created sense of collective identity among the people of France.\n",
      "- Change of monarchy and establishment of republic, creation of new assembly.\n",
      "- Rise of Napoleon and his reforms. Revolutionaries help other people of Europe to become nation.\n",
      "\n",
      "**The making of Nationalism in Europe:**\n",
      "\n",
      "- Germany, Italy and Switzerland were divided into Kingdom, duchies and cantones these divisions were having their autonomous rulers.\n",
      "- Uses of different languages.\n",
      "- Rise of middle class.\n",
      "- Industrialization in England, emergence of a working class and liberalism.\n",
      "- New conservation after 1815 and preservation of traditional institution.\n",
      "- After the defeat of Napoleon, the European government follows the spirit of conservatism. Conservative regimes were autocratic Revolutionaries at that time fought for liberty and freedom.\n",
      "Example, Mazzini’s young Italy and Young Europe.\n",
      "\n",
      "**Unification of Italy:** Giuseppe Mazzini had played an important role in the unification of Italy. He formed a secret society called ‘Young Italy’ in Marseilles, to spread his goals. He believed Italy could not continue to be a patchwork of small states and had to be forged into a single unified republic. During 1830’s, Mazzini sought to put together a coherent programme for a unitary Italian Republic. As uprisings in 1831 and 1848 had failed, the mantle now fell on Sardinia-Piedmont under its ruler Emmanuel II to unify Italy.\n",
      "\n",
      "Under Chief Minister Cavour, Sardinia-Piedmont succeeded in destroying the Austrian forces in 1859. Even Garibaldi joined the fray. In 1860, they marched into South Italy and the kingdom of the two Sicilies and with the help of the local peasants, drove out the Spanish rulers. In 1861, Victor Emmanuel II was proclaimed as King of United Italy.\n",
      "\n",
      "**Unification of Germany:** In the 18th century, Germany was divided into a number of states. Some of these states ceased to exist during the Napoleonic wars. At the end of the war, there were still 39 independent states in Germany. Prussia was most powerful, dominated by big landlords known as Junkers.\n",
      "\n",
      "- Nationalist feelings were widespread among middle class Germans who had tried to unite the different regions of the German federation into a nation-state governed by an elected Parliament.\n",
      "- In May 1848, a large number of political associations came together to vote for an all-German National Assembly. Their representatives met at Frankfurt and the Frankfurt Assembly proposed the unification of Germany as a constitutional monarchy under the King of Prussia as emperor\n",
      "- The King of Prussia rejected the offer and the liberal initiative of nation building was repressed by the combined forces of the monarchy, the military and the ‘Junkers’.\n",
      "- Then on, Prussia under its Chief Minister Otto Von Bismarck led the movement for unification of Germany. Bismarck carried out this process with the help of the Prussian army and the bureaucracy. He fought three wars over seven years with Denmark, Austria and France. Prussia was victorious in all these wars and the process of unification was completed as a result of Prussia’s victory over France.\n",
      "- Consequently, on 18th January 1871, an assembly comprising of princes of German States, representatives of the army, important Prussian ministers and Bismarck gathered in the Palace of Versailles and proclaimed the Prussian King, Kaiser William, the new German Emperor.\n",
      "\n",
      "**Visualizing the Nation:** Marianne and Germania were both female allegories used by artists in the 19th century to represent the nation.\n",
      "\n",
      "- In France she was named Marianne, a popular Christian name, which underlined the idea of a people’s nation. Her characteristics were drawn from those of liberty and republic—the red cap, the tri-colour, the cockade. Statues of Marianne were erected in public squares as a national symbol of unity. Marianne images were marked on coins and stamps.\n",
      "- Instead of just having the idea of father land, they wanted to implant a suitable image in the minds of the people. They invariably chose the mother figure symbolizing nations—Britannia, Germania and Marianne reminding us of our concept of Matribhumi.\n",
      "- Germania became the allegory of the German nation. Germania wears a crown of oak leaves as German oak stands for heroism. It was hung from the ceiling of St. Paul’s Church, where Frankfurt Parliament was convened, to symbolize the liberal revolution.\n",
      "\n",
      "**Napoleonic Code:**\n",
      "\n",
      "- The first major change was doing away with all privileges based on birth, establishing equality before law and securing the right to property.\n",
      "- Administrative divisions were simplified.\n",
      "- Feudal system was abolished and peasants were freed from serfdom and manorial dues (abuse of manorial lords).\n",
      "- In towns, guild restrictions were removed.\n",
      "- Transport and communication systems were improved.\n",
      "- Peasants, artisans, workers and new businessmen enjoyed a new found freedom.\n",
      "- Businessmen and small-scale producers of goods in particular began to realize that uniform laws, standardized weights and measures and a common national currency would facilitate the movement and exchange of goods and capital from one region to another.\n",
      "\n",
      "**Nationalism and Imperialism:** Last quarter of the 19th century nationalism became a narrow creed with limited ends, Intolerance Balkan became the sense of big power rivalry Nationalism, aligned with imperialism cause of World War I. Idea of a Nationalism was now same everywhere . But concept of National State was accepted universally.\n"
     ]
    }
   ],
   "source": [
    "doc_result = DocumentProcessor().process_document()\n",
    "print(doc_result)"
   ]
  },
  {
   "cell_type": "markdown",
   "id": "a9eac463",
   "metadata": {},
   "source": [
    "# Building the Gap_Analysis Pipeline"
   ]
  },
  {
   "cell_type": "code",
   "execution_count": 17,
   "id": "aa0e3f43",
   "metadata": {},
   "outputs": [],
   "source": [
    "from components.select_llm import llm\n",
    "llm = llm.set_llm()"
   ]
  },
  {
   "cell_type": "code",
   "execution_count": 18,
   "id": "3ae1eb5f",
   "metadata": {},
   "outputs": [
    {
     "name": "stdout",
     "output_type": "stream",
     "text": [
      "google\n"
     ]
    }
   ],
   "source": [
    "print(\"google\" if \"models/gemma-3-27b-it\" in llm.model else \"ollama\")"
   ]
  },
  {
   "cell_type": "code",
   "execution_count": 19,
   "id": "c5eb1a17",
   "metadata": {},
   "outputs": [],
   "source": [
    "analysis = analyzer.learning_gap(\n",
    "    llm = llm,\n",
    "    doc_result=doc_result,\n",
    "    trans_result=trans_result\n",
    ")"
   ]
  },
  {
   "cell_type": "code",
   "execution_count": 20,
   "id": "18ba6df7",
   "metadata": {},
   "outputs": [
    {
     "data": {
      "text/markdown": [
       "## Learning Gap Analysis: The Rise of Nationalism in Europe - Student Response\n",
       "\n",
       "Here's a detailed analysis of the student's understanding of \"The Rise of Nationalism in Europe,\" based on their provided response and the course learning material.\n",
       "\n",
       "**1. DEMONSTRATED KNOWLEDGE:**\n",
       "\n",
       "The student demonstrates a good grasp of the *broad strokes* of the topic. Specifically:\n",
       "\n",
       "* **Definition of Nation:** They accurately define a nation as a group sharing common descent, language, history, and government.\n",
       "* **Sorrieu’s Vision:** They correctly recall Sorrieu’s prints and their symbolic representation of a unified Europe marching towards liberty. They understand the prints represented the end of absolutist institutions.\n",
       "* **French Revolution & Nationalism:** They correctly identify the French Revolution as a catalyst for nationalism and the shift from monarchy to republic.\n",
       "* **Italian & German Unification – Key Figures & Events:** They accurately identify key figures like Mazzini, Cavour, Garibaldi, and Bismarck, and the general sequence of events in both Italian and German unification. They correctly identify Sardinia-Piedmont’s role in Italy and Prussia’s in Germany.\n",
       "* **Female Allegories:** They remember Marianne and Germania as symbols of nationalism and recall some details about Marianne (red cap, presence on coins/stamps).\n",
       "\n",
       "**2. KNOWLEDGE GAPS:**\n",
       "\n",
       "Several important concepts are missing or inadequately addressed:\n",
       "\n",
       "* **Napoleonic Code – Specific Reforms:** While they mention Napoleon made everyone equal before the law, they lack detail regarding the full scope of the Napoleonic Code (abolition of feudalism, guild restrictions, standardized weights & measures, improved transport).\n",
       "* **Conservative Reaction Post-Napoleon:** The student mentions conservatism after Napoleon’s defeat but doesn’t elaborate on *what* conservative regimes did to suppress revolutionary ideas (restoration of old monarchies, censorship, etc.). The role of the Congress of Vienna is completely absent.\n",
       "* **Rise of the Middle Class & Liberalism:** The material highlights the role of the middle class and liberalism as driving forces of nationalism. This is not mentioned by the student.\n",
       "* **Industrialization’s Impact:** The connection between industrialization, the emergence of a working class, and the spread of nationalist ideas is missing.\n",
       "* **Nationalism & Imperialism – Detailed Connection:** The student acknowledges this as an area needing review, but the material emphasizes how nationalism, in its later stages, became aggressive and fueled imperialistic competition, ultimately contributing to WWI. This nuanced shift isn’t understood.\n",
       "* **Detailed Understanding of Allegories:** The student knows *that* Marianne and Germania were used, but doesn’t fully grasp *why* the mother figure was chosen as a symbol of the nation (Matribhumi concept).\n",
       "* **The Frankfurt Assembly’s Failure – Reasons:** The student states the King of Prussia rejected the offer, but doesn’t explain *why* (fear of losing power, opposition from Junkers and military).\n",
       "\n",
       "\n",
       "\n",
       "**3. MISCONCEPTIONS:**\n",
       "\n",
       "* **Napoleon’s Reforms – Limited View:** The student’s understanding of Napoleon’s reforms is limited to equality before the law. This suggests they see it as a purely legal change, rather than a systemic overhaul of French society. *Correct Concept:* Napoleon’s reforms were far-reaching, impacting administration, property rights, economic systems, and social structures.\n",
       "* **Cavour’s Role – Misspelling & Limited Detail:** The student spells Cavour as “appeed Montt” and doesn’t fully articulate his strategic role in utilizing diplomacy and war to achieve unification. *Correct Concept:* Cavour was a master diplomat who skillfully maneuvered Sardinia-Piedmont into a position to lead the unification process.\n",
       "\n",
       "**4. DEPTH OF UNDERSTANDING:**\n",
       "\n",
       "The student demonstrates primarily *surface-level* knowledge. They can recall names, dates, and general events, but struggle with the underlying causes, consequences, and complexities of the historical processes. Their understanding is largely descriptive rather than analytical. For example, they can *state* that Bismarck fought wars, but don’t explain *why* he chose those specific conflicts or how they contributed to unification. The connection between the different elements (e.g., economic changes, social classes, political ideologies) is weak.\n",
       "\n",
       "**5. LEARNING PRIORITIES:**\n",
       "\n",
       "1. **Napoleonic Code & Conservative Reaction (High Priority):** Understanding the full impact of Napoleon’s reforms and the subsequent conservative backlash is crucial for understanding the context in which nationalism developed.\n",
       "2. **Rise of Middle Class, Liberalism & Industrialization (High Priority):** These factors were fundamental drivers of nationalist sentiment and need to be thoroughly understood.\n",
       "3. **Nationalism & Imperialism (Medium Priority):** Grasping the shift in nationalist ideology from a force for unification to a justification for imperial expansion is essential for understanding 19th and 20th-century history.\n",
       "4. **Frankfurt Assembly’s Failure & Allegory Depth (Medium Priority):** Understanding the reasons behind the Frankfurt Assembly’s failure and the symbolism of the female allegories will add nuance to their understanding.\n",
       "5. **Precise Dates & Spelling (Low Priority):** While accuracy is important, focusing on conceptual understanding is more critical at this stage.\n",
       "\n",
       "\n",
       "\n",
       "**6. TARGETED RECOMMENDATIONS:**\n",
       "\n",
       "* **Napoleonic Code & Conservative Reaction:**\n",
       "    * **Activity:** Create a table comparing and contrasting the key features of the Napoleonic Code with the policies of the conservative regimes that followed.\n",
       "    * **Resource:** Re-read the section on the Napoleonic Code in the textbook and research the Congress of Vienna.\n",
       "* **Rise of Middle Class, Liberalism & Industrialization:**\n",
       "    * **Activity:** Write a short essay explaining how the rise of the middle class, the spread of liberal ideas, and industrialization contributed to the growth of nationalism in Europe.\n",
       "    * **Resource:** Consult additional resources on the Industrial Revolution and the rise of liberalism in 19th-century Europe.\n",
       "* **Nationalism & Imperialism:**\n",
       "    * **Activity:** Research examples of how nationalism was used to justify imperialistic expansion (e.g., French colonialism in Africa, British imperialism in India).\n",
       "    * **Resource:** Explore secondary sources that discuss the relationship between nationalism and imperialism.\n",
       "* **Frankfurt Assembly’s Failure & Allegory Depth:**\n",
       "    * **Activity:** Research the social groups (Junkers, military) that opposed the Frankfurt Assembly and explain their motivations.  Write a paragraph explaining why a *mother* figure was chosen to represent the nation.\n",
       "    * **Resource:** Consult historical analyses of the Frankfurt Assembly and explore the concept of national allegory.\n",
       "* **Dates & Spelling:**\n",
       "    * **Activity:** Create flashcards with key dates and names to aid memorization.\n",
       "\n",
       "\n",
       "\n",
       "This detailed analysis should provide the instructor with valuable insights into the student’s understanding and guide targeted interventions to address the identified learning gaps. It also provides the student with a clear roadmap for focused review and improvement."
      ],
      "text/plain": [
       "<IPython.core.display.Markdown object>"
      ]
     },
     "metadata": {},
     "output_type": "display_data"
    }
   ],
   "source": [
    "from IPython.display import display, Markdown\n",
    "\n",
    "display(Markdown(analysis))"
   ]
  },
  {
   "cell_type": "markdown",
   "id": "3dd32874",
   "metadata": {},
   "source": [
    "# Generating question from the above report "
   ]
  },
  {
   "cell_type": "code",
   "execution_count": 21,
   "id": "a654e151",
   "metadata": {},
   "outputs": [],
   "source": [
    "from components.question_generator import questions\n",
    "\n",
    "question = questions.question_gen(\n",
    "    llm=llm,\n",
    "    doc_result=doc_result,\n",
    "    trans_result=trans_result,\n",
    "    analysis=analysis,\n",
    ")"
   ]
  },
  {
   "cell_type": "code",
   "execution_count": 24,
   "id": "0ca04a18",
   "metadata": {},
   "outputs": [
    {
     "name": "stdout",
     "output_type": "stream",
     "text": [
      "Questions\n",
      "\n",
      "1. You mentioned Napoleon made everyone equal before the law. Can you elaborate on *how* he achieved this equality, and what other significant changes did the Napoleonic Code introduce that impacted French society beyond just legal rights?\n",
      "2. After Napoleon's defeat, you noted a conservative reaction. What specific steps did conservative governments take to *undo* the changes brought about by the French Revolution and Napoleon, and how successful were they in suppressing nationalist ideas?\n",
      "3. The rise of the middle class isn't mentioned in your response. How do you think the growth of a middle class in Europe during the 19th century contributed to the development of nationalist sentiment? Consider their economic interests and social values.\n",
      "4. You correctly identified the role of Prussia in German unification. However, the Frankfurt Assembly attempted unification *before* Bismarck. Why did this attempt ultimately fail, and what obstacles did they face that Bismarck was able to overcome?\n",
      "5. You mentioned Marianne and Germania as symbols of nationalism. Why do you think artists chose to represent nations as *female* figures? What qualities or ideas were they trying to convey through this symbolism, and how does this relate to the concept of 'Matribhumi'?\n",
      "6. You touched on the connection between nationalism and imperialism, noting you need to review it. Can you explain, in your own words, how nationalism – initially a force for uniting people – could eventually contribute to aggressive imperialistic policies and even conflict?\n",
      "7. Industrialization played a significant role in the rise of nationalism. How did the growth of factories, a working class, and new economic systems influence people’s sense of shared identity and their desire for a unified nation-state?\n",
      "8. Both Italy and Germany were unified through a combination of diplomacy and warfare. Compare and contrast the *strategies* used by Cavour and Bismarck to achieve unification in their respective countries. What were their key strengths and weaknesses?\n",
      "9. Sorrieu’s prints depicted a vision of a world of ‘democratic and social republics.’ How did the actual unification processes in Italy and Germany align with, or deviate from, this idealistic vision? Were these new nations truly ‘democratic’ from the start?\n",
      "\n"
     ]
    }
   ],
   "source": [
    "print(\"Questions\\n\")\n",
    "for i,que in enumerate(question):\n",
    "    print(f\"{i+1}. {que}\")\n",
    "print()    "
   ]
  },
  {
   "cell_type": "code",
   "execution_count": null,
   "id": "6a81512a",
   "metadata": {},
   "outputs": [
    {
     "ename": "NameError",
     "evalue": "name 'question' is not defined",
     "output_type": "error",
     "traceback": [
      "\u001b[31m---------------------------------------------------------------------------\u001b[39m",
      "\u001b[31mNameError\u001b[39m                                 Traceback (most recent call last)",
      "\u001b[36mCell\u001b[39m\u001b[36m \u001b[39m\u001b[32mIn[1]\u001b[39m\u001b[32m, line 3\u001b[39m\n\u001b[32m      1\u001b[39m answers = []\n\u001b[32m----> \u001b[39m\u001b[32m3\u001b[39m \u001b[38;5;28;01mfor\u001b[39;00m i \u001b[38;5;129;01min\u001b[39;00m \u001b[38;5;28mrange\u001b[39m(\u001b[38;5;28mlen\u001b[39m(\u001b[43mquestion\u001b[49m)):\n\u001b[32m      4\u001b[39m     ans = \u001b[38;5;28minput\u001b[39m(\u001b[33mf\u001b[39m\u001b[33m\"\"\"\u001b[39m\u001b[33mEnter the answer to:\u001b[39m\u001b[38;5;130;01m\\n\u001b[39;00m\u001b[33m \u001b[39m\u001b[38;5;132;01m{\u001b[39;00mquestion[i]\u001b[38;5;132;01m}\u001b[39;00m\u001b[33m\"\"\"\u001b[39m)\n\u001b[32m      5\u001b[39m     answers.append(ans)\n",
      "\u001b[31mNameError\u001b[39m: name 'question' is not defined"
     ]
    }
   ],
   "source": [
    "answers = []\n",
    "\n",
    "for i in range(len(question)):\n",
    "    ans = input(f\"\"\"Enter the answer to:\\n {question[i]}\"\"\")\n",
    "    answers.append(ans)\n",
    "\n",
    "# Create a list of question answer pairs {\"question\", \"answer\"} from 2 list that contains question and answer\n",
    "qa_pairs = [{\"question\":q, \"answer\":a} for q,a in zip(question, answers)]"
   ]
  },
  {
   "cell_type": "code",
   "execution_count": null,
   "id": "2f7ab405",
   "metadata": {},
   "outputs": [],
   "source": [
    "print(qa_pairs)"
   ]
  },
  {
   "cell_type": "code",
   "execution_count": null,
   "id": "24a25927",
   "metadata": {},
   "outputs": [],
   "source": [
    "# learner will provide answer to every questions in the list where the model will have the knowledge of the Material, transcript and analysis to access the student's answer.\n",
    "from langchain.prompts import PromptTemplate\n",
    "\n",
    "answer_checker_prompt = PromptTemplate.from_template(\n",
    "    \"\"\"\n",
    "    You are a Teaching Assistant responsible for evaluating a student's answers to questions based on course material. Your goal is to provide detailed feedback on the student's understanding and identify any gaps in their knowledge.\n",
    "\n",
    "    LEARNING MATERIAL:\n",
    "    {doc1}\n",
    "\n",
    "    STUDENT'S RESPONSE/KNOWLEDGE (from transcript):\n",
    "    {doc2}\n",
    "\n",
    "    LEARNING GAP ANALYSIS:\n",
    "    {doc3}\n",
    "\n",
    "    Question:\n",
    "    {question}\n",
    "\n",
    "    STUDENT'S ANSWER:\n",
    "    {doc4}\n",
    "\n",
    "    Instructions:\n",
    "    - Assess the student's answer against the learning material, transcript, and gap analysis.\n",
    "    - Provide feedback on the accuracy and completeness of the answer.\n",
    "    - Identify any remaining gaps or misconceptions.\n",
    "    - Suggest improvements or additional resources if necessary.\n",
    "    \"\"\"\n",
    ")\n",
    "\n",
    "chain = answer_checker_prompt | llm\n",
    "\n",
    "# our approach will not use the for loop. Needs to check all the answers at a time insead of simultanious llm calls(heavy system load)\n",
    "# for question in questions_list:\n",
    "#     print(f\"Question: {question}\")\n",
    "#     answer = input(\"Your answer: \")\n",
    "#     feedback = chain.invoke({\"doc1\": doc_result, \"doc2\":trans_result, \"doc3\": analysis,\"question\":question, \"doc4\": answer})\n",
    "#     print(f\"Feedback: {feedback}\")"
   ]
  }
 ],
 "metadata": {
  "kernelspec": {
   "display_name": ".venv",
   "language": "python",
   "name": "python3"
  },
  "language_info": {
   "codemirror_mode": {
    "name": "ipython",
    "version": 3
   },
   "file_extension": ".py",
   "mimetype": "text/x-python",
   "name": "python",
   "nbconvert_exporter": "python",
   "pygments_lexer": "ipython3",
   "version": "3.12.3"
  }
 },
 "nbformat": 4,
 "nbformat_minor": 5
}
