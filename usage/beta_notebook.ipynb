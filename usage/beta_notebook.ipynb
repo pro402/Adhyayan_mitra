{
 "cells": [
  {
   "cell_type": "markdown",
   "id": "d0d01af7",
   "metadata": {},
   "source": [
    "## Testing"
   ]
  },
  {
   "cell_type": "code",
   "execution_count": 2,
   "id": "a6c2c657",
   "metadata": {},
   "outputs": [],
   "source": [
    "import sys\n",
    "import os\n",
    "\n",
    "# Add the parent directory to the path so Python can find the components\n",
    "sys.path.append(os.path.abspath('/home/prasun/Desktop/ADHYAYAN_MITRA'))"
   ]
  },
  {
   "cell_type": "code",
   "execution_count": null,
   "id": "5fef5532",
   "metadata": {},
   "outputs": [],
   "source": [
    "# from components.audio_recorder.recorder import AudioRecorder\n",
    "# from components.sTT_model.whisper_tiny import AudioTranscriptor\n",
    "# import librosa\n",
    "\n",
    "# # recording\n",
    "# recorder = AudioRecorder()\n",
    "\n",
    "# recorder.start_recording()\n",
    "# print(\"Recording started. Press Enter to stop.\")\n",
    "# input()  # Wait for user input to stop recording\n",
    "# file_path = \"./recording.mp3\"\n",
    "# recorder.stop_recording(filename=file_path)\n",
    "# print(\"Recording stopped.\")\n",
    "\n",
    "# # check the length of the audio\n",
    "# duration = librosa.get_duration(path=file_path)\n",
    "# print(f\"Audio duration: {duration} seconds\")\n",
    "\n",
    "# if duration < 30:\n",
    "#     # transcription\n",
    "#     transcripter = AudioTranscriptor()\n",
    "\n",
    "#     transcripter.whisper_transcribe(file_path)\n",
    "# else:\n",
    "#     print(\"The audio is too short to transcribe.\")\n",
    "#     # Optionally, you can delete the file if it's not needed\n",
    "#     os.remove(file_path)"
   ]
  },
  {
   "cell_type": "code",
   "execution_count": 3,
   "id": "c17ea98b",
   "metadata": {},
   "outputs": [
    {
     "name": "stdout",
     "output_type": "stream",
     "text": [
      "Processing: /home/prasun/Desktop/ADHYAYAN_MITRA/components/transcripter_api/recording.mp3\n"
     ]
    },
    {
     "name": "stderr",
     "output_type": "stream",
     "text": [
      "Due to a bug fix in https://github.com/huggingface/transformers/pull/28687 transcription using a multilingual Whisper will default to language detection followed by transcription instead of translation to English.This might be a breaking change for your use case. If you want to instead always translate your audio to English, make sure to pass `language='en'`.\n",
      "The attention mask is not set and cannot be inferred from input because pad token is same as eos token. As a consequence, you may observe unexpected behavior. Please pass your input's `attention_mask` to obtain reliable results.\n"
     ]
    },
    {
     "name": "stdout",
     "output_type": "stream",
     "text": [
      "Transcription completed in 22.0s\n",
      "Transcript saved to /home/prasun/Desktop/ADHYAYAN_MITRA/components/transcripter_api/transcript.txt\n",
      " I'm going to do a little bit of a little bit of a little bit of a little bit of a little bit of a little bit of a little bit of a little bit of a little bit of a little bit of a little bit of a little bit of a little bit of a little bit of a little bit of a little bit of a little bit of a little bit of a little bit of a little bit of a little bit of a little bit of a little bit of a little bit of a little bit of a little bit of a little bit of a little bit of a little bit of a little bit of a little bit of a little bit of a little bit of a little bit of a little bit of a little bit of a little bit of a little bit of a little bit of a little bit of a little bit of a little bit of a little bit of a little bit of a little bit of a little bit of a little bit of a little bit of a little bit of a little bit of a little bit of a little bit of a little bit of a little bit of a little bit of a little bit of a little bit of a little bit of a little bit of a little bit of a little bit of a little bit of a little bit of a little bit of a little bit of a little bit of a little bit of a little bit of a little bit of a little bit of a little bit of a little bit of a little bit of a little bit of a little bit of a little bit of a little bit of a little bit of a little bit of a little bit of a little bit of a little bit of a little bit of a little bit of a little bit of a little bit of a little bit of a little bit of a little bit of a little bit of a little bit of a little bit of a little bit of a little bit of a little bit of a little bit of a little bit of a little bit of a little bit of a little bit of a little bit of a little bit of a little bit of a little bit of a little bit of a little bit of a little bit of a little bit of a little bit of a little bit  1.5 cm  아...\n"
     ]
    }
   ],
   "source": [
    "from components.transcripter_api import whisper_tiny_transcripter \n",
    "\n",
    "trans_result = whisper_tiny_transcripter.transcribe_audio()\n",
    "print(trans_result)"
   ]
  },
  {
   "cell_type": "code",
   "execution_count": 3,
   "id": "5fd85209",
   "metadata": {},
   "outputs": [
    {
     "data": {
      "text/plain": [
       "\" I'm going to do a little bit of a little bit of a little bit of a little bit of a little bit of a little bit of a little bit of a little bit of a little bit of a little bit of a little bit of a little bit of a little bit of a little bit of a little bit of a little bit of a little bit of a little bit of a little bit of a little bit of a little bit of a little bit of a little bit of a little bit of a little bit of a little bit of a little bit of a little bit of a little bit of a little bit of a little bit of a little bit of a little bit of a little bit of a little bit of a little bit of a little bit of a little bit of a little bit of a little bit of a little bit of a little bit of a little bit of a little bit of a little bit of a little bit of a little bit of a little bit of a little bit of a little bit of a little bit of a little bit of a little bit of a little bit of a little bit of a little bit of a little bit of a little bit of a little bit of a little bit of a little bit of a little bit of a little bit of a little bit of a little bit of a little bit of a little bit of a little bit of a little bit of a little bit of a little bit of a little bit of a little bit of a little bit of a little bit of a little bit of a little bit of a little bit of a little bit of a little bit of a little bit of a little bit of a little bit of a little bit of a little bit of a little bit of a little bit of a little bit of a little bit of a little bit of a little bit of a little bit of a little bit of a little bit of a little bit of a little bit of a little bit of a little bit of a little bit of a little bit of a little bit of a little bit of a little bit of a little bit of a little bit of a little bit of a little bit of a little bit of a little bit of a little bit  1.5 cm  아...\""
      ]
     },
     "execution_count": 3,
     "metadata": {},
     "output_type": "execute_result"
    }
   ],
   "source": [
    "trans_result"
   ]
  },
  {
   "cell_type": "code",
   "execution_count": null,
   "id": "fed1cb1a",
   "metadata": {},
   "outputs": [
    {
     "name": "stdout",
     "output_type": "stream",
     "text": [
      "model='models/gemini-2.0-flash' google_api_key=SecretStr('**********') temperature=0.0 max_output_tokens=8192 client=<google.ai.generativelanguage_v1beta.services.generative_service.client.GenerativeServiceClient object at 0x7a913e87b650> default_metadata=()\n",
      "gemini-2.0-flash\n",
      "google_genai\n"
     ]
    }
   ],
   "source": [
    "from components.select_llm import google_genai\n",
    "llm, model, provider = google_genai.set_llm(\n",
    "    model = \"gemini-2.0-flash\",\n",
    "    \n",
    ")\n",
    "\n",
    "print(llm)\n",
    "print(model)\n",
    "print(provider)"
   ]
  },
  {
   "cell_type": "code",
   "execution_count": 5,
   "id": "a7f600b9",
   "metadata": {},
   "outputs": [
    {
     "name": "stdout",
     "output_type": "stream",
     "text": [
      "Document has 1686 tokens. Using raw document.\n",
      "## The Rise of Nationalism in Europe Class 10 Notes History Chapter 1\n",
      "\n",
      "The Rise of Nationalism in Europe Class 10 Notes Social Science History Chapter 1 SST Pdf free download is part of [Class 10 Social Science Notes](https:/www.learncbse.in/class-10-social-science-notes) for Quick Revision. Here we have given The Rise of Nationalism in Europe Class 10 History Chapter 1 Notes. According to new CBSE Exam Pattern, [MCQ Questions For Class 10 Social Science with Answers](https:/www.learncbse.in/mcq-questions-for-class-10-social-science-with-answers) Carries 20 Marks.\n",
      "\n",
      "| Board        | CBSE                              |\n",
      "|--------------|-----------------------------------|\n",
      "| Textbook     | NCERT                             |\n",
      "| Class        | Class 10                          |\n",
      "| Subject      | Social Science Notes              |\n",
      "| Chapter      | History Chapter 1                 |\n",
      "| Chapter Name | The Rise of Nationalism in Europe |\n",
      "| Category     | CBSE Revision Notes               |\n",
      "\n",
      "### \n",
      "\n",
      "### The Rise of Nationalism in Europe Class 10 Notes Social Science History Chapter 1\n",
      "\n",
      "**Nation (State):** A large number of people of mainly common descent, language, history, inhabiting a territory bounded by defined limits and forming a society under one government is called a nation.\n",
      "\n",
      "**Frederic Sorrieu and his visualization:** In 1848, Frederic Sorrieu, a French artist, prepared a series of four prints, visualizing his dream of a world made up of ‘democratic and social republics’, as he called them.\n",
      "\n",
      "- The first print shows the people of Europe and America marching in a long train, and offering homage to the Statue of Liberty as they pass by it. A female figure carries a torch of enlightenment in one hand and the Charter of the Rights of Man, in the other hand.\n",
      "- On the earth lies the shattered remains of the symbols of absolutist institutions.\n",
      "- In Sorrieu’s Utopian vision, the people of the world are grouped as distinct nations, identified through their flags and national costumes.\n",
      "- Leading the procession are USA and Switzerland, followed by France and Germany. Following Germany are Austria, Kingdom of the two Sicilies, Lombardy, Poland, England, Ireland, Hungary and Russia.\n",
      "- From the heavens above, Christ, saints and angels gaze at the scene. The artist symbolizes fraternity among the nations of the world.\n",
      "\n",
      "**The French Revolution and the idea of Nation:**\n",
      "\n",
      "- Growth of nationalism in France.\n",
      "- Introduction of various measures and practices created sense of collective identity among the people of France.\n",
      "- Change of monarchy and establishment of republic, creation of new assembly.\n",
      "- Rise of Napoleon and his reforms. Revolutionaries help other people of Europe to become nation.\n",
      "\n",
      "**The making of Nationalism in Europe:**\n",
      "\n",
      "- Germany, Italy and Switzerland were divided into Kingdom, duchies and cantones these divisions were having their autonomous rulers.\n",
      "- Uses of different languages.\n",
      "- Rise of middle class.\n",
      "- Industrialization in England, emergence of a working class and liberalism.\n",
      "- New conservation after 1815 and preservation of traditional institution.\n",
      "- After the defeat of Napoleon, the European government follows the spirit of conservatism. Conservative regimes were autocratic Revolutionaries at that time fought for liberty and freedom.\n",
      "Example, Mazzini’s young Italy and Young Europe.\n",
      "\n",
      "**Unification of Italy:** Giuseppe Mazzini had played an important role in the unification of Italy. He formed a secret society called ‘Young Italy’ in Marseilles, to spread his goals. He believed Italy could not continue to be a patchwork of small states and had to be forged into a single unified republic. During 1830’s, Mazzini sought to put together a coherent programme for a unitary Italian Republic. As uprisings in 1831 and 1848 had failed, the mantle now fell on Sardinia-Piedmont under its ruler Emmanuel II to unify Italy.\n",
      "\n",
      "Under Chief Minister Cavour, Sardinia-Piedmont succeeded in destroying the Austrian forces in 1859. Even Garibaldi joined the fray. In 1860, they marched into South Italy and the kingdom of the two Sicilies and with the help of the local peasants, drove out the Spanish rulers. In 1861, Victor Emmanuel II was proclaimed as King of United Italy.\n",
      "\n",
      "**Unification of Germany:** In the 18th century, Germany was divided into a number of states. Some of these states ceased to exist during the Napoleonic wars. At the end of the war, there were still 39 independent states in Germany. Prussia was most powerful, dominated by big landlords known as Junkers.\n",
      "\n",
      "- Nationalist feelings were widespread among middle class Germans who had tried to unite the different regions of the German federation into a nation-state governed by an elected Parliament.\n",
      "- In May 1848, a large number of political associations came together to vote for an all-German National Assembly. Their representatives met at Frankfurt and the Frankfurt Assembly proposed the unification of Germany as a constitutional monarchy under the King of Prussia as emperor\n",
      "- The King of Prussia rejected the offer and the liberal initiative of nation building was repressed by the combined forces of the monarchy, the military and the ‘Junkers’.\n",
      "- Then on, Prussia under its Chief Minister Otto Von Bismarck led the movement for unification of Germany. Bismarck carried out this process with the help of the Prussian army and the bureaucracy. He fought three wars over seven years with Denmark, Austria and France. Prussia was victorious in all these wars and the process of unification was completed as a result of Prussia’s victory over France.\n",
      "- Consequently, on 18th January 1871, an assembly comprising of princes of German States, representatives of the army, important Prussian ministers and Bismarck gathered in the Palace of Versailles and proclaimed the Prussian King, Kaiser William, the new German Emperor.\n",
      "\n",
      "**Visualizing the Nation:** Marianne and Germania were both female allegories used by artists in the 19th century to represent the nation.\n",
      "\n",
      "- In France she was named Marianne, a popular Christian name, which underlined the idea of a people’s nation. Her characteristics were drawn from those of liberty and republic—the red cap, the tri-colour, the cockade. Statues of Marianne were erected in public squares as a national symbol of unity. Marianne images were marked on coins and stamps.\n",
      "- Instead of just having the idea of father land, they wanted to implant a suitable image in the minds of the people. They invariably chose the mother figure symbolizing nations—Britannia, Germania and Marianne reminding us of our concept of Matribhumi.\n",
      "- Germania became the allegory of the German nation. Germania wears a crown of oak leaves as German oak stands for heroism. It was hung from the ceiling of St. Paul’s Church, where Frankfurt Parliament was convened, to symbolize the liberal revolution.\n",
      "\n",
      "**Napoleonic Code:**\n",
      "\n",
      "- The first major change was doing away with all privileges based on birth, establishing equality before law and securing the right to property.\n",
      "- Administrative divisions were simplified.\n",
      "- Feudal system was abolished and peasants were freed from serfdom and manorial dues (abuse of manorial lords).\n",
      "- In towns, guild restrictions were removed.\n",
      "- Transport and communication systems were improved.\n",
      "- Peasants, artisans, workers and new businessmen enjoyed a new found freedom.\n",
      "- Businessmen and small-scale producers of goods in particular began to realize that uniform laws, standardized weights and measures and a common national currency would facilitate the movement and exchange of goods and capital from one region to another.\n",
      "\n",
      "**Nationalism and Imperialism:** Last quarter of the 19th century nationalism became a narrow creed with limited ends, Intolerance Balkan became the sense of big power rivalry Nationalism, aligned with imperialism cause of World War I. Idea of a Nationalism was now same everywhere . But concept of National State was accepted universally.\n"
     ]
    }
   ],
   "source": [
    "from components.doc_pipeline.pipeline import DocumentProcessor\n",
    "\n",
    "doc_result = DocumentProcessor(\n",
    "    llm=llm,\n",
    "    provider=provider,\n",
    ").process_document()\n",
    "\n",
    "print(doc_result)"
   ]
  },
  {
   "cell_type": "markdown",
   "id": "a9eac463",
   "metadata": {},
   "source": [
    "# Building the Gap_Analysis Pipeline"
   ]
  },
  {
   "cell_type": "code",
   "execution_count": 6,
   "id": "c5eb1a17",
   "metadata": {},
   "outputs": [],
   "source": [
    "from components.gap_analyzer import analyzer\n",
    "\n",
    "analysis = analyzer.learning_gap(\n",
    "    llm = llm,\n",
    "    provider = provider,\n",
    "    doc_result=doc_result,\n",
    "    trans_result=trans_result\n",
    ")"
   ]
  },
  {
   "cell_type": "code",
   "execution_count": 7,
   "id": "18ba6df7",
   "metadata": {},
   "outputs": [
    {
     "data": {
      "text/markdown": [
       "Okay, here's a detailed learning gap analysis based on the provided material and the student's response:\n",
       "\n",
       "**1. DEMONSTRATED KNOWLEDGE:**\n",
       "\n",
       "*   Based on the student's response, it's impossible to determine any demonstrated knowledge of the subject matter. The response consists of filler words and an unrelated measurement in Korean. There is no indication that the student has engaged with the content.\n",
       "\n",
       "**2. KNOWLEDGE GAPS:**\n",
       "\n",
       "Given the lack of substantive response, the student has significant knowledge gaps across the entire topic. Here's a breakdown of key areas where knowledge is missing:\n",
       "\n",
       "*   **Definition of Nationalism and Nation-State:** The student doesn't demonstrate an understanding of what nationalism is, or the concept of a nation-state. This is fundamental to the entire chapter.\n",
       "*   **Frederic Sorrieu's Vision:** The student shows no awareness of Sorrieu's prints and their significance in visualizing a world of democratic and social republics.\n",
       "*   **The French Revolution's Impact:** The student doesn't mention the French Revolution's role in spreading nationalist ideas and creating a sense of collective identity.\n",
       "*   **Unification of Italy:** The student doesn't mention key figures like Mazzini, Cavour, or Garibaldi, or the process by which Italy was unified.\n",
       "*   **Unification of Germany:** The student doesn't mention Bismarck's role, the wars fought, or the ultimate proclamation of Kaiser William as the German Emperor.\n",
       "*   **Visualizing the Nation (Marianne and Germania):** The student is unaware of the allegorical figures used to represent the nations of France and Germany.\n",
       "*   **Napoleonic Code:** The student doesn't demonstrate any knowledge of the reforms implemented by Napoleon and their impact.\n",
       "*   **Nationalism and Imperialism:** The student is unaware of the shift in nationalism towards a more narrow and intolerant ideology in the late 19th century and its connection to imperialism and World War I.\n",
       "\n",
       "**3. MISCONCEPTIONS:**\n",
       "\n",
       "*   Without any actual engagement with the material, it's impossible to identify specific misconceptions. However, the *absence* of any correct information suggests a potential for numerous misunderstandings if the student were to attempt to explain the concepts without studying.\n",
       "\n",
       "**4. DEPTH OF UNDERSTANDING:**\n",
       "\n",
       "*   The student demonstrates *no* understanding of the material at any level. There is no evidence of even surface-level knowledge.\n",
       "\n",
       "**5. LEARNING PRIORITIES:**\n",
       "\n",
       "Given the complete lack of engagement, the learning priorities are as follows:\n",
       "\n",
       "1.  **Understanding the Core Concept of Nationalism:** This is the foundation. The student needs to grasp what nationalism is, its origins, and its different forms.\n",
       "2.  **The French Revolution and its Influence:** Understanding how the French Revolution sparked nationalist sentiments and reforms across Europe is crucial.\n",
       "3.  **The Unification Processes of Italy and Germany:** These are key case studies. The student needs to understand the key figures, events, and political maneuvering involved.\n",
       "4.  **Visual Representations of Nationalism:** Understanding the use of allegories like Marianne and Germania helps to grasp the cultural and symbolic dimensions of nationalism.\n",
       "5.  **The Napoleonic Code and its Impact:** Understanding the reforms and their effects on different social groups is important.\n",
       "6.  **The Relationship Between Nationalism and Imperialism:** Understanding how nationalism evolved and contributed to imperialism and ultimately World War I is important for a complete understanding.\n",
       "\n",
       "**6. TARGETED RECOMMENDATIONS:**\n",
       "\n",
       "To address these gaps, I recommend the following:\n",
       "\n",
       "*   **Start with the Basics:**\n",
       "    *   **Activity:** Read the chapter carefully, focusing on defining key terms like \"nation,\" \"state,\" and \"nationalism.\" Create a glossary of these terms.\n",
       "    *   **Resource:** Use the NCERT textbook and supplement with reliable online resources like Khan Academy or BBC Bitesize History.\n",
       "*   **Focus on Key Events and Figures:**\n",
       "    *   **Activity:** Create timelines for the unification of Italy and Germany, highlighting key events and figures.\n",
       "    *   **Resource:** Watch documentaries or historical videos on the unification of Italy and Germany.\n",
       "*   **Visualize the Concepts:**\n",
       "    *   **Activity:** Find images of Frederic Sorrieu's prints, Marianne, and Germania. Analyze what these images represent and how they contribute to the idea of a nation.\n",
       "    *   **Resource:** Search for online art history resources that explain the symbolism in these images.\n",
       "*   **Understand the Napoleonic Code:**\n",
       "    *   **Activity:** Create a table listing the main provisions of the Napoleonic Code and their impact on different social groups.\n",
       "    *   **Resource:** Consult legal history resources to understand the significance of the Napoleonic Code.\n",
       "*   **Connect Nationalism to Imperialism:**\n",
       "    *   **Activity:** Research the causes of World War I and identify how nationalist tensions contributed to the conflict.\n",
       "    *   **Resource:** Read articles or book chapters on the relationship between nationalism and imperialism in the late 19th century.\n",
       "*   **Active Recall and Practice:**\n",
       "    *   **Activity:** After studying each section, try to summarize the key points in your own words. Use flashcards to memorize key terms and dates.\n",
       "    *   **Resource:** Use online quiz platforms to test your knowledge and identify areas where you need more practice.\n",
       "*   **Seek Clarification:**\n",
       "    *   **Activity:** If you are unsure about any concept, ask your teacher or classmates for clarification.\n",
       "    *   **Resource:** Participate in online forums or discussion groups to ask questions and learn from others.\n",
       "\n",
       "The instructor should emphasize the importance of engaging with the material and seeking help when needed. The student needs to actively participate in the learning process to overcome these significant knowledge gaps."
      ],
      "text/plain": [
       "<IPython.core.display.Markdown object>"
      ]
     },
     "metadata": {},
     "output_type": "display_data"
    }
   ],
   "source": [
    "from IPython.display import display, Markdown\n",
    "\n",
    "display(Markdown(analysis))"
   ]
  },
  {
   "cell_type": "markdown",
   "id": "3dd32874",
   "metadata": {},
   "source": [
    "# Generating question from the above report "
   ]
  },
  {
   "cell_type": "code",
   "execution_count": 8,
   "id": "a654e151",
   "metadata": {},
   "outputs": [],
   "source": [
    "from components.question_generator import questions\n",
    "\n",
    "question = questions.question_gen(\n",
    "    llm=llm,\n",
    "    provider=provider,\n",
    "    doc_result=doc_result,\n",
    "    trans_result=trans_result,\n",
    "    analysis=analysis,\n",
    ")"
   ]
  },
  {
   "cell_type": "code",
   "execution_count": 9,
   "id": "0ca04a18",
   "metadata": {},
   "outputs": [
    {
     "name": "stdout",
     "output_type": "stream",
     "text": [
      "Questions\n",
      "\n",
      "1. Can you explain in your own words what nationalism means and how it differs from patriotism?\n",
      "2. Describe Frederic Sorrieu's vision of a world made up of 'democratic and social republics'. What were the key elements of his dream, and what did he hope to convey through his series of prints?\n",
      "3. How did the French Revolution contribute to the rise of nationalism in Europe? Discuss at least three specific measures or practices that fostered a sense of collective identity among the French people.\n",
      "4. Explain the roles of Giuseppe Mazzini, Count Camillo Benso di Cavour, and Giuseppe Garibaldi in the unification of Italy. What were their individual contributions, and how did they work together (or sometimes in opposition) to achieve a unified Italy?\n",
      "5. Outline the key steps in the unification of Germany, focusing on the role of Otto von Bismarck and Prussia. What were the major wars involved, and what strategies did Bismarck employ to achieve German unification?\n",
      "6. What is the significance of Marianne and Germania as allegorical figures? What aspects of the French and German nations did they represent, and how were they used to promote national unity?\n",
      "7. Describe at least three significant reforms introduced by the Napoleonic Code. How did these reforms impact different segments of European society, such as peasants, artisans, and businessmen?\n",
      "8. In the late 19th century, nationalism became increasingly linked to imperialism. Explain how this shift occurred and discuss the consequences of this alliance, particularly in the lead-up to World War I.\n",
      "\n"
     ]
    }
   ],
   "source": [
    "print(\"Questions\\n\")\n",
    "for i,que in enumerate(question):\n",
    "    print(f\"{i+1}. {que}\")\n",
    "print()    "
   ]
  },
  {
   "cell_type": "code",
   "execution_count": 10,
   "id": "6a81512a",
   "metadata": {},
   "outputs": [],
   "source": [
    "answers = []\n",
    "\n",
    "for i in range(len(question)):\n",
    "    ans = input(f\"Enter the answer to:\\n {question[i]}\")\n",
    "    answers.append(ans)\n",
    "\n",
    "# Create a list of question answer pairs {\"question\", \"answer\"} from 2 list that contains question and answer\n",
    "qa_pairs = [{\"question\":q, \"answer\":a} for q,a in zip(question, answers)]"
   ]
  },
  {
   "cell_type": "code",
   "execution_count": 11,
   "id": "2f7ab405",
   "metadata": {},
   "outputs": [],
   "source": [
    "qna = \"\"\n",
    "for i,qa in enumerate(qa_pairs):\n",
    "    q = qa[\"question\"]\n",
    "    a = qa[\"answer\"]\n",
    "    qna = qna + (f\"Q{i+1}. {q}\\n\")\n",
    "    qna = qna + (f\"Ans: {a}\\n\")\n",
    "    qna = qna + \"\\n\""
   ]
  },
  {
   "cell_type": "code",
   "execution_count": 12,
   "id": "e09439a4",
   "metadata": {},
   "outputs": [
    {
     "name": "stdout",
     "output_type": "stream",
     "text": [
      "Q1. Can you explain in your own words what nationalism means and how it differs from patriotism?\n",
      "Ans: no\n",
      "\n",
      "Q2. Describe Frederic Sorrieu's vision of a world made up of 'democratic and social republics'. What were the key elements of his dream, and what did he hope to convey through his series of prints?\n",
      "Ans: no\n",
      "\n",
      "Q3. How did the French Revolution contribute to the rise of nationalism in Europe? Discuss at least three specific measures or practices that fostered a sense of collective identity among the French people.\n",
      "Ans: no\n",
      "\n",
      "Q4. Explain the roles of Giuseppe Mazzini, Count Camillo Benso di Cavour, and Giuseppe Garibaldi in the unification of Italy. What were their individual contributions, and how did they work together (or sometimes in opposition) to achieve a unified Italy?\n",
      "Ans: no\n",
      "\n",
      "Q5. Outline the key steps in the unification of Germany, focusing on the role of Otto von Bismarck and Prussia. What were the major wars involved, and what strategies did Bismarck employ to achieve German unification?\n",
      "Ans: no\n",
      "\n",
      "Q6. What is the significance of Marianne and Germania as allegorical figures? What aspects of the French and German nations did they represent, and how were they used to promote national unity?\n",
      "Ans: no\n",
      "\n",
      "Q7. Describe at least three significant reforms introduced by the Napoleonic Code. How did these reforms impact different segments of European society, such as peasants, artisans, and businessmen?\n",
      "Ans: no\n",
      "\n",
      "Q8. In the late 19th century, nationalism became increasingly linked to imperialism. Explain how this shift occurred and discuss the consequences of this alliance, particularly in the lead-up to World War I.\n",
      "Ans: no\n",
      "\n",
      "\n"
     ]
    }
   ],
   "source": [
    "print(qna)"
   ]
  },
  {
   "cell_type": "code",
   "execution_count": 13,
   "id": "24a25927",
   "metadata": {},
   "outputs": [],
   "source": [
    "from components.qna_judge import judge\n",
    "\n",
    "evaluation_report = judge.qna_check_and_scoring(\n",
    "   llm=llm,\n",
    "   provider=provider,\n",
    "   doc_result=doc_result,\n",
    "   trans_result=trans_result,\n",
    "   analysis=analysis,\n",
    "   qna=qna\n",
    ")"
   ]
  },
  {
   "cell_type": "code",
   "execution_count": 14,
   "id": "694f5ea0",
   "metadata": {},
   "outputs": [
    {
     "data": {
      "text/markdown": [
       "## Student Performance Evaluation\n",
       "\n",
       "### **Total Score**: 0/100\n",
       "\n",
       "### **Scoring Breakdown**\n",
       "| Evaluation Category  | Max Points | Awarded Points | Justification Snippet / Rationale                                     |\n",
       "|----------------------|------------|----------------|-----------------------------------------------------------------------|\n",
       "| **Accuracy Check**   | 30         | 0              | No accurate information presented.                                     |\n",
       "| **Depth Analysis**   | 25         | 0              | No depth of analysis demonstrated.                                    |\n",
       "| **Completeness**     | 20         | 0              | No questions were answered.                                           |\n",
       "| **Conceptual Clarity**| 15         | 0              | No conceptual clarity shown.                                          |\n",
       "| **Critical Analysis**| 10         | 0              | No critical analysis present.                                         |\n",
       "| **TOTAL**            | **100**    | **0**            | **Overall Assessment Summary: The student demonstrated no understanding of the material.** |\n",
       "\n",
       "---\n",
       "\n",
       "### **Detailed Feedback**\n",
       "\n",
       "#### Strong Areas\n",
       "*   There are no strong areas to identify, as the student did not provide any relevant information.\n",
       "\n",
       "#### Areas for Improvement & Gap Analysis\n",
       "*   **Factual Errors**:\n",
       "        *   All answers are \"no,\" indicating a complete lack of factual knowledge.\n",
       "*   **Conceptual Gaps**:\n",
       "        *   The student demonstrates a complete lack of understanding of all concepts presented in the Learning Material, including nationalism, nation-states, the French Revolution's impact, the unification of Italy and Germany, allegorical figures, the Napoleonic Code, and the relationship between nationalism and imperialism.\n",
       "*   **Omissions**:\n",
       "        *   The student omitted all information related to each question.\n",
       "*   **Vague Assertions**:\n",
       "        *   There are no assertions, vague or otherwise, as the student only responded with \"no\" to each question.\n",
       "\n",
       "---\n",
       "\n",
       "### **Misconception Analysis**\n",
       "| Identified Misconception (from Q&A) | Relevant Material (Learning Material Excerpt/Ref) | Correction / Clarification |\n",
       "|-------------------------------------------|--------------------------------------------|----------------------------|\n",
       "| N/A - Student provided no information | N/A | N/A |\n",
       "\n",
       "---\n",
       "\n",
       "### **Personalized Learning Path**\n",
       "\n",
       "#### 1. Immediate Focus Areas:\n",
       "        *   Priority 1: Understand the definition of nationalism and its historical context.\n",
       "        *   Priority 2: Learn about the key events and figures involved in the rise of nationalism in Europe, particularly the French Revolution and the unifications of Italy and Germany.\n",
       "        *   Priority 3: Grasp the concepts of nation-states, allegorical figures, and the Napoleonic Code.\n",
       "\n",
       "#### 2. Resource Recommendations:\n",
       "        *   **Primary Material Review**: Focus on the entire Learning Material, starting with the definitions and key events.\n",
       "        *   **Prior Knowledge Link**: There is no relevant prior knowledge demonstrated in the transcript.\n",
       "        *   **Visual Aid**: Use timelines, maps, and images of key figures and events to aid understanding.\n",
       "        *   **Further Reading/Practice**: Complete the exercises and activities suggested in the Gap Analysis.\n",
       "\n",
       "#### 3. Skill-Building Exercises:\n",
       "        *   **Accuracy Drill**: Create flashcards with key terms, dates, and figures.\n",
       "        *   **Analysis Practice**: Write short summaries of each section of the Learning Material.\n",
       "        *   **Argumentation**: Practice explaining the causes and consequences of nationalism in Europe.\n",
       "\n",
       "---\n",
       "\n",
       "### **Detailed Rubric Application Notes**\n",
       "*   **Accuracy Check**: The student received 0 points because all answers were \"no,\" indicating a complete lack of accurate information.\n",
       "*   **Depth Analysis**: The student received 0 points because there was no depth of analysis demonstrated in any of the answers.\n",
       "*   **Completeness**: The student received 0 points because none of the questions were answered.\n",
       "*   **Conceptual Clarity**: The student received 0 points because there was no conceptual clarity shown in any of the answers.\n",
       "*   **Critical Analysis**: The student received 0 points because there was no critical analysis present in any of the answers.\n",
       "\n",
       "**End of Evaluation**"
      ],
      "text/plain": [
       "<IPython.core.display.Markdown object>"
      ]
     },
     "metadata": {},
     "output_type": "display_data"
    }
   ],
   "source": [
    "display(Markdown(evaluation_report))"
   ]
  },
  {
   "cell_type": "code",
   "execution_count": 16,
   "id": "fcc00427",
   "metadata": {},
   "outputs": [
    {
     "name": "stdout",
     "output_type": "stream",
     "text": [
      "Evaluation report saved to evaluation_report.md\n"
     ]
    }
   ],
   "source": [
    "with open(\"evaluation_report.md\", \"w\") as f:\n",
    "    f.write(evaluation_report)\n",
    "print(\"Evaluation report saved to evaluation_report.md\")"
   ]
  },
  {
   "cell_type": "markdown",
   "id": "b6228d80",
   "metadata": {},
   "source": [
    "# Generate a curated and detailed transcript to produce a podcast like resource for the learner."
   ]
  },
  {
   "cell_type": "code",
   "execution_count": null,
   "id": "cf9678bf",
   "metadata": {},
   "outputs": [],
   "source": [
    "from components.transcript_gen import transcript\n",
    "\n",
    "transcript = transcript.get_transcript(\n",
    "    llm=llm,\n",
    "    provider=provider,\n",
    "    evaluation_report=evaluation_report,\n",
    "    qna=qna,\n",
    "    analysis=analysis,\n",
    "    doc_result=doc_result,\n",
    "    trans_result=trans_result,\n",
    ")"
   ]
  },
  {
   "cell_type": "code",
   "execution_count": 36,
   "id": "e91beb7f",
   "metadata": {},
   "outputs": [
    {
     "name": "stdout",
     "output_type": "stream",
     "text": [
      "Removed previous audio chunks in ./audio_chunks\n"
     ]
    },
    {
     "name": "stderr",
     "output_type": "stream",
     "text": [
      "/home/prasun/Desktop/ADHYAYAN_MITRA/.venv/lib/python3.12/site-packages/torch/nn/modules/rnn.py:123: UserWarning: dropout option adds dropout after all but last recurrent layer, so non-zero dropout expects num_layers greater than 1, but got dropout=0.2 and num_layers=1\n",
      "  warnings.warn(\n",
      "/home/prasun/Desktop/ADHYAYAN_MITRA/.venv/lib/python3.12/site-packages/torch/nn/utils/weight_norm.py:143: FutureWarning: `torch.nn.utils.weight_norm` is deprecated in favor of `torch.nn.utils.parametrizations.weight_norm`.\n",
      "  WeightNorm.apply(module, name, dim)\n"
     ]
    },
    {
     "name": "stdout",
     "output_type": "stream",
     "text": [
      "Removed previous audio chunks in ./audio_chunks\n",
      "Audio saved to /home/prasun/Desktop/ADHYAYAN_MITRA/testing/merged_output.mp3\n"
     ]
    }
   ],
   "source": [
    "from components.audio_gen import kokoro_tts\n",
    "\n",
    "tts = kokoro_tts.Kokoro_TTS(audio_chunk_dir=\"./audio_chunks\")\n",
    "\n",
    "audio_path = tts.generate_audio(\n",
    "    text=transcript,\n",
    "    output_path=\"merged_output.mp3\",\n",
    "    voice=\"af_heart\",\n",
    "    lang_code=\"a\"\n",
    ")\n",
    "\n",
    "print(f\"Audio saved to {audio_path}\")"
   ]
  },
  {
   "cell_type": "code",
   "execution_count": 15,
   "id": "6f604e5e",
   "metadata": {},
   "outputs": [],
   "source": [
    "from components.revision_tools import key_vocab"
   ]
  },
  {
   "cell_type": "code",
   "execution_count": 16,
   "id": "c9b43ee5",
   "metadata": {},
   "outputs": [
    {
     "name": "stdout",
     "output_type": "stream",
     "text": [
      "- **Nationalism**: A feeling of pride in and devotion to one's nation, often accompanied by a desire for national independence or unity.\n",
      "- **Nation-State**: A political unit consisting of a relatively homogeneous people inhabiting a sovereign state, especially a state containing one as opposed to several nationalities.\n",
      "- **French Revolution**: A period of social and political upheaval in late 1700's France, ultimately overthrowing the monarchy and establishing a republic.\n",
      "- **Giuseppe Mazzini**: An Italian politician, journalist, and activist for the unification of Italy, and a leading figure in the Italian revolutionary movement.\n",
      "- **Count Camillo Benso di Cavour**: A leading figure in the Italian unification movement, he was the Prime Minister of Piedmont-Sardinia and skillfully used diplomacy and alliances to achieve unification.\n",
      "- **Giuseppe Garibaldi**: An Italian general, patriot, and republican who played a major role in the unification of Italy, leading military campaigns that resulted in the formation of a unified Italian nation.\n",
      "- **Otto von Bismarck**: The Prime Minister of Prussia and later the first Chancellor of Germany, he was a key figure in the unification of Germany through a policy of \"blood and iron.\"\n",
      "- **Marianne**: An allegorical figure representing the French nation, embodying liberty and reason.\n",
      "- **Germania**: An allegorical figure representing the German nation, often depicted with symbols of German strength and unity.\n",
      "- **Napoleonic Code**: A comprehensive system of laws established in France by Napoleon Bonaparte, influencing law in many European countries.\n",
      "- **Imperialism**: A policy of extending a country's power and influence through colonization, use of military force, or other means.\n",
      "- **Frederic Sorrieu**: A French artist known for his series of prints visualizing a world of democratic and social republics.\n",
      "- **Absolutist Institutions**: A system of government where a ruler holds absolute power without constitutional limitations.\n",
      "- **Liberalism**: A political philosophy emphasizing individual rights and liberties, often advocating for limited government and free markets.\n",
      "- **Conservatism**: A political philosophy emphasizing traditional values and institutions, often resistant to change.\n",
      "\n"
     ]
    }
   ],
   "source": [
    "key_terms = key_vocab.get_key_vocab(\n",
    "    llm=llm,\n",
    "    provider=provider,\n",
    "    evaluation_report=evaluation_report,\n",
    "    qna=qna,\n",
    "    analysis=analysis,\n",
    "    doc_result=doc_result,\n",
    "    trans_result=trans_result\n",
    ")\n",
    "print(key_terms)\n",
    "print()"
   ]
  },
  {
   "cell_type": "code",
   "execution_count": 17,
   "id": "c0f47f6f",
   "metadata": {},
   "outputs": [
    {
     "name": "stdout",
     "output_type": "stream",
     "text": [
      "[{'question': \"What is the key difference between a 'nation' and a 'state,' and how does nationalism relate to both?\", 'answer': \"A 'nation' is a group of people sharing common descent, language, history, and culture, while a 'state' is a political entity with defined territory and government. Nationalism is the feeling of belonging and loyalty to a nation, often seeking to create or maintain its own state.\"}, {'question': \"Can you describe in your own words what Frederic Sorrieu's prints aimed to depict, and what was the significance of the Statue of Liberty in his vision?\", 'answer': \"Frederic Sorrieu's prints depicted his utopian vision of a world made up of democratic and social republics, where nations are united in fraternity. The Statue of Liberty symbolizes enlightenment and the rights of man, representing the progress towards these ideals.\"}, {'question': 'What were some of the specific measures taken during the French Revolution to create a sense of collective identity among the French people?', 'answer': 'Measures included the creation of a new national assembly, the adoption of the tricolor flag, the composition of new hymns, and the abolition of internal customs duties, all fostering a sense of shared national identity.'}, {'question': 'What were the differing roles of Mazzini, Cavour, and Garibaldi in the unification of Italy?', 'answer': 'Mazzini inspired Italian nationalism through his writings and secret societies. Cavour, as Prime Minister of Sardinia-Piedmont, used diplomacy and alliances to gain territory. Garibaldi led volunteer armies to conquer Southern Italy, paving the way for unification.'}, {'question': \"What was Otto von Bismarck's primary strategy in unifying Germany, and what role did wars play in this process?\", 'answer': \"Bismarck employed a policy of 'blood and iron,' using military force and strategic alliances to achieve German unification. He orchestrated wars against Denmark, Austria, and France, each contributing to Prussia's dominance and the eventual creation of a unified Germany.\"}, {'question': 'What did Marianne and Germania symbolize, and how were they used to promote national unity in France and Germany, respectively?', 'answer': 'Marianne symbolized the French nation and its values of liberty and republic, while Germania represented the German nation and its strength and heroism. Their images were used on coins, stamps, and public monuments to inspire national pride and unity.'}, {'question': 'How did the Napoleonic Code impact the legal systems and social structures of the regions Napoleon conquered?', 'answer': 'The Napoleonic Code established equality before the law, secured property rights, simplified administrative divisions, and abolished feudalism, impacting legal systems and social structures by promoting meritocracy and individual rights.'}, {'question': 'How did nationalism become linked to imperialism in the late 19th century, and what were some of the consequences of this connection?', 'answer': 'In the late 19th century, nationalism became more aggressive and intolerant, leading to competition among European powers for colonies and resources. This intensified rivalries and contributed to the outbreak of World War I.'}]\n"
     ]
    }
   ],
   "source": [
    "from components.revision_tools import ex_questions\n",
    "\n",
    "qs_pairs = ex_questions.supplementary_qa_gen(\n",
    "    llm=llm,\n",
    "    provider=provider,\n",
    "    evaluation_report=evaluation_report,\n",
    "    qna=qna,\n",
    "    analysis=analysis,\n",
    "    doc_result=doc_result,\n",
    "    trans_result=trans_result\n",
    ")\n",
    "\n",
    "print(qs_pairs)\n",
    "# Output: [{'question': '...', 'answer': '...'}, ...]\n"
   ]
  },
  {
   "cell_type": "code",
   "execution_count": 19,
   "id": "d0254252",
   "metadata": {},
   "outputs": [
    {
     "name": "stdout",
     "output_type": "stream",
     "text": [
      "What is the key difference between a 'nation' and a 'state,' and how does nationalism relate to both?\n",
      "A 'nation' is a group of people sharing common descent, language, history, and culture, while a 'state' is a political entity with defined territory and government. Nationalism is the feeling of belonging and loyalty to a nation, often seeking to create or maintain its own state.\n",
      "Can you describe in your own words what Frederic Sorrieu's prints aimed to depict, and what was the significance of the Statue of Liberty in his vision?\n",
      "Frederic Sorrieu's prints depicted his utopian vision of a world made up of democratic and social republics, where nations are united in fraternity. The Statue of Liberty symbolizes enlightenment and the rights of man, representing the progress towards these ideals.\n",
      "What were some of the specific measures taken during the French Revolution to create a sense of collective identity among the French people?\n",
      "Measures included the creation of a new national assembly, the adoption of the tricolor flag, the composition of new hymns, and the abolition of internal customs duties, all fostering a sense of shared national identity.\n",
      "What were the differing roles of Mazzini, Cavour, and Garibaldi in the unification of Italy?\n",
      "Mazzini inspired Italian nationalism through his writings and secret societies. Cavour, as Prime Minister of Sardinia-Piedmont, used diplomacy and alliances to gain territory. Garibaldi led volunteer armies to conquer Southern Italy, paving the way for unification.\n",
      "What was Otto von Bismarck's primary strategy in unifying Germany, and what role did wars play in this process?\n",
      "Bismarck employed a policy of 'blood and iron,' using military force and strategic alliances to achieve German unification. He orchestrated wars against Denmark, Austria, and France, each contributing to Prussia's dominance and the eventual creation of a unified Germany.\n",
      "What did Marianne and Germania symbolize, and how were they used to promote national unity in France and Germany, respectively?\n",
      "Marianne symbolized the French nation and its values of liberty and republic, while Germania represented the German nation and its strength and heroism. Their images were used on coins, stamps, and public monuments to inspire national pride and unity.\n",
      "How did the Napoleonic Code impact the legal systems and social structures of the regions Napoleon conquered?\n",
      "The Napoleonic Code established equality before the law, secured property rights, simplified administrative divisions, and abolished feudalism, impacting legal systems and social structures by promoting meritocracy and individual rights.\n",
      "How did nationalism become linked to imperialism in the late 19th century, and what were some of the consequences of this connection?\n",
      "In the late 19th century, nationalism became more aggressive and intolerant, leading to competition among European powers for colonies and resources. This intensified rivalries and contributed to the outbreak of World War I.\n",
      "\n"
     ]
    }
   ],
   "source": [
    "for i in range(len(qs_pairs)):\n",
    "    print(qs_pairs[i][\"question\"])\n",
    "    print(qs_pairs[i][\"answer\"])\n",
    "print()"
   ]
  },
  {
   "cell_type": "markdown",
   "id": "79238d22",
   "metadata": {},
   "source": [
    "# Optional Test Creation tailored asper the GAP analysis of the Students."
   ]
  },
  {
   "cell_type": "code",
   "execution_count": null,
   "id": "8cbbc6f2",
   "metadata": {},
   "outputs": [],
   "source": []
  },
  {
   "cell_type": "markdown",
   "id": "61e82cc0",
   "metadata": {},
   "source": [
    "# Optional RAG or CRAG(C only by Teacher) for doubt clearification."
   ]
  },
  {
   "cell_type": "markdown",
   "id": "d471ac79",
   "metadata": {},
   "source": [
    "# Optional Checker to check for Plagarism and AI content in students' response"
   ]
  }
 ],
 "metadata": {
  "kernelspec": {
   "display_name": ".venv",
   "language": "python",
   "name": "python3"
  },
  "language_info": {
   "codemirror_mode": {
    "name": "ipython",
    "version": 3
   },
   "file_extension": ".py",
   "mimetype": "text/x-python",
   "name": "python",
   "nbconvert_exporter": "python",
   "pygments_lexer": "ipython3",
   "version": "3.12.3"
  }
 },
 "nbformat": 4,
 "nbformat_minor": 5
}
