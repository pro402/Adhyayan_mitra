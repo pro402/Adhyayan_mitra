{
 "cells": [
  {
   "cell_type": "markdown",
   "id": "d0d01af7",
   "metadata": {},
   "source": [
    "## Testing"
   ]
  },
  {
   "cell_type": "code",
   "execution_count": 1,
   "id": "a6c2c657",
   "metadata": {},
   "outputs": [],
   "source": [
    "import sys\n",
    "import os\n",
    "\n",
    "# Add the parent directory to the path so Python can find the components\n",
    "sys.path.append(os.path.abspath('..'))"
   ]
  },
  {
   "cell_type": "code",
   "execution_count": 2,
   "id": "c17ea98b",
   "metadata": {},
   "outputs": [
    {
     "name": "stdout",
     "output_type": "stream",
     "text": [
      "Processing: /home/prasun/Desktop/ADHYAYAN_MITRA/components/transcripter_api/recording.mp3\n"
     ]
    },
    {
     "name": "stderr",
     "output_type": "stream",
     "text": [
      "Due to a bug fix in https://github.com/huggingface/transformers/pull/28687 transcription using a multilingual Whisper will default to language detection followed by transcription instead of translation to English.This might be a breaking change for your use case. If you want to instead always translate your audio to English, make sure to pass `language='en'`.\n",
      "The attention mask is not set and cannot be inferred from input because pad token is same as eos token. As a consequence, you may observe unexpected behavior. Please pass your input's `attention_mask` to obtain reliable results.\n"
     ]
    },
    {
     "name": "stdout",
     "output_type": "stream",
     "text": [
      "Transcription completed in 13.1s\n",
      "Transcript saved to /home/prasun/Desktop/ADHYAYAN_MITRA/components/transcripter_api/transcript.txt\n",
      " Alright, let me try to talk through what I remember from the rise of nationalism in Europe. I'll just say what comes to mind and see where I get stuck. So, a nation is basically a big group of people who share things like language, history and I think live under one government. I remember reading about Frederick Sorio. He was some French artist in 1848. He made these prints showing people from different countries marching together towards the Statue of Liberty.  I think those stood for the end of old monarchy or something, but I'm not totally sure. The French Revolution was a big deal for nationalism. It made people in France feel more united, and they set up a republic after getting rid of the king. Then Napoleon came, and he made a lot of changes. I know he made everyone equal before the law and got rid of privileges by birth, but I'm a bit fuzzy on what else he did. Maybe something about proper  rights and making travel or business easier. For Italy, I remember Giuseppe Medzini started young Italy and wanted all the small states to join together. There were some failed attempts but then Sardini appeed Montt took over, led by Cavalry. Garibaldi helped in the south and eventually Victor Emmanuel II became king over United Italy. I can't remember the exact year though, maybe 1861, Germany was also split into lots of  states. The Frank Fertisembley tried to unite them, but the king of Prussia said no. Later, Bismarck, who was like the chief minister, fought wars with Denmark, Austria and France. After winning those, Germany got united, and the Prussian king became Kaiser William. I think this happened in 1871, but I should double check. There were also these female symbols, Marianne for France and Germany. Marianne had a red cap, and  was on Coins and Stamps.  But I should probably read more about that. So, yeah, I remember the main events, but I definitely need to review Napoleon's reforms, the exact years of unification, and the whole nationalism versus imperialism thing. And why they used female allegories for nations? Still not clear on that.\n"
     ]
    }
   ],
   "source": [
    "from components.transcripter_api import transcripter \n",
    "\n",
    "trans_result = transcripter.transcribe_audio()\n",
    "print(trans_result)"
   ]
  },
  {
   "cell_type": "code",
   "execution_count": 3,
   "id": "5fd85209",
   "metadata": {},
   "outputs": [
    {
     "data": {
      "text/plain": [
       "\" Alright, let me try to talk through what I remember from the rise of nationalism in Europe. I'll just say what comes to mind and see where I get stuck. So, a nation is basically a big group of people who share things like language, history and I think live under one government. I remember reading about Frederick Sorio. He was some French artist in 1848. He made these prints showing people from different countries marching together towards the Statue of Liberty.  I think those stood for the end of old monarchy or something, but I'm not totally sure. The French Revolution was a big deal for nationalism. It made people in France feel more united, and they set up a republic after getting rid of the king. Then Napoleon came, and he made a lot of changes. I know he made everyone equal before the law and got rid of privileges by birth, but I'm a bit fuzzy on what else he did. Maybe something about proper  rights and making travel or business easier. For Italy, I remember Giuseppe Medzini started young Italy and wanted all the small states to join together. There were some failed attempts but then Sardini appeed Montt took over, led by Cavalry. Garibaldi helped in the south and eventually Victor Emmanuel II became king over United Italy. I can't remember the exact year though, maybe 1861, Germany was also split into lots of  states. The Frank Fertisembley tried to unite them, but the king of Prussia said no. Later, Bismarck, who was like the chief minister, fought wars with Denmark, Austria and France. After winning those, Germany got united, and the Prussian king became Kaiser William. I think this happened in 1871, but I should double check. There were also these female symbols, Marianne for France and Germany. Marianne had a red cap, and  was on Coins and Stamps.  But I should probably read more about that. So, yeah, I remember the main events, but I definitely need to review Napoleon's reforms, the exact years of unification, and the whole nationalism versus imperialism thing. And why they used female allegories for nations? Still not clear on that.\""
      ]
     },
     "execution_count": 3,
     "metadata": {},
     "output_type": "execute_result"
    }
   ],
   "source": [
    "trans_result"
   ]
  },
  {
   "cell_type": "code",
   "execution_count": 4,
   "id": "fed1cb1a",
   "metadata": {},
   "outputs": [
    {
     "name": "stdout",
     "output_type": "stream",
     "text": [
      "model='models/gemini-2.0-flash' google_api_key=SecretStr('**********') temperature=0.0 max_output_tokens=8192 client=<google.ai.generativelanguage_v1beta.services.generative_service.client.GenerativeServiceClient object at 0x764acab9fb00> default_metadata=()\n",
      "gemini-2.0-flash\n",
      "google_genai\n"
     ]
    }
   ],
   "source": [
    "from components.select_llm import google_genai\n",
    "llm, model, provider = google_genai.set_llm(\n",
    "    model = \"gemini-2.0-flash\",\n",
    ")\n",
    "\n",
    "print(llm)\n",
    "print(model)\n",
    "print(provider)"
   ]
  },
  {
   "cell_type": "code",
   "execution_count": 5,
   "id": "a7f600b9",
   "metadata": {},
   "outputs": [
    {
     "name": "stdout",
     "output_type": "stream",
     "text": [
      "Document has 1686 tokens. Using raw document.\n",
      "## The Rise of Nationalism in Europe Class 10 Notes History Chapter 1\n",
      "\n",
      "The Rise of Nationalism in Europe Class 10 Notes Social Science History Chapter 1 SST Pdf free download is part of [Class 10 Social Science Notes](https:/www.learncbse.in/class-10-social-science-notes) for Quick Revision. Here we have given The Rise of Nationalism in Europe Class 10 History Chapter 1 Notes. According to new CBSE Exam Pattern, [MCQ Questions For Class 10 Social Science with Answers](https:/www.learncbse.in/mcq-questions-for-class-10-social-science-with-answers) Carries 20 Marks.\n",
      "\n",
      "| Board        | CBSE                              |\n",
      "|--------------|-----------------------------------|\n",
      "| Textbook     | NCERT                             |\n",
      "| Class        | Class 10                          |\n",
      "| Subject      | Social Science Notes              |\n",
      "| Chapter      | History Chapter 1                 |\n",
      "| Chapter Name | The Rise of Nationalism in Europe |\n",
      "| Category     | CBSE Revision Notes               |\n",
      "\n",
      "### \n",
      "\n",
      "### The Rise of Nationalism in Europe Class 10 Notes Social Science History Chapter 1\n",
      "\n",
      "**Nation (State):** A large number of people of mainly common descent, language, history, inhabiting a territory bounded by defined limits and forming a society under one government is called a nation.\n",
      "\n",
      "**Frederic Sorrieu and his visualization:** In 1848, Frederic Sorrieu, a French artist, prepared a series of four prints, visualizing his dream of a world made up of ‘democratic and social republics’, as he called them.\n",
      "\n",
      "- The first print shows the people of Europe and America marching in a long train, and offering homage to the Statue of Liberty as they pass by it. A female figure carries a torch of enlightenment in one hand and the Charter of the Rights of Man, in the other hand.\n",
      "- On the earth lies the shattered remains of the symbols of absolutist institutions.\n",
      "- In Sorrieu’s Utopian vision, the people of the world are grouped as distinct nations, identified through their flags and national costumes.\n",
      "- Leading the procession are USA and Switzerland, followed by France and Germany. Following Germany are Austria, Kingdom of the two Sicilies, Lombardy, Poland, England, Ireland, Hungary and Russia.\n",
      "- From the heavens above, Christ, saints and angels gaze at the scene. The artist symbolizes fraternity among the nations of the world.\n",
      "\n",
      "**The French Revolution and the idea of Nation:**\n",
      "\n",
      "- Growth of nationalism in France.\n",
      "- Introduction of various measures and practices created sense of collective identity among the people of France.\n",
      "- Change of monarchy and establishment of republic, creation of new assembly.\n",
      "- Rise of Napoleon and his reforms. Revolutionaries help other people of Europe to become nation.\n",
      "\n",
      "**The making of Nationalism in Europe:**\n",
      "\n",
      "- Germany, Italy and Switzerland were divided into Kingdom, duchies and cantones these divisions were having their autonomous rulers.\n",
      "- Uses of different languages.\n",
      "- Rise of middle class.\n",
      "- Industrialization in England, emergence of a working class and liberalism.\n",
      "- New conservation after 1815 and preservation of traditional institution.\n",
      "- After the defeat of Napoleon, the European government follows the spirit of conservatism. Conservative regimes were autocratic Revolutionaries at that time fought for liberty and freedom.\n",
      "Example, Mazzini’s young Italy and Young Europe.\n",
      "\n",
      "**Unification of Italy:** Giuseppe Mazzini had played an important role in the unification of Italy. He formed a secret society called ‘Young Italy’ in Marseilles, to spread his goals. He believed Italy could not continue to be a patchwork of small states and had to be forged into a single unified republic. During 1830’s, Mazzini sought to put together a coherent programme for a unitary Italian Republic. As uprisings in 1831 and 1848 had failed, the mantle now fell on Sardinia-Piedmont under its ruler Emmanuel II to unify Italy.\n",
      "\n",
      "Under Chief Minister Cavour, Sardinia-Piedmont succeeded in destroying the Austrian forces in 1859. Even Garibaldi joined the fray. In 1860, they marched into South Italy and the kingdom of the two Sicilies and with the help of the local peasants, drove out the Spanish rulers. In 1861, Victor Emmanuel II was proclaimed as King of United Italy.\n",
      "\n",
      "**Unification of Germany:** In the 18th century, Germany was divided into a number of states. Some of these states ceased to exist during the Napoleonic wars. At the end of the war, there were still 39 independent states in Germany. Prussia was most powerful, dominated by big landlords known as Junkers.\n",
      "\n",
      "- Nationalist feelings were widespread among middle class Germans who had tried to unite the different regions of the German federation into a nation-state governed by an elected Parliament.\n",
      "- In May 1848, a large number of political associations came together to vote for an all-German National Assembly. Their representatives met at Frankfurt and the Frankfurt Assembly proposed the unification of Germany as a constitutional monarchy under the King of Prussia as emperor\n",
      "- The King of Prussia rejected the offer and the liberal initiative of nation building was repressed by the combined forces of the monarchy, the military and the ‘Junkers’.\n",
      "- Then on, Prussia under its Chief Minister Otto Von Bismarck led the movement for unification of Germany. Bismarck carried out this process with the help of the Prussian army and the bureaucracy. He fought three wars over seven years with Denmark, Austria and France. Prussia was victorious in all these wars and the process of unification was completed as a result of Prussia’s victory over France.\n",
      "- Consequently, on 18th January 1871, an assembly comprising of princes of German States, representatives of the army, important Prussian ministers and Bismarck gathered in the Palace of Versailles and proclaimed the Prussian King, Kaiser William, the new German Emperor.\n",
      "\n",
      "**Visualizing the Nation:** Marianne and Germania were both female allegories used by artists in the 19th century to represent the nation.\n",
      "\n",
      "- In France she was named Marianne, a popular Christian name, which underlined the idea of a people’s nation. Her characteristics were drawn from those of liberty and republic—the red cap, the tri-colour, the cockade. Statues of Marianne were erected in public squares as a national symbol of unity. Marianne images were marked on coins and stamps.\n",
      "- Instead of just having the idea of father land, they wanted to implant a suitable image in the minds of the people. They invariably chose the mother figure symbolizing nations—Britannia, Germania and Marianne reminding us of our concept of Matribhumi.\n",
      "- Germania became the allegory of the German nation. Germania wears a crown of oak leaves as German oak stands for heroism. It was hung from the ceiling of St. Paul’s Church, where Frankfurt Parliament was convened, to symbolize the liberal revolution.\n",
      "\n",
      "**Napoleonic Code:**\n",
      "\n",
      "- The first major change was doing away with all privileges based on birth, establishing equality before law and securing the right to property.\n",
      "- Administrative divisions were simplified.\n",
      "- Feudal system was abolished and peasants were freed from serfdom and manorial dues (abuse of manorial lords).\n",
      "- In towns, guild restrictions were removed.\n",
      "- Transport and communication systems were improved.\n",
      "- Peasants, artisans, workers and new businessmen enjoyed a new found freedom.\n",
      "- Businessmen and small-scale producers of goods in particular began to realize that uniform laws, standardized weights and measures and a common national currency would facilitate the movement and exchange of goods and capital from one region to another.\n",
      "\n",
      "**Nationalism and Imperialism:** Last quarter of the 19th century nationalism became a narrow creed with limited ends, Intolerance Balkan became the sense of big power rivalry Nationalism, aligned with imperialism cause of World War I. Idea of a Nationalism was now same everywhere . But concept of National State was accepted universally.\n"
     ]
    }
   ],
   "source": [
    "from components.doc_pipeline.pipeline import DocumentProcessor\n",
    "\n",
    "doc_result = DocumentProcessor(\n",
    "    llm=llm,\n",
    "    provider=provider,\n",
    ").process_document()\n",
    "\n",
    "print(doc_result)"
   ]
  },
  {
   "cell_type": "markdown",
   "id": "a9eac463",
   "metadata": {},
   "source": [
    "# Building the Gap_Analysis Pipeline"
   ]
  },
  {
   "cell_type": "code",
   "execution_count": 6,
   "id": "c5eb1a17",
   "metadata": {},
   "outputs": [],
   "source": [
    "from components.gap_analyzer import analyzer\n",
    "\n",
    "analysis = analyzer.learning_gap(\n",
    "    llm = llm,\n",
    "    provider = provider,\n",
    "    doc_result=doc_result,\n",
    "    trans_result=trans_result\n",
    ")"
   ]
  },
  {
   "cell_type": "code",
   "execution_count": 7,
   "id": "18ba6df7",
   "metadata": {},
   "outputs": [
    {
     "data": {
      "text/markdown": [
       "Okay, here's a detailed learning gap analysis of the student's understanding of \"The Rise of Nationalism in Europe,\" based on the provided material and their response:\n",
       "\n",
       "**1. DEMONSTRATED KNOWLEDGE:**\n",
       "\n",
       "*   **Definition of a Nation-State:** The student correctly identifies the core components of a nation-state: \"a nation is basically a big group of people who share things like language, history and I think live under one government.\" This demonstrates a basic understanding of the concept.\n",
       "*   **Frederic Sorrieu's Prints:** The student accurately recalls Frederic Sorrieu and his 1848 prints, describing the imagery of people from different countries marching towards the Statue of Liberty. This shows they remember the visual representation of nationalism and its ideals.\n",
       "*   **French Revolution's Impact:** The student understands the French Revolution's role in fostering nationalism in France: \"It made people in France feel more united, and they set up a republic after getting rid of the king.\"\n",
       "*   **Italian Unification:** The student demonstrates a good grasp of the key figures and events in Italian unification: \"Giuseppe Medzini started young Italy and wanted all the small states to join together. There were some failed attempts but then Sardini appeed Montt took over, led by Cavalry. Garibaldi helped in the south and eventually Victor Emmanuel II became king over United Italy.\" They correctly identify Mazzini, Cavour, Garibaldi, and Victor Emmanuel II.\n",
       "*   **German Unification:** The student accurately recalls the key players and process of German unification: \"Germany was also split into lots of states. The Frank Fertisembley tried to unite them, but the king of Prussia said no. Later, Bismarck, who was like the chief minister, fought wars with Denmark, Austria and France. After winning those, Germany got united, and the Prussian king became Kaiser William.\" They understand the roles of the Frankfurt Assembly, the King of Prussia, and Bismarck.\n",
       "*   **Female Allegories:** The student remembers Marianne and Germania as female symbols of France and Germany, respectively: \"There were also these female symbols, Marianne for France and Germany. Marianne had a red cap, and was on Coins and Stamps.\"\n",
       "\n",
       "**2. KNOWLEDGE GAPS:**\n",
       "\n",
       "*   **Significance of Sorrieu's Prints:** While the student mentions Sorrieu's prints, they are \"not totally sure\" what they stood for. They miss the crucial point that these prints represented Sorrieu's *utopian vision of democratic and social republics* and the *fraternity among nations*.\n",
       "*   **Details of Napoleon's Reforms (Napoleonic Code):** The student acknowledges Napoleon's reforms but is \"fuzzy\" on the details. They only mention equality before the law and the abolition of privileges. They miss key aspects of the Napoleonic Code, including:\n",
       "    *   Simplification of administrative divisions.\n",
       "    *   Abolition of the feudal system and manorial dues.\n",
       "    *   Removal of guild restrictions in towns.\n",
       "    *   Improvements in transport and communication systems.\n",
       "    *   Standardized weights and measures and a common national currency.\n",
       "*   **Conservative Reaction After Napoleon:** The student completely omits the conservative reaction after Napoleon's defeat in 1815. This is a significant omission, as it provides context for the revolutionary movements and the challenges faced by nationalists. The student needs to understand the Congress of Vienna and the efforts to restore monarchies and suppress liberal and nationalist ideas.\n",
       "*   **Nationalism and Imperialism:** The student acknowledges needing to review the \"nationalism versus imperialism thing.\" They need to understand how nationalism, initially a force for unity and self-determination, became intertwined with imperialism in the late 19th century, leading to increased competition and conflict among European powers. They need to understand how this contributed to World War I.\n",
       "*   **Reasons for Using Female Allegories:** The student expresses confusion about \"why they used female allegories for nations.\" They need to understand that Marianne and Germania were used to personify the nation and evoke a sense of collective identity and patriotism. They served as visual representations of abstract concepts like liberty, republic, and the nation itself.\n",
       "\n",
       "**3. MISCONCEPTIONS:**\n",
       "\n",
       "*   **\"Sardini appeed Montt took over, led by Cavalry.\"** This is a garbled recollection. The student is likely trying to refer to Sardinia-Piedmont, led by *Cavour* (not \"Cavalry\"), playing a key role in Italian unification.\n",
       "    *   **Correct Concept:** Sardinia-Piedmont, under the leadership of Chief Minister Cavour, used diplomacy and strategic alliances to drive out Austrian forces and unify northern Italy.\n",
       "*   **\"Frank Fertisembley tried to unite them...\"** This is a garbled recollection. The student is likely trying to refer to the *Frankfurt Assembly*.\n",
       "    *   **Correct Concept:** The Frankfurt Assembly was an attempt by middle-class Germans to create a unified German nation-state with a constitutional monarchy.\n",
       "\n",
       "**4. DEPTH OF UNDERSTANDING:**\n",
       "\n",
       "The student demonstrates primarily surface-level knowledge. They can recall key events and figures but lack a deeper understanding of the underlying causes, consequences, and complexities of the rise of nationalism in Europe. Their understanding lacks depth in the following areas:\n",
       "\n",
       "*   **Ideological Underpinnings:** They understand the *what* but not the *why*. They need to explore the intellectual and philosophical currents that fueled nationalism, such as Romanticism, liberalism, and the idea of popular sovereignty.\n",
       "*   **Social and Economic Factors:** They need to understand how social and economic changes, such as industrialization and the rise of the middle class, contributed to the growth of nationalism.\n",
       "*   **Regional Variations:** They focus primarily on France, Italy, and Germany. They need to broaden their understanding to include other regions of Europe and the diverse expressions of nationalism in those areas.\n",
       "\n",
       "**5. LEARNING PRIORITIES:**\n",
       "\n",
       "Here's a ranking of the identified gaps in order of importance:\n",
       "\n",
       "1.  **Conservative Reaction After Napoleon:** Understanding the conservative backlash is crucial for understanding the context of subsequent nationalist movements. Without this, the motivations and challenges faced by nationalists are difficult to grasp.\n",
       "2.  **Details of Napoleon's Reforms (Napoleonic Code):** Understanding the specific reforms of Napoleon is essential for understanding the spread of revolutionary ideas and their impact on European societies.\n",
       "3.  **Nationalism and Imperialism:** Understanding the relationship between nationalism and imperialism is crucial for understanding the causes of World War I and the broader dynamics of European power politics in the late 19th and early 20th centuries.\n",
       "4.  **Significance of Sorrieu's Prints:** While important, this is less critical than understanding the broader historical context and the relationship between nationalism and imperialism.\n",
       "5.  **Reasons for Using Female Allegories:** This is the least critical gap, as it is more about cultural representation than core historical events or processes.\n",
       "\n",
       "**6. TARGETED RECOMMENDATIONS:**\n",
       "\n",
       "*   **Conservative Reaction After Napoleon:**\n",
       "    *   **Study Activity:** Read a section in the textbook or a supplementary resource specifically on the Congress of Vienna and the Concert of Europe.\n",
       "    *   **Practice Exercise:** Create a timeline of the major events and figures of the post-Napoleonic era, focusing on the efforts to restore order and suppress revolutionary ideas.\n",
       "    *   **Supplementary Resource:** Watch a short documentary or lecture on the Congress of Vienna.\n",
       "*   **Details of Napoleon's Reforms (Napoleonic Code):**\n",
       "    *   **Study Activity:** Create a detailed chart outlining the key provisions of the Napoleonic Code and their impact on different social groups.\n",
       "    *   **Practice Exercise:** Answer questions that require applying the principles of the Napoleonic Code to specific scenarios. For example, \"How would the Napoleonic Code affect a peasant farmer in a rural village?\"\n",
       "    *   **Supplementary Resource:** Read primary source excerpts from the Napoleonic Code.\n",
       "*   **Nationalism and Imperialism:**\n",
       "    *   **Study Activity:** Compare and contrast the goals and motivations of nationalists in the early 19th century with those of imperialists in the late 19th century.\n",
       "    *   **Practice Exercise:** Write an essay exploring the relationship between nationalism and imperialism, using specific examples from European history.\n",
       "    *   **Supplementary Resource:** Read articles or excerpts from books that analyze the connection between nationalism and imperialism.\n",
       "*   **Significance of Sorrieu's Prints:**\n",
       "    *   **Study Activity:** Re-read the section in the textbook about Sorrieu's prints, paying close attention to the context in which they were created and the message they were intended to convey.\n",
       "    *   **Practice Exercise:** Write a short paragraph explaining the symbolism of Sorrieu's prints and their connection to the ideals of nationalism.\n",
       "*   **Reasons for Using Female Allegories:**\n",
       "    *   **Study Activity:** Research the use of allegorical figures in art and literature, focusing on the symbolism of female figures representing abstract concepts.\n",
       "    *   **Practice Exercise:** Compare and contrast the representations of Marianne and Germania, noting their similarities and differences.\n",
       "    *   **Supplementary Resource:** Find images of Marianne and Germania online and analyze their visual elements.\n",
       "\n",
       "By addressing these gaps and following the targeted recommendations, the student can significantly improve their understanding of the rise of nationalism in Europe. The instructor can use this analysis to tailor their teaching and provide more focused support to the student."
      ],
      "text/plain": [
       "<IPython.core.display.Markdown object>"
      ]
     },
     "metadata": {},
     "output_type": "display_data"
    }
   ],
   "source": [
    "from IPython.display import display, Markdown\n",
    "\n",
    "display(Markdown(analysis))"
   ]
  },
  {
   "cell_type": "markdown",
   "id": "3dd32874",
   "metadata": {},
   "source": [
    "# Generating question from the above report "
   ]
  },
  {
   "cell_type": "code",
   "execution_count": 8,
   "id": "a654e151",
   "metadata": {},
   "outputs": [],
   "source": [
    "from components.question_generator import questions\n",
    "\n",
    "question = questions.question_gen(\n",
    "    llm=llm,\n",
    "    provider=provider,\n",
    "    doc_result=doc_result,\n",
    "    trans_result=trans_result,\n",
    "    analysis=analysis,\n",
    ")"
   ]
  },
  {
   "cell_type": "code",
   "execution_count": 9,
   "id": "0ca04a18",
   "metadata": {},
   "outputs": [
    {
     "name": "stdout",
     "output_type": "stream",
     "text": [
      "Questions\n",
      "\n",
      "1. Beyond equality before the law, what were some other key aspects of the Napoleonic Code, and how did these reforms impact different groups within European society?\n",
      "2. The student mentioned the French Revolution led to the establishment of a republic. Can you elaborate on the key features of this republic and how it differed from the previous monarchy?\n",
      "3. After Napoleon's defeat, a new European order emerged. Can you describe the main goals of the Congress of Vienna and how they attempted to reshape the political landscape of Europe?\n",
      "4. How did the Congress of Vienna's efforts to suppress revolutionary ideas influence the development of nationalist movements in the years that followed?\n",
      "5. The student mentioned the rise of nationalism and imperialism. Can you explain how nationalism, initially a force for unity, became intertwined with imperialism and contributed to tensions between European powers?\n",
      "6. In what ways did the economic changes, such as industrialization, contribute to the rise of nationalism in Europe?\n",
      "7. The student mentioned female allegories like Marianne and Germania. What was the purpose of using female figures to represent nations, and what qualities were they intended to embody?\n",
      "8. The student correctly identified Cavour's role in Italian unification. Can you elaborate on the specific strategies and diplomatic maneuvers he employed to achieve this goal?\n",
      "9. The student mentioned the Frankfurt Assembly. What were the main goals of the Frankfurt Assembly, and why did their efforts to unify Germany ultimately fail?\n",
      "10. How did the concept of popular sovereignty influence the rise of nationalism in Europe, and what were some of the challenges in implementing this idea in practice?\n",
      "\n"
     ]
    }
   ],
   "source": [
    "print(\"Questions\\n\")\n",
    "for i,que in enumerate(question):\n",
    "    print(f\"{i+1}. {que}\")\n",
    "print()    "
   ]
  },
  {
   "cell_type": "code",
   "execution_count": 10,
   "id": "6a81512a",
   "metadata": {},
   "outputs": [],
   "source": [
    "answers = []\n",
    "\n",
    "for i in range(len(question)):\n",
    "    ans = input(f\"Enter the answer to:\\n {question[i]}\")\n",
    "    answers.append(ans)\n",
    "\n",
    "# Create a list of question answer pairs {\"question\", \"answer\"} from 2 list that contains question and answer\n",
    "qa_pairs = [{\"question\":q, \"answer\":a} for q,a in zip(question, answers)]"
   ]
  },
  {
   "cell_type": "code",
   "execution_count": 12,
   "id": "2f7ab405",
   "metadata": {},
   "outputs": [],
   "source": [
    "qna = \"\"\n",
    "for i,qa in enumerate(qa_pairs):\n",
    "    q = qa[\"question\"]\n",
    "    a = qa[\"answer\"]\n",
    "    qna = qna + (f\"Q{i+1}. {q}\\n\")\n",
    "    qna = qna + (f\"Ans: {a}\\n\")\n",
    "    qna = qna + \"\\n\""
   ]
  },
  {
   "cell_type": "code",
   "execution_count": 13,
   "id": "e09439a4",
   "metadata": {},
   "outputs": [
    {
     "name": "stdout",
     "output_type": "stream",
     "text": [
      "Q1. Beyond equality before the law, what were some other key aspects of the Napoleonic Code, and how did these reforms impact different groups within European society?\n",
      "Ans: Um, so apart from making everyone equal before the law, I think the Napoleonic Code also, like, got rid of the feudal system? That meant peasants didn’t have to pay those old dues to landlords anymore, which was a big relief for them. I remember something about property rights too—like, people could own land and pass it on to their kids, but I’m not sure if women got the same rights as men. Also, I think the code made laws the same everywhere, so there wasn’t a lot of confusion if you moved to a different place in France or in areas controlled by Napoleon. For businessmen, it was probably easier because there were standard weights and measures and a common currency, so trade was less complicated. But I think not everyone was happy—like, women and maybe some traditional nobles lost some of their old privileges, so it wasn’t perfect for everyone.\n",
      "\n",
      "Q2. The student mentioned the French Revolution led to the establishment of a republic. Can you elaborate on the key features of this republic and how it differed from the previous monarchy?\n",
      "Ans: So, the main thing was that the king was gone, and instead, there was a republic, which I think means people had more say in the government. There was something called the National Convention, and they made decisions instead of the king. The motto was “Liberty, Equality, Fraternity,” so everyone was supposed to be treated equally. I think they also had a new constitution and some kind of elected assembly, but I’m not totally sure how people got to vote or if everyone could. It was different from the monarchy because before, the king had all the power and people didn’t have much of a say. But during the republic, there were still problems like food shortages and violence, especially during the Reign of Terror, so it wasn’t always peaceful or fair.\n",
      "\n",
      "Q3. After Napoleon's defeat, a new European order emerged. Can you describe the main goals of the Congress of Vienna and how they attempted to reshape the political landscape of Europe?\n",
      "Ans: Um, after Napoleon lost, all the big European countries met at the Congress of Vienna. Their main goal was to make sure no one country could become too powerful again, like France had under Napoleon. They wanted to bring back the old kings and stop any more revolutions from happening. They also changed a lot of borders so that France was surrounded by stronger countries, like making the Netherlands bigger and giving Prussia and Austria more land. I think they also wanted to keep the peace by balancing power between countries, but they didn’t really care about what the people living in those areas wanted. It was mostly about rewarding the countries that defeated Napoleon and making sure France couldn’t attack them again.\n",
      "\n",
      "Q4. How did the Congress of Vienna's efforts to suppress revolutionary ideas influence the development of nationalist movements in the years that followed?\n",
      "Ans: So, the Congress of Vienna tried really hard to stop any new revolutions or ideas about freedom and rights. They put old rulers back in power and didn’t allow people to have much say in government. But I think this actually made people even more frustrated. In places like Germany and Italy, people wanted to have their own countries and not be ruled by foreigners or a bunch of small states. The strict rules and censorship just made people want change even more, so eventually there were more uprisings and revolutions, like in 1848. It’s kind of like the more they tried to stop nationalism, the more people wanted it.\n",
      "\n",
      "Q5. The student mentioned the rise of nationalism and imperialism. Can you explain how nationalism, initially a force for unity, became intertwined with imperialism and contributed to tensions between European powers?\n",
      "Ans: At first, nationalism was about people wanting to unite and have their own country, like in Germany and Italy. But later, it turned into countries thinking they were better than others and wanting to expand their power. So, nationalism started to mix with imperialism, which is when countries try to take over other places. This made European countries compete for colonies and resources, especially in places like Africa and Asia. They also started building up their armies and navies, which made everyone suspicious of each other. All this competition and rivalry made Europe really tense, and I think it eventually led to World War I because everyone was ready to fight to protect or expand their own nation.\n",
      "\n",
      "Q6. In what ways did the economic changes, such as industrialization, contribute to the rise of nationalism in Europe?\n",
      "Ans: I think industrialization made a big difference because it created new jobs and made cities grow. People started to feel more connected because there were more railways and better communication, like telegraphs. Also, with factories and more trade, people wanted the government to make laws that helped businesses, like having the same money and no taxes between regions. This made people think more about being part of one big nation instead of lots of small states. Middle-class people, like businessmen and professionals, started to support ideas of national unity because it was good for business and made them feel proud of their country.\n",
      "\n",
      "Q7. The student mentioned female allegories like Marianne and Germania. What was the purpose of using female figures to represent nations, and what qualities were they intended to embody?\n",
      "Ans: So, artists used women to represent countries because it made the idea of a nation feel more real and relatable. Marianne stood for France and showed ideas like liberty and the republic—she wore a red cap and was on coins and stamps. Germania was for Germany and had a crown of oak leaves, which stood for heroism. I think the point was to give people a symbol they could look up to and feel united by, kind of like a mother figure for the country. These symbols helped people feel proud and connected to their nation, even if they were from different regions or spoke different dialects.\n",
      "\n",
      "Q8. The student correctly identified Cavour's role in Italian unification. Can you elaborate on the specific strategies and diplomatic maneuvers he employed to achieve this goal?\n",
      "Ans: Cavour was really smart and used both politics and diplomacy to unite Italy. He made Sardinia-Piedmont strong by improving its economy and government so other Italian states would want to join. He also made alliances, like with France, and agreed to give up some land (Savoy and Nice) to get French help against Austria. Cavour arranged plebiscites (votes) in the central Italian states to join Piedmont, and he was careful not to upset other big countries too much. He even managed to stop Garibaldi from attacking the Pope, which could have made France angry. In the end, his mix of smart deals and military action helped bring most of Italy together under King Victor Emmanuel II.\n",
      "\n",
      "Q9. The student mentioned the Frankfurt Assembly. What were the main goals of the Frankfurt Assembly, and why did their efforts to unify Germany ultimately fail?\n",
      "Ans: The Frankfurt Assembly wanted to create a single German country with a constitution and a parliament. They met in 1848 and wrote up a constitution that would make Germany an empire with an elected parliament and a hereditary emperor. But the king of Prussia, Frederick William IV, refused to become emperor because the offer came from the people, not the other princes. Also, the assembly didn’t have much real power—many rulers and the army didn’t support it, and the middle-class leaders didn’t get along with workers and other groups. So, in the end, their plan failed and the old rulers stayed in charge until Bismarck united Germany later by force.\n",
      "\n",
      "Q10. How did the concept of popular sovereignty influence the rise of nationalism in Europe, and what were some of the challenges in implementing this idea in practice?\n",
      "Ans: Popular sovereignty means the people are supposed to have the power to choose their government. This idea made a lot of people in Europe want to form their own countries where they could vote and have rights. It inspired revolutions and movements for national unity. But in practice, it was hard to make it work because kings and nobles didn’t want to give up power, and sometimes the people themselves didn’t agree on who should be included in the nation. Also, even when there were elections, sometimes only a small group could vote, or the government ignored what people wanted. So, while the idea was really popular, actually making it happen was a lot more complicated.\n",
      "\n",
      "\n"
     ]
    }
   ],
   "source": [
    "print(qna)"
   ]
  },
  {
   "cell_type": "code",
   "execution_count": 14,
   "id": "24a25927",
   "metadata": {},
   "outputs": [],
   "source": [
    "from components.qna_judge import judge\n",
    "\n",
    "evaluation_report = judge.qna_check_and_scoring(\n",
    "   llm=llm,\n",
    "   provider=provider,\n",
    "   doc_result=doc_result,\n",
    "   trans_result=trans_result,\n",
    "   analysis=analysis,\n",
    "   qna=qna\n",
    ")"
   ]
  },
  {
   "cell_type": "code",
   "execution_count": 15,
   "id": "694f5ea0",
   "metadata": {},
   "outputs": [
    {
     "data": {
      "text/markdown": [
       "## Student Performance Evaluation\n",
       "\n",
       "### **Total Score**: 78/100\n",
       "\n",
       "### **Scoring Breakdown**\n",
       "| Evaluation Category  | Max Points | Awarded Points | Justification Snippet / Rationale                                     |\n",
       "|----------------------|------------|----------------|-----------------------------------------------------------------------|\n",
       "| **Accuracy Check**   | 30         | 24        | Mostly accurate recall of events and figures, some inaccuracies noted.  |\n",
       "| **Depth Analysis**   | 25         | 18        | Demonstrates some understanding of cause-effect, but lacks depth.       |\n",
       "| **Completeness**     | 20         | 16        | Covers many key areas, but omits some important details.               |\n",
       "| **Conceptual Clarity**| 15         | 12        | Generally clear, but some terminology is used loosely.                |\n",
       "| **Critical Analysis**| 10         | 8        | Shows some insight, but lacks strong argumentation.                   |\n",
       "| **TOTAL**            | **100**    | **78**| **Overall Assessment Summary**                                          |\n",
       "\n",
       "---\n",
       "\n",
       "### **Detailed Feedback**\n",
       "\n",
       "#### Strong Areas\n",
       "*   The student demonstrates a good understanding of the key figures and events in the Italian and German unification processes, correctly identifying Mazzini, Cavour, Garibaldi, Bismarck, and their respective roles. This aligns well with the LEARNING MATERIAL (Learning Material) sections on \"Unification of Italy\" and \"Unification of Germany.\"\n",
       "*   The student accurately recalls the main goal of the Congress of Vienna: \"Their main goal was to make sure no one country could become too powerful again, like France had under Napoleon.\" This aligns with the LEARNING MATERIAL (Learning Material) section on \"New conservation after 1815 and preservation of traditional institution.\"\n",
       "*   The student correctly identifies the role of female allegories like Marianne and Germania in representing nations and fostering a sense of unity. This aligns with the LEARNING MATERIAL (Learning Material) section on \"Visualizing the Nation.\"\n",
       "\n",
       "#### Areas for Improvement & Gap Analysis\n",
       "*   **Factual Errors**:\n",
       "        *   The student states that Cavour \"arranged plebiscites (votes) in the central Italian states to join Piedmont, and he was careful not to upset other big countries too much.\" While Cavour did orchestrate plebiscites, the LEARNING MATERIAL (Learning Material) doesn't explicitly mention his concern about upsetting other big countries in this context. This is an interpretation, not a directly stated fact.\n",
       "        *   The student states that Germania \"had a crown of oak leaves, which stood for heroism.\" While correct, the LEARNING MATERIAL (Learning Material) states \"Germania wears a crown of oak leaves as German oak stands for heroism.\" The student should be more precise in their language.\n",
       "    *   **Conceptual Gaps**:\n",
       "        *   The student understands the *what* of the Congress of Vienna but not the *why* in sufficient depth. They need to understand the underlying ideology of conservatism that drove the Congress's decisions.\n",
       "        *   The student needs to understand the specific economic policies and infrastructure developments that facilitated the rise of nationalism, beyond just mentioning \"railways and better communication.\"\n",
       "    *   **Omissions**:\n",
       "        *   The student omits the role of Romanticism in fueling nationalist sentiment. The LEARNING MATERIAL (Learning Material) implicitly touches on this through the discussion of visualizing the nation, but the student doesn't make the connection explicit.\n",
       "        *   The student fails to mention the specific challenges faced by the Frankfurt Assembly, such as the lack of a strong military and the divisions among its members.\n",
       "    *   **Vague Assertions**:\n",
       "        *   The statement \"This made people think more about being part of one big nation instead of lots of small states\" needs more specific evidence from the LEARNING MATERIAL (Learning Material) regarding the role of economic integration and standardized laws in fostering national identity.\n",
       "        *   The statement \"It’s kind of like the more they tried to stop nationalism, the more people wanted it\" is a generalization that needs to be supported with specific examples of resistance and revolutionary movements.\n",
       "\n",
       "---\n",
       "\n",
       "### **Misconception Analysis**\n",
       "| Identified Misconception (from Q&A) | Relevant Material (Learning Material Excerpt/Ref) | Correction / Clarification |\n",
       "|-------------------------------------------|--------------------------------------------|----------------------------|\n",
       "| \"Cavour arranged plebiscites (votes) in the central Italian states to join Piedmont, and he was careful not to upset other big countries too much.\" | LEARNING MATERIAL focuses on Cavour's diplomatic maneuvers with France and Austria. | While Cavour was a skilled diplomat, the primary focus was on strategic alliances and military action, not solely on avoiding upsetting other powers during the plebiscites. |\n",
       "| \"Germania was for Germany and had a crown of oak leaves, which stood for heroism.\" | \"Germania wears a crown of oak leaves as German oak stands for heroism.\" | The student is correct, but should be more precise in their language, mirroring the LEARNING MATERIAL. |\n",
       "\n",
       "---\n",
       "\n",
       "### **Personalized Learning Path**\n",
       "\n",
       "#### 1. Immediate Focus Areas:\n",
       "        *   Review the ideological underpinnings of the Congress of Vienna and the Concert of Europe.\n",
       "        *   Deepen understanding of the economic factors that contributed to the rise of nationalism.\n",
       "        *   Practice providing specific examples to support general statements about historical trends.\n",
       "\n",
       "#### 2. Resource Recommendations:\n",
       "        *   **Primary Material Review**: Focus on the sections in the LEARNING MATERIAL (Learning Material) related to the Congress of Vienna, economic changes, and the role of Romanticism.\n",
       "        *   **Prior Knowledge Link**: Revisit the student's initial understanding of nationalism and compare it to the more nuanced understanding presented in the LEARNING MATERIAL (Learning Material).\n",
       "        *   **Visual Aid**: Consider a map of Europe before and after the Congress of Vienna to visualize the territorial changes.\n",
       "        *   **Further Reading/Practice**: Research primary source excerpts from Metternich or other key figures of the Congress of Vienna.\n",
       "\n",
       "#### 3. Skill-Building Exercises:\n",
       "        *   **Accuracy Drill**: Create a timeline of the key events of the Congress of Vienna, including the major decisions and the motivations behind them.\n",
       "        *   **Analysis Practice**: Write a short paragraph explaining how industrialization and economic integration contributed to the rise of nationalism in Germany.\n",
       "        *   **Argumentation**: Outline an argument comparing the goals and methods of Cavour and Bismarck in unifying Italy and Germany, respectively.\n",
       "\n",
       "---\n",
       "\n",
       "### **Detailed Rubric Application Notes**\n",
       "*   **Accuracy Check**: Awarded 24/30. The student demonstrates a good general understanding of the key events and figures, but there are some inaccuracies in the details, as noted above.\n",
       "*   **Depth Analysis**: Awarded 18/25. The student shows some understanding of cause-and-effect relationships, but lacks a deeper analysis of the underlying ideologies and social forces at play.\n",
       "*   **Completeness**: Awarded 16/20. The student covers many of the key areas, but omits some important details, such as the role of Romanticism and the specific challenges faced by the Frankfurt Assembly.\n",
       "*   **Conceptual Clarity**: Awarded 12/15. The student generally uses terminology correctly, but there are some instances where the language is vague or imprecise.\n",
       "*   **Critical Analysis**: Awarded 8/10. The student shows some insight, but lacks strong argumentation and doesn't always provide specific evidence to support their claims.\n",
       "\n",
       "**End of Evaluation**"
      ],
      "text/plain": [
       "<IPython.core.display.Markdown object>"
      ]
     },
     "metadata": {},
     "output_type": "display_data"
    }
   ],
   "source": [
    "display(Markdown(evaluation_report))"
   ]
  },
  {
   "cell_type": "code",
   "execution_count": 16,
   "id": "fcc00427",
   "metadata": {},
   "outputs": [
    {
     "name": "stdout",
     "output_type": "stream",
     "text": [
      "Evaluation report saved to evaluation_report.md\n"
     ]
    }
   ],
   "source": [
    "with open(\"evaluation_report.md\", \"w\") as f:\n",
    "    f.write(evaluation_report)\n",
    "print(\"Evaluation report saved to evaluation_report.md\")"
   ]
  }
 ],
 "metadata": {
  "kernelspec": {
   "display_name": ".venv",
   "language": "python",
   "name": "python3"
  },
  "language_info": {
   "codemirror_mode": {
    "name": "ipython",
    "version": 3
   },
   "file_extension": ".py",
   "mimetype": "text/x-python",
   "name": "python",
   "nbconvert_exporter": "python",
   "pygments_lexer": "ipython3",
   "version": "3.12.3"
  }
 },
 "nbformat": 4,
 "nbformat_minor": 5
}
